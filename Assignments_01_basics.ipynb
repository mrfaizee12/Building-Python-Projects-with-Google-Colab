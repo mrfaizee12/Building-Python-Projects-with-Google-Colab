{
  "nbformat": 4,
  "nbformat_minor": 0,
  "metadata": {
    "colab": {
      "provenance": [],
      "authorship_tag": "ABX9TyNFSM2XP+kmR5ld5sgAal8d",
      "include_colab_link": true
    },
    "kernelspec": {
      "name": "python3",
      "display_name": "Python 3"
    },
    "language_info": {
      "name": "python"
    }
  },
  "cells": [
    {
      "cell_type": "markdown",
      "metadata": {
        "id": "view-in-github",
        "colab_type": "text"
      },
      "source": [
        "<a href=\"https://colab.research.google.com/github/mrfaizee12/Building-Python-Projects-with-Google-Colab/blob/main/Assignments_01_basics.ipynb\" target=\"_parent\"><img src=\"https://colab.research.google.com/assets/colab-badge.svg\" alt=\"Open In Colab\"/></a>"
      ]
    },
    {
      "cell_type": "markdown",
      "source": [
        "**Assignments 01**\n",
        "\n",
        "**01_basics**\n",
        "\n",
        "**00_joke_bot**\n",
        "\n",
        "Problem Statement\n",
        "\n",
        "Write a simple joke bot. The bot starts by asking the user what they want. However, your program will only respond to one response: Joke.\n",
        "\n",
        "If the user enters Joke then we will print out a single joke. Each time the joke is always the same:\n",
        "\n",
        "Here is a joke for you! Panaversity GPT - Sophia is heading out to the grocery store. A programmer tells her: get a liter of milk, and if they have eggs, get 12. Sophia returns with 13 liters of milk. The programmer asks why and Sophia replies: 'because they had eggs'\n",
        "\n",
        "If the user enters anything else we print out:\n",
        "\n",
        "Sorry I only tell jokes\n",
        "\n",
        "You should use the three constants:\n",
        "\n",
        "PROMPT JOKE SORRY\n",
        "\n",
        "which contain the strings for the prompt asked to the user, the joke to print out if the user enters Joke and the sorry message if the user enters anything else.\n",
        "\n",
        "Your program will need to use an if statement which checks if the user input is Joke:\n",
        "\n",
        "if user_input == \"Joke\":\n",
        "\n",
        "Recall that == is a comparison which tests if two values are equal to one another.\n",
        "\n",
        "Here is a full run of the program (user input is in blue):\n",
        "\n",
        "What do you want? Joke Here is a joke for you! Panaversity GPT - Sophia is heading out to the grocery store. A programmer tells her: get a liter of milk, and if they have eggs, get 12. Sophia returns with 13 liters of milk. The programmer asks why and Sophia replies: 'because they had eggs'"
      ],
      "metadata": {
        "id": "inT-CAHCTeC4"
      }
    },
    {
      "cell_type": "code",
      "source": [
        "# Constants\n",
        "PROMPT: str = \"What do you want? \"\n",
        "JOKE: str = \"\"\"Here is a joke for you!\n",
        "Panaversity GPT - Sophia is heading out to the grocery store.\n",
        "A programmer tells her: get a liter of milk, and if they have eggs, get 12.\n",
        "Sophia returns with 13 liters of milk. The programmer asks why and Sophia replies:\n",
        "'because they had eggs'\"\"\"\n",
        "SORRY: str = \"Sorry I only tell jokes\"\n",
        "\n",
        "def joke_bot() -> None:\n",
        "    \"\"\"Asks the user what they want and tells a joke if they ask for it.\"\"\"\n",
        "    user_input: str = input(PROMPT).strip()  # Strip removes extra spaces\n",
        "\n",
        "    if user_input == \"Joke\":\n",
        "        print(JOKE)\n",
        "    else:\n",
        "        print(SORRY)\n",
        "\n",
        "# Run the joke bot\n",
        "if __name__ == \"__main__\":\n",
        "    joke_bot()\n"
      ],
      "metadata": {
        "colab": {
          "base_uri": "https://localhost:8080/"
        },
        "id": "X5GSAmyUV-P_",
        "outputId": "8d759bfe-e22c-43bf-dac8-225d0be8cb91"
      },
      "execution_count": 11,
      "outputs": [
        {
          "output_type": "stream",
          "name": "stdout",
          "text": [
            "What do you want? Joke\n",
            "Here is a joke for you! \n",
            "Panaversity GPT - Sophia is heading out to the grocery store. \n",
            "A programmer tells her: get a liter of milk, and if they have eggs, get 12. \n",
            "Sophia returns with 13 liters of milk. The programmer asks why and Sophia replies: \n",
            "'because they had eggs'\n"
          ]
        }
      ]
    },
    {
      "cell_type": "markdown",
      "source": [
        "**01_double_it**\n",
        "\n",
        "Problem Statement\n",
        "\n",
        "Write a program that asks a user to enter a number. Your program will then double that number and print out the result. It will repeat that process until the value is 100 or greater.\n",
        "\n",
        "For example if the user enters the number 2 you would then print:\n",
        "\n",
        "4 8 16 32 64 128\n",
        "\n",
        "Note that:\n",
        "\n",
        "2 doubled is 4\n",
        "\n",
        "4 doubled is 8\n",
        "\n",
        "8 doubled is 16\n",
        "\n",
        "and so on.\n",
        "\n",
        "We stop at 128 because that value is greater than 100.\n",
        "\n",
        "Maintain the current number in a variable named curr_value. When you double the number, you should be updating curr_value. Recall that you can double the value of curr_value using a line like:\n",
        "\n",
        "curr_value = curr_value * 2\n",
        "\n",
        "This program should have a while loop and the while loop condition should test if curr_value is less than 100. Thus, your program will have the line:\n",
        "\n",
        "while curr_value < 100:"
      ],
      "metadata": {
        "id": "IThaceYOW_Gf"
      }
    },
    {
      "cell_type": "code",
      "source": [
        "def double_until_hundred() -> None:\n",
        "    \"\"\"Asks the user for a number, doubles it until it's 100 or greater, and prints the results.\"\"\"\n",
        "    curr_value: int = int(input(\"Enter a number: \"))  # User input ko integer mai convert karna zaroori hai\n",
        "\n",
        "    while curr_value < 100:\n",
        "        curr_value *= 2  # Value ko double karna\n",
        "        print(curr_value, end=\" \")  # Output ko ek line mai rakhne ke liye end=\" \" use kiya\n",
        "\n",
        "# Run the function\n",
        "if __name__ == \"__main__\":\n",
        "    double_until_hundred()\n"
      ],
      "metadata": {
        "colab": {
          "base_uri": "https://localhost:8080/"
        },
        "id": "t4iISh4XXgtk",
        "outputId": "33b10c19-c617-4c70-be73-485b0e8d245f"
      },
      "execution_count": 12,
      "outputs": [
        {
          "output_type": "stream",
          "name": "stdout",
          "text": [
            "Enter a number: 10\n",
            "20 40 80 160 "
          ]
        }
      ]
    },
    {
      "cell_type": "markdown",
      "source": [
        "**02_liftoff**\n",
        "\n",
        "Problem Statement\n",
        "\n",
        "Write a program that prints out the calls for a spaceship that is about to launch. Countdown from 10 to 1 and then output Liftoff!\n",
        "\n",
        "Here's a sample run of the program:\n",
        "\n",
        "10 9 8 7 6 5 4 3 2 1 Liftoff!\n",
        "\n",
        "There are many ways to solve this problem. One approach is to use a for loop, and to use the for loop variable i. Recall that i will keep track of how many times the for loop has completed executing its body. As an example this code:\n",
        "\n",
        "for i in range(10): print(i)\n",
        "\n",
        "Will print out the values 0, 1, 2, 3, 4, 5, 6, 7, 8, 9. The values printed in liftoff are 10 minus the number of times the for loop has completed."
      ],
      "metadata": {
        "id": "wbU-P9VBXpgY"
      }
    },
    {
      "cell_type": "code",
      "source": [
        "def spaceship_countdown() -> None:\n",
        "    \"\"\"Prints a countdown from 10 to 1 followed by 'Liftoff!'.\"\"\"\n",
        "    for i in range(10, 0, -1):  # 10 se 1 tak countdown karega\n",
        "        print(i, end=\" \")  # Ek hi line mai output ke liye 'end=\" \"'\n",
        "    print(\"Liftoff!\")  # Aakhir mai Liftoff! print hoga\n",
        "\n",
        "# Run the function\n",
        "if __name__ == \"__main__\":\n",
        "    spaceship_countdown()\n"
      ],
      "metadata": {
        "colab": {
          "base_uri": "https://localhost:8080/"
        },
        "id": "HAE7e3KDXxtP",
        "outputId": "ad047959-b540-43b8-874e-f9b868b73fda"
      },
      "execution_count": 13,
      "outputs": [
        {
          "output_type": "stream",
          "name": "stdout",
          "text": [
            "10 9 8 7 6 5 4 3 2 1 Liftoff!\n"
          ]
        }
      ]
    },
    {
      "cell_type": "markdown",
      "source": [
        "**03_guess_my_number**\n",
        "\n",
        "Problem Statement\n",
        "\n",
        "Guess My Number\n",
        "\n",
        "I am thinking of a number between 0 and 99... Enter a guess: 50 Your guess is too high\n",
        "\n",
        "Enter a new number: 25 Your guess is too low\n",
        "\n",
        "Enter a new number: 40 Your guess is too low\n",
        "\n",
        "Enter a new number: 45 Your guess is too low\n",
        "\n",
        "Enter a new number: 48 Congrats! The number was: 48"
      ],
      "metadata": {
        "id": "GOBbJ8OhX7S3"
      }
    },
    {
      "cell_type": "code",
      "source": [
        "import random\n",
        "\n",
        "def guess_my_number() -> None:\n",
        "    \"\"\"User guesses a randomly generated number between 0 and 99.\"\"\"\n",
        "    secret_number: int = random.randint(0, 99)  # Random number generate karega\n",
        "    guess: int = -1  # Initial value jo range mai nahi hai\n",
        "\n",
        "    print(\"I am thinking of a number between 0 and 99...\")\n",
        "\n",
        "    while guess != secret_number:\n",
        "        guess = int(input(\"Enter a guess: \"))  # User ka input lein\n",
        "\n",
        "        if guess < secret_number:\n",
        "            print(\"Your guess is too low\\n\")\n",
        "        elif guess > secret_number:\n",
        "            print(\"Your guess is too high\\n\")\n",
        "\n",
        "    print(f\"Congrats! The number was: {secret_number}\")\n",
        "\n",
        "# Run the game\n",
        "if __name__ == \"__main__\":\n",
        "    guess_my_number()\n"
      ],
      "metadata": {
        "colab": {
          "base_uri": "https://localhost:8080/"
        },
        "id": "2_QG-uVGYOLv",
        "outputId": "5ff620c2-1786-4efb-b36e-fff7f7ba87d5"
      },
      "execution_count": 14,
      "outputs": [
        {
          "output_type": "stream",
          "name": "stdout",
          "text": [
            "I am thinking of a number between 0 and 99...\n",
            "Enter a guess: 45\n",
            "Your guess is too low\n",
            "\n",
            "Enter a guess: 60\n",
            "Your guess is too low\n",
            "\n",
            "Enter a guess: 70\n",
            "Your guess is too low\n",
            "\n",
            "Enter a guess: 80\n",
            "Your guess is too high\n",
            "\n",
            "Enter a guess: 75\n",
            "Your guess is too low\n",
            "\n",
            "Enter a guess: 76\n",
            "Your guess is too low\n",
            "\n",
            "Enter a guess: 77\n",
            "Your guess is too low\n",
            "\n",
            "Enter a guess: 78\n",
            "Congrats! The number was: 78\n"
          ]
        }
      ]
    },
    {
      "cell_type": "markdown",
      "source": [
        "**04_random_numbers**\n",
        "\n",
        "Problem Statement\n",
        "\n",
        "Print 10 random numbers in the range 1 to 100.\n",
        "\n",
        "Here is an example run:\n",
        "\n",
        "45 79 61 47 52 10 16 83 19 12\n",
        "\n",
        "Each time you run your program you should get different numbers\n",
        "\n",
        "81 76 70 1 27 63 96 100 32 92\n",
        "\n",
        "Recall that the python random library has a function randint which returns an integer in the range set by the parameters (inclusive). For example this call would produce a random integer between 1 and 6, which could include 1 and could include 6:\n",
        "\n",
        "value = random.randint(1, 6)"
      ],
      "metadata": {
        "id": "3RamMCaVYb5A"
      }
    },
    {
      "cell_type": "code",
      "source": [
        "import random\n",
        "\n",
        "def print_random_numbers() -> None:\n",
        "    \"\"\"Prints 10 random numbers in the range 1 to 100.\"\"\"\n",
        "    for _ in range(10):\n",
        "        print(random.randint(1, 100), end=\" \")  # Random number print karega\n",
        "\n",
        "    print()  # Newline for better formatting\n",
        "\n",
        "# Run the function\n",
        "if __name__ == \"__main__\":\n",
        "    print_random_numbers()\n"
      ],
      "metadata": {
        "colab": {
          "base_uri": "https://localhost:8080/"
        },
        "id": "KTpB-oSJYtPo",
        "outputId": "8409033b-4379-423e-b6ab-188ab5a19eb4"
      },
      "execution_count": 18,
      "outputs": [
        {
          "output_type": "stream",
          "name": "stdout",
          "text": [
            "4 21 11 11 91 100 70 40 76 21 \n"
          ]
        }
      ]
    }
  ]
}