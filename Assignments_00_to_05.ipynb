{
  "nbformat": 4,
  "nbformat_minor": 0,
  "metadata": {
    "colab": {
      "provenance": [],
      "authorship_tag": "ABX9TyN2tuaOCvieIKrnOWB1rIQi",
      "include_colab_link": true
    },
    "kernelspec": {
      "name": "python3",
      "display_name": "Python 3"
    },
    "language_info": {
      "name": "python"
    }
  },
  "cells": [
    {
      "cell_type": "markdown",
      "metadata": {
        "id": "view-in-github",
        "colab_type": "text"
      },
      "source": [
        "<a href=\"https://colab.research.google.com/github/mrfaizee12/Building-Python-Projects-with-Google-Colab/blob/main/Assignments_00_to_05.ipynb\" target=\"_parent\"><img src=\"https://colab.research.google.com/assets/colab-badge.svg\" alt=\"Open In Colab\"/></a>"
      ]
    },
    {
      "cell_type": "markdown",
      "source": [
        "**Assignments 00 to 07**\n",
        "\n",
        "**Step 00**\n",
        "\n",
        "**01_add_two_numbers**\n",
        "\n",
        "Problem Statement Write a Python program that takes two integer inputs from the user and calculates their sum. The program should perform the following tasks:\n",
        "\n",
        "Prompt the user to enter the first number.\n",
        "\n",
        "Read the input and convert it to an integer.\n",
        "\n",
        "Prompt the user to enter the second number.\n",
        "\n",
        "Read the input and convert it to an integer.\n",
        "\n",
        "Calculate the sum of the two numbers.\n",
        "\n",
        "Print the total sum with an appropriate message."
      ],
      "metadata": {
        "id": "1IF2SzK_cf_j"
      }
    },
    {
      "cell_type": "code",
      "source": [
        "def main():\n",
        "    # Prompt the user to enter the first number\n",
        "    num1 = int(input(\"Enter the first number: \"))\n",
        "\n",
        "    # Prompt the user to enter the second number\n",
        "    num2 = int(input(\"Enter the second number: \"))\n",
        "\n",
        "    # Calculate the sum\n",
        "    total = num1 + num2\n",
        "\n",
        "    # Print the total sum\n",
        "    print(f\"The sum of {num1} and {num2} is {total}.\")\n",
        "\n",
        "# Run the main function\n",
        "if __name__ == \"__main__\":\n",
        "    main()\n"
      ],
      "metadata": {
        "colab": {
          "base_uri": "https://localhost:8080/"
        },
        "id": "2d1gPDO7cm-c",
        "outputId": "a73dcfac-c3f0-4093-c129-2b7220c41597"
      },
      "execution_count": null,
      "outputs": [
        {
          "output_type": "stream",
          "name": "stdout",
          "text": [
            "Enter the first number: 2\n",
            "Enter the second number: 4\n",
            "The sum of 2 and 4 is 6.\n"
          ]
        }
      ]
    },
    {
      "cell_type": "markdown",
      "source": [
        "**By Streamlit**"
      ],
      "metadata": {
        "id": "76wOoUmMeN08"
      }
    },
    {
      "cell_type": "code",
      "source": [
        "import streamlit as st\n",
        "\n",
        "def main():\n",
        "    st.title(\"Sum Calculator\")\n",
        "\n",
        "    # Input fields for user input\n",
        "    num1 = st.number_input(\"Enter the first number:\", step=1, format=\"%d\")\n",
        "    num2 = st.number_input(\"Enter the second number:\", step=1, format=\"%d\")\n",
        "\n",
        "    # Calculate the sum when the button is clicked\n",
        "    if st.button(\"Calculate Sum\"):\n",
        "        total = num1 + num2\n",
        "        st.success(f\"The sum of {num1} and {num2} is {total}.\")\n",
        "\n",
        "# Run the main function\n",
        "if __name__ == \"__main__\":\n",
        "    main()\n"
      ],
      "metadata": {
        "id": "cOEU8h17ejl0"
      },
      "execution_count": null,
      "outputs": []
    },
    {
      "cell_type": "markdown",
      "source": [
        "**02_agreement_bot**\n",
        "\n",
        "Problem Statement\n",
        "Write a program which asks the user what their favorite animal is, and then always responds with \"My favorite animal is also ___!\" (the blank should be filled in with the user-inputted animal, of course)."
      ],
      "metadata": {
        "id": "jPMIM4Syfus8"
      }
    },
    {
      "cell_type": "code",
      "source": [
        "animal = input(\"What's your favorite animal? \")\n",
        "print(f\"My favorite animal is also {animal}!\")\n"
      ],
      "metadata": {
        "colab": {
          "base_uri": "https://localhost:8080/"
        },
        "id": "nQyQVxVpg-eK",
        "outputId": "8115cd93-02bb-499e-b3f7-e026099f063b"
      },
      "execution_count": null,
      "outputs": [
        {
          "output_type": "stream",
          "name": "stdout",
          "text": [
            "What's your favorite animal? Tiger\n",
            "My favorite animal is also Tiger!\n"
          ]
        }
      ]
    },
    {
      "cell_type": "markdown",
      "source": [
        "**By Streamlit**"
      ],
      "metadata": {
        "id": "ITEcIN_ShRFJ"
      }
    },
    {
      "cell_type": "code",
      "source": [
        "import streamlit as st\n",
        "\n",
        "st.title(\"Favorite Animal\")\n",
        "animal = st.text_input(\"What's your favorite animal?\")\n",
        "\n",
        "if animal:\n",
        "    st.write(f\"My favorite animal is also {animal}!\")\n"
      ],
      "metadata": {
        "id": "2ifriQ9zhW7q"
      },
      "execution_count": null,
      "outputs": []
    },
    {
      "cell_type": "markdown",
      "source": [
        "**03_fahrenheit_to_celsius**\n",
        "\n",
        "Problem Statement\n",
        "Write a program which prompts the user for a temperature in Fahrenheit (this can be a number with decimal places!) and outputs the temperature converted to Celsius."
      ],
      "metadata": {
        "id": "K_7MOvjQjDpa"
      }
    },
    {
      "cell_type": "code",
      "source": [
        "fahrenheit = float(input(\"Enter temperature in Fahrenheit: \"))\n",
        "celsius = (fahrenheit - 32) * 5.0 / 9.0\n",
        "print(f\"Temperature in Celsius: {celsius:.2f}c\")\n"
      ],
      "metadata": {
        "colab": {
          "base_uri": "https://localhost:8080/"
        },
        "id": "P4JW_wBSj--_",
        "outputId": "ea692e0f-575b-430a-fdaf-bc3a58292c31"
      },
      "execution_count": null,
      "outputs": [
        {
          "output_type": "stream",
          "name": "stdout",
          "text": [
            "Enter temperature in Fahrenheit: 70\n",
            "Temperature in Celsius: 21.11c\n"
          ]
        }
      ]
    },
    {
      "cell_type": "markdown",
      "source": [
        "**By Streamlt**"
      ],
      "metadata": {
        "id": "_zL_6GvVm7rL"
      }
    },
    {
      "cell_type": "code",
      "source": [
        "import streamlit as st\n",
        "\n",
        "st.title(\"Fahrenheit to Celsius Converter\")\n",
        "fahrenheit = st.number_input(\"Enter temperature in Fahrenheit:\", format=\"%.2f\")\n",
        "\n",
        "if st.button(\"Convert\"):\n",
        "    celsius = (fahrenheit - 32) * 5.0 / 9.0\n",
        "    st.write(f\"Temperature in Celsius: {celsius:.2f}\")\n"
      ],
      "metadata": {
        "id": "oV0SbOJKnCBL"
      },
      "execution_count": null,
      "outputs": []
    },
    {
      "cell_type": "markdown",
      "source": [
        "**04_how_old_are_they**\n",
        "\n",
        "Problem Statement\n",
        "Write a program to solve this age-related riddle!\n",
        "\n",
        "Anton, Beth, Chen, Drew, and Ethan are all friends. Their ages are as follows:\n",
        "\n",
        "Anton is 21 years old.\n",
        "\n",
        "Beth is 6 years older than Anton.\n",
        "\n",
        "Chen is 20 years older than Beth.\n",
        "\n",
        "Drew is as old as Chen's age plus Anton's age.\n",
        "\n",
        "Ethan is the same age as Chen."
      ],
      "metadata": {
        "id": "kY7OfJ5knHV_"
      }
    },
    {
      "cell_type": "code",
      "source": [
        "anton = 21\n",
        "beth = anton + 6\n",
        "chen = beth + 20\n",
        "drew = chen + anton\n",
        "ethan = chen\n",
        "\n",
        "print(f\"Anton is {anton}\")\n",
        "print(f\"Beth is {beth}\")\n",
        "print(f\"Chen is {chen}\")\n",
        "print(f\"Drew is {drew}\")\n",
        "print(f\"Ethan is {ethan}\")\n"
      ],
      "metadata": {
        "colab": {
          "base_uri": "https://localhost:8080/"
        },
        "id": "Y3ennl3lnzec",
        "outputId": "b73c9bb4-4b7c-49d3-ff39-5927ed788447"
      },
      "execution_count": null,
      "outputs": [
        {
          "output_type": "stream",
          "name": "stdout",
          "text": [
            "Anton is 21\n",
            "Beth is 27\n",
            "Chen is 47\n",
            "Drew is 68\n",
            "Ethan is 47\n"
          ]
        }
      ]
    },
    {
      "cell_type": "markdown",
      "source": [
        "**by streamlit**"
      ],
      "metadata": {
        "id": "gqq2KKCdqbzE"
      }
    },
    {
      "cell_type": "code",
      "source": [
        "import streamlit as st\n",
        "\n",
        "st.title(\"Age Riddle Solver\")\n",
        "\n",
        "anton = 21\n",
        "beth = anton + 6\n",
        "chen = beth + 20\n",
        "drew = chen + anton\n",
        "ethan = chen\n",
        "\n",
        "st.write(f\"Anton is {anton}\")\n",
        "st.write(f\"Beth is {beth}\")\n",
        "st.write(f\"Chen is {chen}\")\n",
        "st.write(f\"Drew is {drew}\")\n",
        "st.write(f\"Ethan is {ethan}\")\n"
      ],
      "metadata": {
        "id": "jlS-pK3NqgPj"
      },
      "execution_count": null,
      "outputs": []
    },
    {
      "cell_type": "markdown",
      "source": [
        "**05_triangle_perimete**\n",
        "\n",
        "Problem Statement\n",
        "\n",
        "Prompt the user to enter the lengths of each side of a triangle and then calculate and print the perimeter of the triangle (the sum of all of the side lengths).\n",
        "\n",
        "Here's a sample run of the program (user input is in bold italics):\n",
        "\n",
        "What is the length of side 1? 3\n",
        "\n",
        "What is the length of side 2? 4\n",
        "\n",
        "What is the length of side 3? 5.5\n",
        "\n",
        "The perimeter of the triangle is 12.5"
      ],
      "metadata": {
        "id": "PGtMm3edkmC5"
      }
    },
    {
      "cell_type": "code",
      "source": [
        "side1 = float(input(\"What is the length of side 1? \"))\n",
        "side2 = float(input(\"What is the length of side 2? \"))\n",
        "side3 = float(input(\"What is the length of side 3? \"))\n",
        "\n",
        "perimeter = side1 + side2 + side3\n",
        "\n",
        "print(f\"The perimeter of the triangle is {perimeter}\")\n"
      ],
      "metadata": {
        "colab": {
          "base_uri": "https://localhost:8080/"
        },
        "id": "kjGvXu2hlh3w",
        "outputId": "d168d1f0-69be-41cf-a608-10ac3452b6e1"
      },
      "execution_count": null,
      "outputs": [
        {
          "output_type": "stream",
          "name": "stdout",
          "text": [
            "What is the length of side 1? 4\n",
            "What is the length of side 2? 6\n",
            "What is the length of side 3? 2.1\n",
            "The perimeter of the triangle is 12.1\n"
          ]
        }
      ]
    },
    {
      "cell_type": "markdown",
      "source": [
        "**06_square_number**\n",
        "\n",
        "Problem Statement\n",
        "\n",
        "Ask the user for a number and print its square (the product of the number times itself).\n",
        "\n",
        "Here's a sample run of the program (user input is in bold italics):\n",
        "\n",
        "Type a number to see its square: 4\n",
        "\n",
        "4.0 squared is 16.0"
      ],
      "metadata": {
        "id": "9o_GHnffl5D_"
      }
    },
    {
      "cell_type": "code",
      "source": [
        "number = float(input(\"Type a number to see its square: \"))\n",
        "square = number * number\n",
        "\n",
        "print(f\"{number} squared is {square}\")\n"
      ],
      "metadata": {
        "colab": {
          "base_uri": "https://localhost:8080/"
        },
        "id": "qqdKTJytmRh4",
        "outputId": "2a2e53fd-42a1-4a24-8060-6241b687234a"
      },
      "execution_count": null,
      "outputs": [
        {
          "output_type": "stream",
          "name": "stdout",
          "text": [
            "Type a number to see its square: 6\n",
            "6.0 squared is 36.0\n"
          ]
        }
      ]
    },
    {
      "cell_type": "markdown",
      "source": [
        "**step 01**\n",
        "\n",
        "**01_expression**\n",
        "\n",
        "**01_dicesimulator**\n",
        "\n",
        "Problem Statement\n",
        "\n",
        "Simulate rolling two dice, three times. Prints the results of each die roll. This program is used to show how variable scope works."
      ],
      "metadata": {
        "id": "36Ss-LC3m3zo"
      }
    },
    {
      "cell_type": "code",
      "source": [
        "import random\n",
        "\n",
        "def roll_dice():\n",
        "    return random.randint(1, 6), random.randint(1, 6)\n",
        "\n",
        "def main():\n",
        "    for i in range(3):\n",
        "        die1, die2 = roll_dice()\n",
        "        print(f\"Roll {i+1}: Die 1 = {die1}, Die 2 = {die2}\")\n",
        "\n",
        "if __name__ == \"__main__\":\n",
        "    main()\n"
      ],
      "metadata": {
        "colab": {
          "base_uri": "https://localhost:8080/"
        },
        "id": "clM_cWUSnxgA",
        "outputId": "0db5643c-a387-41b2-ed2f-5ed9212eb01f"
      },
      "execution_count": null,
      "outputs": [
        {
          "output_type": "stream",
          "name": "stdout",
          "text": [
            "Roll 1: Die 1 = 2, Die 2 = 6\n",
            "Roll 2: Die 1 = 3, Die 2 = 5\n",
            "Roll 3: Die 1 = 2, Die 2 = 3\n"
          ]
        }
      ]
    },
    {
      "cell_type": "markdown",
      "source": [
        "**02_e=mc2**\n",
        "\n",
        "Problem Statement\n",
        "\n",
        "Write a program that continually reads in mass from the user and then outputs the equivalent energy using Einstein's mass-energy equivalence formula (E stands for energy, m stands for mass, and C is the speed of light:\n",
        "\n",
        "E = m * c**2\n",
        "\n",
        "Almost 100 years ago, Albert Einstein famously discovered that mass and energy are interchangeable and are related by the above equation. You should ask the user for mass (m) in kilograms and use a constant value for the speed of light -- C = 299792458 m/s.\n",
        "\n",
        "Here's a sample run of the program (user input is in bold italics):\n",
        "\n",
        "Enter kilos of mass: 100\n",
        "\n",
        "e = m * C^2...\n",
        "\n",
        "m = 100.0 kg\n",
        "\n",
        "C = 299792458 m/s\n",
        "\n",
        "8.987551787368176e+18 joules of energy!"
      ],
      "metadata": {
        "id": "1ctpSJRWn8wn"
      }
    },
    {
      "cell_type": "code",
      "source": [
        "C = 299792458  # Speed of light in m/s\n",
        "\n",
        "def calculate_energy(mass):\n",
        "    return mass * C**2\n",
        "\n",
        "while True:\n",
        "    mass_input = input(\"Enter kilos of mass (or type 'exit' to quit): \")\n",
        "\n",
        "    if mass_input.lower() == \"exit\":\n",
        "        print(\"Exiting the program. Goodbye!\")\n",
        "        break  # Loop se bahar nikalne ke liye\n",
        "\n",
        "    try:\n",
        "        mass = float(mass_input)\n",
        "        energy = calculate_energy(mass)\n",
        "        print(\"e = m * C^2...\")\n",
        "        print(f\"m = {mass} kg\")\n",
        "        print(f\"C = {C} m/s\")\n",
        "        print(f\"{energy} joules of energy!\\n\")\n",
        "    except ValueError:\n",
        "        print(\"Invalid input! Please enter a valid number.\")\n"
      ],
      "metadata": {
        "colab": {
          "base_uri": "https://localhost:8080/"
        },
        "id": "SEclWxPPpUCk",
        "outputId": "e692c417-675f-43ac-8b47-ea26534a9069"
      },
      "execution_count": null,
      "outputs": [
        {
          "output_type": "stream",
          "name": "stdout",
          "text": [
            "Enter kilos of mass (or type 'exit' to quit): 200\n",
            "e = m * C^2...\n",
            "m = 200.0 kg\n",
            "C = 299792458 m/s\n",
            "1.7975103574736351e+19 joules of energy!\n",
            "\n",
            "Enter kilos of mass (or type 'exit' to quit): 50\n",
            "e = m * C^2...\n",
            "m = 50.0 kg\n",
            "C = 299792458 m/s\n",
            "4.493775893684088e+18 joules of energy!\n",
            "\n",
            "Enter kilos of mass (or type 'exit' to quit): 100\n",
            "e = m * C^2...\n",
            "m = 100.0 kg\n",
            "C = 299792458 m/s\n",
            "8.987551787368176e+18 joules of energy!\n",
            "\n",
            "Enter kilos of mass (or type 'exit' to quit): exit\n",
            "Exiting the program. Goodbye!\n"
          ]
        }
      ]
    },
    {
      "cell_type": "markdown",
      "source": [
        "**03_feet_to_inches**\n",
        "\n",
        "Problem Statement\n",
        "\n",
        "Converts feet to inches. Feet is an American unit of measurement. There are 12 inches per foot. Foot is the singular, and feet is the plural."
      ],
      "metadata": {
        "id": "it_6exvfpmUk"
      }
    },
    {
      "cell_type": "code",
      "source": [
        "def feet_to_inches(feet):\n",
        "    return feet * 12\n",
        "\n",
        "def main():\n",
        "    feet = float(input(\"Enter length in feet: \"))\n",
        "    inches = feet_to_inches(feet)\n",
        "    print(f\"{feet} feet is equal to {inches} inches.\")\n",
        "\n",
        "if __name__ == \"__main__\":\n",
        "    main()\n"
      ],
      "metadata": {
        "colab": {
          "base_uri": "https://localhost:8080/"
        },
        "id": "pbghVViGp4WN",
        "outputId": "bd7127ec-dfbf-42d1-d16e-fe07ff259649"
      },
      "execution_count": null,
      "outputs": [
        {
          "output_type": "stream",
          "name": "stdout",
          "text": [
            "Enter length in feet: 10\n",
            "10.0 feet is equal to 120.0 inches.\n"
          ]
        }
      ]
    },
    {
      "cell_type": "markdown",
      "source": [
        "**04_pythagorean_theorem**\n",
        "\n",
        "Problem Statement\n",
        "\n",
        "Write a program that asks the user for the lengths of the two perpendicular sides of a right triangle and outputs the length of the third side (the hypotenuse) using the Pythagorean theorem!\n",
        "\n",
        "The Pythagorean theorem, named after the ancient Greek thinker, Pythagoras, is a fundamental relation in geometry. It states that in a right triangle, the square of the hypotenuse is equal to the sum of the square of the other two sides.\n",
        "\n",
        "For instance, let's consider a right triangle ABC, with the right angle located at C. According to the Pythagorean theorem:\n",
        "\n",
        "BC ** 2 = AB ** 2 + AC ** 2\n",
        "\n",
        "Your code should read in the lengths of the sides AB and AC, and that outputs the length of the hypotenuse (BC). You will probably find math.sqrt() to be useful.\n",
        "\n",
        "Here's a sample run of the program (user input is in bold italics):\n",
        "\n",
        "Enter the length of AB: 3\n",
        "\n",
        "Enter the length of AC: 4\n",
        "\n",
        "The length of BC (the hypotenuse) is: 5.0"
      ],
      "metadata": {
        "id": "xAQk91waqCWV"
      }
    },
    {
      "cell_type": "code",
      "source": [
        "import math\n",
        "\n",
        "def calculate_hypotenuse(ab, ac):\n",
        "    return math.sqrt(ab**2 + ac**2)\n",
        "\n",
        "def main():\n",
        "    ab = float(input(\"Enter the length of AB: \"))\n",
        "    ac = float(input(\"Enter the length of AC: \"))\n",
        "    bc = calculate_hypotenuse(ab, ac)\n",
        "    print(f\"The length of BC (the hypotenuse) is: {bc}\")\n",
        "\n",
        "if __name__ == \"__main__\":\n",
        "    main()\n"
      ],
      "metadata": {
        "colab": {
          "base_uri": "https://localhost:8080/"
        },
        "id": "AbSDbcD9qPf9",
        "outputId": "385c44d1-b119-4b10-d39d-50ee07efb5c1"
      },
      "execution_count": null,
      "outputs": [
        {
          "output_type": "stream",
          "name": "stdout",
          "text": [
            "Enter the length of AB: 5\n",
            "Enter the length of AC: 4\n",
            "The length of BC (the hypotenuse) is: 6.4031242374328485\n"
          ]
        }
      ]
    },
    {
      "cell_type": "markdown",
      "source": [
        "**05_remainder_division**\n",
        "\n",
        "Problem Statement\n",
        "\n",
        "Ask the user for two numbers, one at a time, and then print the result of dividing the first number by the second and also the remainder of the division.\n",
        "\n",
        "Here's a sample run of the program (user input is in bold italics):\n",
        "\n",
        "Please enter an integer to be divided: 5\n",
        "\n",
        "Please enter an integer to divide by: 3\n",
        "\n",
        "The result of this division is 1 with a remainder of 2"
      ],
      "metadata": {
        "id": "-lpWLLsSqzHE"
      }
    },
    {
      "cell_type": "code",
      "source": [
        "def main():\n",
        "    num1 = int(input(\"Please enter an integer to be divided: \"))\n",
        "    num2 = int(input(\"Please enter an integer to divide by: \"))\n",
        "    quotient = num1 // num2\n",
        "    remainder = num1 % num2\n",
        "    print(f\"The result of this division is {quotient} with a remainder of {remainder}\")\n",
        "\n",
        "if __name__ == \"__main__\":\n",
        "    main()\n"
      ],
      "metadata": {
        "colab": {
          "base_uri": "https://localhost:8080/"
        },
        "id": "sOoEvWiarTLA",
        "outputId": "38aa098d-d128-4e92-d126-59bcee42e7ad"
      },
      "execution_count": null,
      "outputs": [
        {
          "output_type": "stream",
          "name": "stdout",
          "text": [
            "Please enter an integer to be divided: 10\n",
            "Please enter an integer to divide by: 2\n",
            "The result of this division is 5 with a remainder of 0\n"
          ]
        }
      ]
    },
    {
      "cell_type": "markdown",
      "source": [
        "**06_rolldic**\n",
        "\n",
        "Problem Statement\n",
        "\n",
        "Simulate rolling two dice, and prints results of each roll as well as the total."
      ],
      "metadata": {
        "id": "VFspDyU7rfi6"
      }
    },
    {
      "cell_type": "code",
      "source": [
        "import random\n",
        "\n",
        "def roll_dice():\n",
        "    die1 = random.randint(1, 6)\n",
        "    die2 = random.randint(1, 6)\n",
        "    total = die1 + die2\n",
        "    print(f\"Die 1: {die1}, Die 2: {die2}, Total: {total}\")\n",
        "\n",
        "def main():\n",
        "    roll_dice()\n",
        "\n",
        "if __name__ == \"__main__\":\n",
        "    main()\n"
      ],
      "metadata": {
        "colab": {
          "base_uri": "https://localhost:8080/"
        },
        "id": "ebFiPv0lrtzy",
        "outputId": "a70c7eed-e5d3-4a21-83af-abdd82b799e7"
      },
      "execution_count": null,
      "outputs": [
        {
          "output_type": "stream",
          "name": "stdout",
          "text": [
            "Die 1: 2, Die 2: 5, Total: 7\n"
          ]
        }
      ]
    },
    {
      "cell_type": "markdown",
      "source": [
        "**06_seconds_in_year**\n",
        "\n",
        "Problem Statement\n",
        "\n",
        "Use Python to calculate the number of seconds in a year, and tell the user what the result is in a nice print statement that looks like this (of course the value 5 should be the calculated number instead):\n",
        "\n",
        "There are 5 seconds in a year!\n",
        "\n",
        "You should use constants for this exercise -- there are 365 days in a year, 24 hours in a day, 60 minutes in an hour, and 60 seconds per minute."
      ],
      "metadata": {
        "id": "MhCS01qUr-By"
      }
    },
    {
      "cell_type": "code",
      "source": [
        "def calculate_seconds_in_year():\n",
        "    days_per_year = 365\n",
        "    hours_per_day = 24\n",
        "    minutes_per_hour = 60\n",
        "    seconds_per_minute = 60\n",
        "\n",
        "    total_seconds = days_per_year * hours_per_day * minutes_per_hour * seconds_per_minute\n",
        "    print(f\"There are {total_seconds} seconds in a year!\")\n",
        "\n",
        "def main():\n",
        "    calculate_seconds_in_year()\n",
        "\n",
        "if __name__ == \"__main__\":\n",
        "    main()\n"
      ],
      "metadata": {
        "colab": {
          "base_uri": "https://localhost:8080/"
        },
        "id": "ldEe3WL0sWuK",
        "outputId": "6d438151-8fce-422d-8aaa-16e12fa00edc"
      },
      "execution_count": null,
      "outputs": [
        {
          "output_type": "stream",
          "name": "stdout",
          "text": [
            "There are 31536000 seconds in a year!\n"
          ]
        }
      ]
    },
    {
      "cell_type": "markdown",
      "source": [
        "**07_tiny_mad_lib**\n",
        "\n",
        "Problem Statement\n",
        "\n",
        "Write a program which prompts the user for an adjective, then a noun, then a verb, and then prints a fun sentence with those words!\n",
        "\n",
        "Mad Libs is a word game where players are prompted for one word at a time, and the words are eventually filled into the blanks of a word template to make an entertaining story! We've provided you with the beginning of a sentence (the SENTENCE_START constant) which will end in a user-inputted adjective, noun, and then verb.\n",
        "\n",
        "Here's a sample run (user input is in bold italics):\n",
        "\n",
        "Please type an adjective and press enter. tiny\n",
        "\n",
        "Please type a noun and press enter. plant\n",
        "\n",
        "Please type a verb and press enter. fly\n",
        "\n",
        "Code in Place is fun. I learned to program and used Python to make my tiny plant fly!"
      ],
      "metadata": {
        "id": "kKU3vvdWsrvC"
      }
    },
    {
      "cell_type": "code",
      "source": [
        "def mad_libs():\n",
        "    adjective = input(\"Please type an adjective and press enter: \")\n",
        "    noun = input(\"Please type a noun and press enter: \")\n",
        "    verb = input(\"Please type a verb and press enter: \")\n",
        "\n",
        "    print(f\"Code in Place is fun. I learned to program and used Python to make my {adjective} {noun} {verb}!\")\n",
        "\n",
        "def main():\n",
        "    mad_libs()\n",
        "\n",
        "if __name__ == \"__main__\":\n",
        "    main()\n"
      ],
      "metadata": {
        "colab": {
          "base_uri": "https://localhost:8080/"
        },
        "id": "_gYhnrdKtIFC",
        "outputId": "970036c0-97e1-46ae-9a8d-fbc9feeacd25"
      },
      "execution_count": null,
      "outputs": [
        {
          "output_type": "stream",
          "name": "stdout",
          "text": [
            "Please type an adjective and press enter: intelligent\n",
            "Please type a noun and press enter: algorithm\n",
            "Please type a verb and press enter: execute\n",
            "Code in Place is fun. I learned to program and used Python to make my intelligent algorithm execute!\n"
          ]
        }
      ]
    },
    {
      "cell_type": "markdown",
      "source": [
        "**Step 02**\n",
        "\n",
        "**02_lists**\n",
        "\n",
        "**01_add_many_number**\n",
        "\n",
        "Problem Statement\n",
        "\n",
        "Write a function that takes a list of numbers and returns the sum of those numbers."
      ],
      "metadata": {
        "id": "gp2vYnuC26xm"
      }
    },
    {
      "cell_type": "code",
      "source": [
        "def sum_numbers(numbers):\n",
        "    return sum(numbers)\n",
        "\n",
        "def main():\n",
        "    numbers = [int(x) for x in input(\"Enter numbers separated by spaces: \").split()]\n",
        "    print(f\"The sum of the numbers is: {sum_numbers(numbers)}\")\n",
        "\n",
        "if __name__ == \"__main__\":\n",
        "    main()\n"
      ],
      "metadata": {
        "colab": {
          "base_uri": "https://localhost:8080/"
        },
        "id": "tOYIqpnw3kwh",
        "outputId": "f6aba725-6548-4185-d772-6a7f1eb9d0f5"
      },
      "execution_count": null,
      "outputs": [
        {
          "output_type": "stream",
          "name": "stdout",
          "text": [
            "Enter numbers separated by spaces: 2 5 2\n",
            "The sum of the numbers is: 9\n"
          ]
        }
      ]
    },
    {
      "cell_type": "markdown",
      "source": [
        "**02_double_lis**\n",
        "\n",
        "Problem Statement\n",
        "\n",
        "Write a program that doubles each element in a list of numbers. For example, if you start with this list:\n",
        "\n",
        "numbers = [1, 2, 3, 4]\n",
        "\n",
        "You should end with this list:\n",
        "\n",
        "numbers = [2, 4, 6, 8]"
      ],
      "metadata": {
        "id": "C9mGr26X4daY"
      }
    },
    {
      "cell_type": "code",
      "source": [
        "def double_numbers(numbers):\n",
        "    return [num * 2 for num in numbers]\n",
        "\n",
        "def main():\n",
        "    numbers = [int(x) for x in input(\"Enter numbers separated by spaces: \").split()]\n",
        "    print(f\"The doubled numbers are: {double_numbers(numbers)}\")\n",
        "\n",
        "if __name__ == \"__main__\":\n",
        "    main()\n"
      ],
      "metadata": {
        "colab": {
          "base_uri": "https://localhost:8080/"
        },
        "id": "wbOBkqQp4wFn",
        "outputId": "9ad3702a-f91b-4bd6-fcc4-166211acf735"
      },
      "execution_count": null,
      "outputs": [
        {
          "output_type": "stream",
          "name": "stdout",
          "text": [
            "Enter numbers separated by spaces: 2 4 6\n",
            "The doubled numbers are: [4, 8, 12]\n"
          ]
        }
      ]
    },
    {
      "cell_type": "markdown",
      "source": [
        "**03_erase_canvas**\n",
        "\n",
        "Problem Statement\n",
        "\n",
        "Implement an 'eraser' on a canvas.\n",
        "\n",
        "The canvas consists of a grid of blue 'cells' which are drawn as rectangles on the screen. We then create an eraser rectangle which, when dragged around the canvas, sets all of the rectangles it is in contact with to white."
      ],
      "metadata": {
        "id": "iRx8KQuH48Bm"
      }
    },
    {
      "cell_type": "code",
      "source": [
        "import pygame\n",
        "\n",
        "# Initialize pygame\n",
        "pygame.init()\n",
        "\n",
        "# Set up canvas size and colors\n",
        "WIDTH, HEIGHT = 500, 500\n",
        "CELL_SIZE = 20\n",
        "BLUE = (0, 0, 255)\n",
        "WHITE = (255, 255, 255)\n",
        "\n",
        "display = pygame.display.set_mode((WIDTH, HEIGHT))\n",
        "pygame.display.set_caption(\"Eraser Tool\")\n",
        "\n",
        "# Create a grid of blue cells\n",
        "grid = [[BLUE for _ in range(WIDTH // CELL_SIZE)] for _ in range(HEIGHT // CELL_SIZE)]\n",
        "\n",
        "def draw_grid():\n",
        "    for row in range(len(grid)):\n",
        "        for col in range(len(grid[row])):\n",
        "            pygame.draw.rect(display, grid[row][col], (col * CELL_SIZE, row * CELL_SIZE, CELL_SIZE, CELL_SIZE))\n",
        "\n",
        "def erase(x, y):\n",
        "    col, row = x // CELL_SIZE, y // CELL_SIZE\n",
        "    if 0 <= row < len(grid) and 0 <= col < len(grid[0]):\n",
        "        grid[row][col] = WHITE\n",
        "\n",
        "running = True\n",
        "while running:\n",
        "    for event in pygame.event.get():\n",
        "        if event.type == pygame.QUIT:\n",
        "            running = False\n",
        "        elif event.type == pygame.MOUSEMOTION:\n",
        "            if pygame.mouse.get_pressed()[0]:  # Left mouse button is held down\n",
        "                erase(*event.pos)\n",
        "\n",
        "    # Draw updated grid\n",
        "    draw_grid()\n",
        "    pygame.display.update()\n",
        "\n",
        "pygame.quit()\n"
      ],
      "metadata": {
        "colab": {
          "base_uri": "https://localhost:8080/",
          "height": 211
        },
        "id": "QaEUCZv-862v",
        "outputId": "12076295-3570-4dce-a431-5dbb37d93a6a"
      },
      "execution_count": null,
      "outputs": [
        {
          "output_type": "error",
          "ename": "KeyboardInterrupt",
          "evalue": "",
          "traceback": [
            "\u001b[0;31m---------------------------------------------------------------------------\u001b[0m",
            "\u001b[0;31mKeyboardInterrupt\u001b[0m                         Traceback (most recent call last)",
            "\u001b[0;32m<ipython-input-9-36526ab07ac0>\u001b[0m in \u001b[0;36m<cell line: 0>\u001b[0;34m()\u001b[0m\n\u001b[1;32m     37\u001b[0m     \u001b[0;31m# Draw updated grid\u001b[0m\u001b[0;34m\u001b[0m\u001b[0;34m\u001b[0m\u001b[0m\n\u001b[1;32m     38\u001b[0m     \u001b[0mdraw_grid\u001b[0m\u001b[0;34m(\u001b[0m\u001b[0;34m)\u001b[0m\u001b[0;34m\u001b[0m\u001b[0;34m\u001b[0m\u001b[0m\n\u001b[0;32m---> 39\u001b[0;31m     \u001b[0mpygame\u001b[0m\u001b[0;34m.\u001b[0m\u001b[0mdisplay\u001b[0m\u001b[0;34m.\u001b[0m\u001b[0mupdate\u001b[0m\u001b[0;34m(\u001b[0m\u001b[0;34m)\u001b[0m\u001b[0;34m\u001b[0m\u001b[0;34m\u001b[0m\u001b[0m\n\u001b[0m\u001b[1;32m     40\u001b[0m \u001b[0;34m\u001b[0m\u001b[0m\n\u001b[1;32m     41\u001b[0m \u001b[0mpygame\u001b[0m\u001b[0;34m.\u001b[0m\u001b[0mquit\u001b[0m\u001b[0;34m(\u001b[0m\u001b[0;34m)\u001b[0m\u001b[0;34m\u001b[0m\u001b[0;34m\u001b[0m\u001b[0m\n",
            "\u001b[0;31mKeyboardInterrupt\u001b[0m: "
          ]
        }
      ]
    },
    {
      "cell_type": "markdown",
      "source": [
        "**04_flowing_with_data_structures**\n",
        "\n",
        "Problem Statement\n",
        "\n",
        "In the information flow lesson, we discussed using a variable storing a number as an example of scope. We saw that changes we made to the number inside a function did not stay unless we returned it. This is true for what we call immutable data types which include things like numbers and strings.\n",
        "\n",
        "However, there are also mutable data types where changes stay even if we don't return anything. Some examples of mutable data types are lists and dictionaries. This means that you should be mindful when modifying lists and dictionaries within helper functions since their changes stay whether or not you return them.\n",
        "\n",
        "To see this in action, fill out the add_three_copies(...) function which takes a list and some data and then adds three copies of the data to the list. Don't return anything and see what happens! Compare this process to the x = change(x) example and note the differences.\n",
        "\n",
        "Here is an example run of this program (user input in bold italics):\n",
        "\n",
        "Enter a message to copy: Hello world!\n",
        "\n",
        "List before: []\n",
        "\n",
        "List after: ['Hello world!', 'Hello world!', 'Hello world!']\n",
        "\n",
        "(Note. The concept of immutable/mutable data types is called mutability. Be careful because different programming languages have different rules regarding mutability!)"
      ],
      "metadata": {
        "id": "E7ewaVF-9Nk3"
      }
    },
    {
      "cell_type": "code",
      "source": [
        "def add_three_copies(lst, data):\n",
        "    lst.append(data)\n",
        "    lst.append(data)\n",
        "    lst.append(data)\n",
        "\n",
        "# Empty list\n",
        "my_list = []\n",
        "\n",
        "# User input\n",
        "message = input(\"Enter a message to copy: \")\n",
        "\n",
        "print(\"List before:\", my_list)\n",
        "\n",
        "# Calling function\n",
        "add_three_copies(my_list, message)\n",
        "\n",
        "print(\"List after:\", my_list)\n"
      ],
      "metadata": {
        "colab": {
          "base_uri": "https://localhost:8080/"
        },
        "id": "8i9KEdzd9ri_",
        "outputId": "57376598-3d46-4a73-dd61-625b3e2fd67a"
      },
      "execution_count": null,
      "outputs": [
        {
          "output_type": "stream",
          "name": "stdout",
          "text": [
            "Enter a message to copy: Hello Faizan\n",
            "List before: []\n",
            "List after: ['Hello Faizan', 'Hello Faizan', 'Hello Faizan']\n"
          ]
        }
      ]
    },
    {
      "cell_type": "markdown",
      "source": [
        "**05_get_first_element**\n",
        "\n",
        "Problem Statement\n",
        "\n",
        "Fill out the function get_first_element(lst) which takes in a list lst as a parameter and prints the first element in the list. The list is guaranteed to be non-empty. We've written some code for you which prompts the user to input the list one element at a time."
      ],
      "metadata": {
        "id": "SumAj8c9-Nnz"
      }
    },
    {
      "cell_type": "code",
      "source": [
        "def get_first_element(lst):\n",
        "    print(\"First element:\", lst[0])\n",
        "\n",
        "# Empty list to store user input\n",
        "user_list = []\n",
        "\n",
        "# Asking user for list elements\n",
        "n = int(input(\"Enter number of elements in the list: \"))\n",
        "\n",
        "for i in range(n):\n",
        "    element = input(f\"Enter element {i+1}: \")\n",
        "    user_list.append(element)\n",
        "\n",
        "# Calling function\n",
        "get_first_element(user_list)\n"
      ],
      "metadata": {
        "colab": {
          "base_uri": "https://localhost:8080/"
        },
        "id": "KYjlFEb2-lsT",
        "outputId": "5f2542e2-c54c-4b9d-a70d-6c6458f67628"
      },
      "execution_count": null,
      "outputs": [
        {
          "output_type": "stream",
          "name": "stdout",
          "text": [
            "Enter number of elements in the list: 4\n",
            "Enter element 1: Peach\n",
            "Enter element 2: Apple\n",
            "Enter element 3: Orange\n",
            "Enter element 4: Mango\n",
            "First element: Peach\n"
          ]
        }
      ]
    },
    {
      "cell_type": "markdown",
      "source": [
        "**06_get_last_element**\n",
        "\n",
        "Problem Statement\n",
        "\n",
        "Fill out the function get_last_element(lst) which takes in a list lst as a parameter and prints the last element in the list. The list is guaranteed to be non-empty, but there are no guarantees on its length."
      ],
      "metadata": {
        "id": "9ptk4-JS_T3U"
      }
    },
    {
      "cell_type": "code",
      "source": [
        "def get_last_element(lst):\n",
        "    print(\"Last element:\", lst[-1])  # Accessing last element using negative indexing\n",
        "\n",
        "# Empty list to store user input\n",
        "user_list = []\n",
        "\n",
        "# Asking user for list elements\n",
        "n = int(input(\"Enter number of elements in the list: \"))\n",
        "\n",
        "for i in range(n):\n",
        "    element = input(f\"Enter element {i+1}: \")\n",
        "    user_list.append(element)\n",
        "\n",
        "# Calling function\n",
        "get_last_element(user_list)\n"
      ],
      "metadata": {
        "colab": {
          "base_uri": "https://localhost:8080/"
        },
        "id": "vWlmuOqJACPe",
        "outputId": "2f142b41-17bc-4d52-aea2-89f8f5d736d7"
      },
      "execution_count": null,
      "outputs": [
        {
          "output_type": "stream",
          "name": "stdout",
          "text": [
            "Enter number of elements in the list: 5\n",
            "Enter element 1: Potato\n",
            "Enter element 2: Tomato\n",
            "Enter element 3: Carrot\n",
            "Enter element 4: Gabbage\n",
            "Enter element 5: Beans\n",
            "Last element: Beans\n"
          ]
        }
      ]
    },
    {
      "cell_type": "markdown",
      "source": [
        "**07_get_list**\n",
        "\n",
        "Problem Statement\n",
        "Write a program which continuously asks the user to enter values which are added one by one into a list. When the user presses enter without typing anything, print the list.\n",
        "\n",
        "Here's a sample run (user input is in blue):\n",
        "\n",
        "Enter a value: 1 Enter a value: 2 Enter a value: 3 Enter a value: Here's the list: ['1', '2', '3']"
      ],
      "metadata": {
        "id": "_D7DmIapAfej"
      }
    },
    {
      "cell_type": "code",
      "source": [
        "# Empty list to store user input\n",
        "user_list = []\n",
        "\n",
        "while True:\n",
        "    value = input(\"Enter a value: \")\n",
        "\n",
        "    if value == \"\":  # Check if the input is empty\n",
        "        break  # Exit loop\n",
        "\n",
        "    user_list.append(value)  # Add value to list\n",
        "\n",
        "print(\"Here's the list:\", user_list)\n"
      ],
      "metadata": {
        "colab": {
          "base_uri": "https://localhost:8080/"
        },
        "id": "-YcaBOVQA4yc",
        "outputId": "7ae75c54-c40b-4741-f3b1-44288e80f5a6"
      },
      "execution_count": null,
      "outputs": [
        {
          "output_type": "stream",
          "name": "stdout",
          "text": [
            "Enter a value: 1\n",
            "Enter a value: 2\n",
            "Enter a value: 3\n",
            "Enter a value: 4\n",
            "Enter a value: 5\n",
            "Enter a value: \n",
            "Here's the list: ['1', '2', '3', '4', '5']\n"
          ]
        }
      ]
    },
    {
      "cell_type": "markdown",
      "source": [
        "**08_shorten**\n",
        "\n",
        "Problem Statement\n",
        "\n",
        "Fill out the function shorten(lst) which removes elements from the end of lst, which is a list, and prints each item it removes until lst is MAX_LENGTH items long. If lst is already shorter than MAX_LENGTH you should leave it unchanged. We've written a main() function for you which gets a list and passes it into your function once you run the program. For the autograder to pass you will need MAX_LENGTH to be 3, but feel free to change it around to test your program."
      ],
      "metadata": {
        "id": "MgFsUpcGBEdD"
      }
    },
    {
      "cell_type": "code",
      "source": [
        "MAX_LENGTH = 3  # Define the max length for the list\n",
        "\n",
        "def shorten(lst):\n",
        "    while len(lst) > MAX_LENGTH:\n",
        "        removed_item = lst.pop()  # Remove the last element\n",
        "        print(\"Removed:\", removed_item)  # Print removed element\n",
        "\n",
        "# Example usage\n",
        "def main():\n",
        "    lst = input(\"Enter list elements separated by space: \").split()\n",
        "    print(\"Original list:\", lst)\n",
        "    shorten(lst)\n",
        "    print(\"Final list:\", lst)\n",
        "\n",
        "main()\n"
      ],
      "metadata": {
        "colab": {
          "base_uri": "https://localhost:8080/"
        },
        "id": "87kAyKf3BdaH",
        "outputId": "d2d7fdcb-a853-4571-9690-1e23fe8e6237"
      },
      "execution_count": null,
      "outputs": [
        {
          "output_type": "stream",
          "name": "stdout",
          "text": [
            "Enter list elements separated by space: 10 20 30 40 50 60\n",
            "Original list: ['10', '20', '30', '40', '50', '60']\n",
            "Removed: 60\n",
            "Removed: 50\n",
            "Removed: 40\n",
            "Final list: ['10', '20', '30']\n"
          ]
        }
      ]
    },
    {
      "cell_type": "markdown",
      "source": [
        "**step 03**\n",
        "\n",
        "**03_if_statements**\n",
        "\n",
        "**01_print_events**\n",
        "\n",
        "Problem Statement\n",
        "\n",
        "Write a program that prints the first 20 even numbers. There are several correct approaches, but they all use a loop of some sort. Do no write twenty print statements\n",
        "\n",
        "The first even number is 0:\n",
        "\n",
        "0 2 4 6 8 10 12 14 16 18 20 22 24 26 28 30 32 34 36 38\n"
      ],
      "metadata": {
        "id": "w5TA8BCOEAq7"
      }
    },
    {
      "cell_type": "code",
      "source": [
        "for i in range(20):\n",
        "    print(i * 2, end=\" \")\n"
      ],
      "metadata": {
        "colab": {
          "base_uri": "https://localhost:8080/"
        },
        "id": "fwoTWAw7E0yL",
        "outputId": "c8f7403b-7791-49a1-a506-23a993b5c3db"
      },
      "execution_count": null,
      "outputs": [
        {
          "output_type": "stream",
          "name": "stdout",
          "text": [
            "0 2 4 6 8 10 12 14 16 18 20 22 24 26 28 30 32 34 36 38 "
          ]
        }
      ]
    },
    {
      "cell_type": "markdown",
      "source": [
        "**02_international_voting_age**\n",
        "\n",
        "Problem Statement\n",
        "Write a program which asks a user for their age and lets them know if they can or can't vote in the following three fictional countries.\n",
        "\n",
        "Around the world, different countries have different voting ages. In the fictional countries of Peturksbouipo, Stanlau, and Mayengua, the voting ages are very different:\n",
        "\n",
        "the voting age in Peturksbouipo is 16 (in real life, this is the voting age in, for example, Scotland, Ethiopia, and Austria)\n",
        "\n",
        "the voting age in Stanlau is 25 (in real life this is the voting age in the United Arab Emirates)\n",
        "\n",
        "the voting age in Mayengua is 48 (in real life, as far as we can tell, this isn't the voting age anywhere)\n",
        "\n",
        "Your code should prompt the for their age and print whether or not they can vote in Peturksbouipo, Stanlau, or Mayengua.\n",
        "\n",
        "Here's a sample run of the program (user input is in blue):\n",
        "\n",
        "How old are you? 20 You can vote in Peturksbouipo where the voting age is 16. You cannot vote in Stanlau where the voting age is 25. You cannot vote in Mayengua where the voting age is 48."
      ],
      "metadata": {
        "id": "wLcxndF-E6Yz"
      }
    },
    {
      "cell_type": "code",
      "source": [
        "# User se age input lena\n",
        "age = int(input(\"How old are you? \"))\n",
        "\n",
        "# Voting age conditions\n",
        "if age >= 16:\n",
        "    print(\"You can vote in Peturksbouipo where the voting age is 16.\")\n",
        "else:\n",
        "    print(\"You cannot vote in Peturksbouipo where the voting age is 16.\")\n",
        "\n",
        "if age >= 25:\n",
        "    print(\"You can vote in Stanlau where the voting age is 25.\")\n",
        "else:\n",
        "    print(\"You cannot vote in Stanlau where the voting age is 25.\")\n",
        "\n",
        "if age >= 48:\n",
        "    print(\"You can vote in Mayengua where the voting age is 48.\")\n",
        "else:\n",
        "    print(\"You cannot vote in Mayengua where the voting age is 48.\")\n"
      ],
      "metadata": {
        "colab": {
          "base_uri": "https://localhost:8080/"
        },
        "id": "s96CeeK3FQQb",
        "outputId": "01eb9b1d-ca9b-4133-8c39-01d3afdf55e4"
      },
      "execution_count": null,
      "outputs": [
        {
          "output_type": "stream",
          "name": "stdout",
          "text": [
            "How old are you? 23\n",
            "You can vote in Peturksbouipo where the voting age is 16.\n",
            "You cannot vote in Stanlau where the voting age is 25.\n",
            "You cannot vote in Mayengua where the voting age is 48.\n"
          ]
        }
      ]
    },
    {
      "cell_type": "markdown",
      "source": [
        "**03_leap_year**\n",
        "\n",
        "Problem Statement\n",
        "\n",
        "Write a program that reads a year from the user and tells whether a given year is a leap year or not.\n",
        "\n",
        "A leap year (also known as an intercalary year or bissextile year) is a calendar year that contains an additional day (or, in the case of a lunisolar calendar, a month) added to keep the calendar year synchronized with the astronomical year or seasonal year. In the Gregorian calendar, each leap year has 366 days instead of 365, by extending February to 29 days rather than the common 28.\n",
        "\n",
        "In the Gregorian calendar, three criteria must be checked to identify leap years:\n",
        "\n",
        "The given year must be evenly divisible by 4;\n",
        "If the year can also be evenly divided by 100, it is NOT a leap year; unless:\n",
        "The year is also evenly divisible by 400. Then it is a leap year.\n",
        "Your code should use the above criteria to check for a leap year and then print either \"That's a leap year!\" or \"That's not a leap year"
      ],
      "metadata": {
        "id": "6WIu0d3bFgNk"
      }
    },
    {
      "cell_type": "code",
      "source": [
        "# User se year input lena\n",
        "year = int(input(\"Enter a year: \"))\n",
        "\n",
        "# Leap year check conditions\n",
        "if (year % 4 == 0 and year % 100 != 0) or (year % 400 == 0):\n",
        "    print(\"That's a leap year!\")\n",
        "else:\n",
        "    print(\"That's not a leap year.\")\n"
      ],
      "metadata": {
        "colab": {
          "base_uri": "https://localhost:8080/"
        },
        "id": "PcnLq7vSGILk",
        "outputId": "84089437-210c-4957-ba19-e641f8405a8f"
      },
      "execution_count": null,
      "outputs": [
        {
          "output_type": "stream",
          "name": "stdout",
          "text": [
            "Enter a year: 2025\n",
            "That's not a leap year.\n"
          ]
        }
      ]
    },
    {
      "cell_type": "markdown",
      "source": [
        "**04_tall_enough_to_ride**\n",
        "\n",
        "Problem Statement\n",
        "\n",
        "Write a program which asks the user how tall they are and prints whether or not they're taller than a pre-specified minimum height.\n",
        "\n",
        "In amusement parks (ah, the good old pre-pandemic days...), rollercoasters frequently have minimum height requirements for safety reasons. Assume for now that the minimum height is 50 of whatever height unit you'd like\n",
        "\n",
        "Here's two sample runs (user input is in bold italics):\n",
        "\n",
        "How tall are you? 100\n",
        "\n",
        "You're tall enough to ride!\n",
        "\n",
        "How tall are you? 10\n",
        "\n",
        "You're not tall enough to ride, but maybe next year!\n",
        "\n",
        "(For an extra challenge, write code which will repeatedly ask a user how tall they are and tell them whether or not they're tall enough to ride, until the user doesn't enter a height at all, in which case the program stops. Curious about how to do this? See the function tall_enough_extension() in the solution code!)"
      ],
      "metadata": {
        "id": "YV6wrvgpGu5D"
      }
    },
    {
      "cell_type": "code",
      "source": [
        "while True:\n",
        "    height = input(\"How tall are you? (Press enter to stop): \")\n",
        "\n",
        "    if height == \"\":\n",
        "        print(\"Goodbye!\")\n",
        "        break  # Agar user enter daba de to loop ruk jaye\n",
        "\n",
        "    height = int(height)  # String input ko integer mein convert karein\n",
        "\n",
        "    if height >= 50:\n",
        "        print(\"You're tall enough to ride!\")\n",
        "    else:\n",
        "        print(\"You're not tall enough to ride, but maybe next year!\")\n"
      ],
      "metadata": {
        "colab": {
          "base_uri": "https://localhost:8080/"
        },
        "id": "JQihfVSeHs4b",
        "outputId": "a53b129b-e56a-4b68-ccb1-14be08d30eac"
      },
      "execution_count": null,
      "outputs": [
        {
          "output_type": "stream",
          "name": "stdout",
          "text": [
            "How tall are you? (Press enter to stop): 60\n",
            "You're tall enough to ride!\n",
            "How tall are you? (Press enter to stop): 30\n",
            "You're not tall enough to ride, but maybe next year!\n",
            "How tall are you? (Press enter to stop): \n",
            "Goodbye!\n"
          ]
        }
      ]
    },
    {
      "cell_type": "markdown",
      "source": [
        "**05_random_numbers**\n",
        "\n",
        "Problem Statement\n",
        "\n",
        "Print 10 random numbers in the range 1 to 100.\n",
        "\n",
        "Here is an example run:\n",
        "\n",
        "45 79 61 47 52 10 16 83 19 12\n",
        "\n",
        "Each time you run your program you should get different numbers\n",
        "\n",
        "81 76 70 1 27 63 96 100 32 92\n",
        "\n",
        "Recall that the python random library has a function randint which returns an integer in the range set by the parameters (inclusive). For example this call would produce a random integer between 1 and 6, which could include 1 and could include 6:\n",
        "\n",
        "value = random.randint(1, 6)"
      ],
      "metadata": {
        "id": "y6dG9PLSH30b"
      }
    },
    {
      "cell_type": "code",
      "source": [
        "import random\n",
        "\n",
        "for _ in range(10):\n",
        "    print(random.randint(1, 100), end=\" \")\n"
      ],
      "metadata": {
        "colab": {
          "base_uri": "https://localhost:8080/"
        },
        "id": "7mAlweRgII58",
        "outputId": "6d109c85-afdb-4090-c88b-a1ec60e207a2"
      },
      "execution_count": null,
      "outputs": [
        {
          "output_type": "stream",
          "name": "stdout",
          "text": [
            "38 55 99 47 2 91 84 60 56 47 "
          ]
        }
      ]
    },
    {
      "cell_type": "markdown",
      "source": [
        "**Step 04**\n",
        "\n",
        "**04_dictionaries**\n",
        "\n",
        "**00_count_nums**\n",
        "\n",
        "Problem Statement\n",
        "\n",
        "This program counts the number of times each number appears in a list. It uses a dictionary to keep track of the information.\n",
        "\n",
        "An example run of the program looks like this (user input is in blue):\n",
        "\n",
        "Enter a number: 3 Enter a number: 4 Enter a number: 3 Enter a number: 6 Enter a number: 4 Enter a number: 3 Enter a number: 12 Enter a number: 3 appears 3 times. 4 appears 2 times. 6 appears 1 times. 12 appears 1 times."
      ],
      "metadata": {
        "id": "g5YYZqz9INB7"
      }
    },
    {
      "cell_type": "code",
      "source": [
        "numbers_count = {}\n",
        "\n",
        "while True:\n",
        "    num = input(\"Enter a number (or press enter to stop): \")\n",
        "    if num == \"\":\n",
        "        break\n",
        "    num = int(num)\n",
        "    numbers_count[num] = numbers_count.get(num, 0) + 1\n",
        "\n",
        "for num, count in numbers_count.items():\n",
        "    print(f\"{num} appears {count} times.\")\n"
      ],
      "metadata": {
        "colab": {
          "base_uri": "https://localhost:8080/"
        },
        "id": "JQ0ARMrPSdDG",
        "outputId": "58d0078b-0e89-43ad-f72e-7a7cacc8a603"
      },
      "execution_count": null,
      "outputs": [
        {
          "output_type": "stream",
          "name": "stdout",
          "text": [
            "Enter a number (or press enter to stop): 2\n",
            "Enter a number (or press enter to stop): 4\n",
            "Enter a number (or press enter to stop): 2\n",
            "Enter a number (or press enter to stop): 7\n",
            "Enter a number (or press enter to stop): 4\n",
            "Enter a number (or press enter to stop): 5\n",
            "Enter a number (or press enter to stop): 6\n",
            "Enter a number (or press enter to stop): \n",
            "2 appears 2 times.\n",
            "4 appears 2 times.\n",
            "7 appears 1 times.\n",
            "5 appears 1 times.\n",
            "6 appears 1 times.\n"
          ]
        }
      ]
    },
    {
      "cell_type": "markdown",
      "source": [
        "**01_phonebook**\n",
        "\n",
        "Problem Statement\n",
        "\n",
        "In this program we show an example of using dictionaries to keep track of information in a phonebook."
      ],
      "metadata": {
        "id": "1qsQZe0qTEi1"
      }
    },
    {
      "cell_type": "code",
      "source": [
        "phonebook = {}\n",
        "\n",
        "def add_contact(name, number):\n",
        "    phonebook[name] = number\n",
        "    print(f\"{name} added successfully.\")\n",
        "\n",
        "def delete_contact(name):\n",
        "    if name in phonebook:\n",
        "        del phonebook[name]\n",
        "        print(f\"{name} deleted successfully.\")\n",
        "    else:\n",
        "        print(f\"{name} not found.\")\n",
        "\n",
        "def search_contact(name):\n",
        "    if name in phonebook:\n",
        "        print(f\"{name}: {phonebook[name]}\")\n",
        "    else:\n",
        "        print(f\"{name} not found.\")\n",
        "\n",
        "def display_contacts():\n",
        "    if phonebook:\n",
        "        print(\"Phonebook Contacts:\")\n",
        "        for name, number in phonebook.items():\n",
        "            print(f\"{name}: {number}\")\n",
        "    else:\n",
        "        print(\"Phonebook is empty.\")\n",
        "\n",
        "while True:\n",
        "    print(\"\\nOptions: add, delete, search, display, exit\")\n",
        "    choice = input(\"Enter your choice: \").strip().lower()\n",
        "\n",
        "    if choice == \"add\":\n",
        "        name = input(\"Enter contact name: \")\n",
        "        number = input(\"Enter phone number: \")\n",
        "        add_contact(name, number)\n",
        "\n",
        "    elif choice == \"delete\":\n",
        "        name = input(\"Enter contact name to delete: \")\n",
        "        delete_contact(name)\n",
        "\n",
        "    elif choice == \"search\":\n",
        "        name = input(\"Enter contact name to search: \")\n",
        "        search_contact(name)\n",
        "\n",
        "    elif choice == \"display\":\n",
        "        display_contacts()\n",
        "\n",
        "    elif choice == \"exit\":\n",
        "        print(\"Exiting phonebook...\")\n",
        "        break\n",
        "\n",
        "    else:\n",
        "        print(\"Invalid choice! Please try again.\")\n"
      ],
      "metadata": {
        "colab": {
          "base_uri": "https://localhost:8080/"
        },
        "id": "8Rg1PN7-TrDj",
        "outputId": "d89af16c-43d1-447f-c131-eb17ab54887a"
      },
      "execution_count": null,
      "outputs": [
        {
          "output_type": "stream",
          "name": "stdout",
          "text": [
            "\n",
            "Options: add, delete, search, display, exit\n",
            "Enter your choice: add\n",
            "Enter contact name: Faizan\n",
            "Enter phone number: 03112281305\n",
            "Faizan added successfully.\n",
            "\n",
            "Options: add, delete, search, display, exit\n",
            "Enter your choice: display\n",
            "Phonebook Contacts:\n",
            "Faizan: 03112281305\n",
            "\n",
            "Options: add, delete, search, display, exit\n",
            "Enter your choice: search\n",
            "Enter contact name to search: Faizan\n",
            "Faizan: 03112281305\n",
            "\n",
            "Options: add, delete, search, display, exit\n",
            "Enter your choice: delete\n",
            "Enter contact name to delete: Faizan\n",
            "Faizan deleted successfully.\n",
            "\n",
            "Options: add, delete, search, display, exit\n",
            "Enter your choice: exit\n",
            "Exiting phonebook...\n"
          ]
        }
      ]
    },
    {
      "cell_type": "markdown",
      "source": [
        "**02_pop_up_shop**\n",
        "\n",
        "Problem Statement\n",
        "\n",
        "There's a small fruit shop nearby your house that you like to buy from. Since you buy several fruit at a time, you want to keep track of how much the fruit will cost before you go. Luckily you wrote down what fruits were available and how much one of each fruit costs.\n",
        "\n",
        "Write a program that loops through a dictionary of fruits, prompting the user to see how many of each fruit they want to buy, and then prints out the total combined cost of all of the fruits.\n",
        "\n",
        "Here is an example run of the program (user input is in bold italics):\n",
        "\n",
        "How many (apple) do you want?: 2\n",
        "\n",
        "How many (durian) do you want?: 0\n",
        "\n",
        "How many (jackfruit) do you want?: 1\n",
        "\n",
        "How many (kiwi) do you want?: 0\n",
        "\n",
        "How many (rambutan) do you want?: 1\n",
        "\n",
        "How many (mango) do you want?: 3\n",
        "\n",
        "Your total is $99.5"
      ],
      "metadata": {
        "id": "eQERgi4JUWhL"
      }
    },
    {
      "cell_type": "code",
      "source": [
        "# Fruit price dictionary\n",
        "fruit_prices = {\n",
        "    \"apple\": 5.0,\n",
        "    \"durian\": 15.0,\n",
        "    \"jackfruit\": 10.0,\n",
        "    \"kiwi\": 7.5,\n",
        "    \"rambutan\": 12.0,\n",
        "    \"mango\": 8.5\n",
        "}\n",
        "\n",
        "total_cost = 0  # Initialize total cost\n",
        "\n",
        "# Loop through each fruit\n",
        "for fruit, price in fruit_prices.items():\n",
        "    quantity = int(input(f\"How many ({fruit}) do you want?: \"))\n",
        "    total_cost += quantity * price  # Add cost of this fruit\n",
        "\n",
        "# Print total cost\n",
        "print(f\"Your total is ${total_cost:.2f}\")\n"
      ],
      "metadata": {
        "colab": {
          "base_uri": "https://localhost:8080/"
        },
        "id": "SWTIIkxOUu5X",
        "outputId": "024b3418-8f6d-4381-ac2e-bd6c63f42729"
      },
      "execution_count": null,
      "outputs": [
        {
          "output_type": "stream",
          "name": "stdout",
          "text": [
            "How many (apple) do you want?: 3\n",
            "How many (durian) do you want?: 2\n",
            "How many (jackfruit) do you want?: 1\n",
            "How many (kiwi) do you want?: 4\n",
            "How many (rambutan) do you want?: 1\n",
            "How many (mango) do you want?: 2\n",
            "Your total is $114.00\n"
          ]
        }
      ]
    },
    {
      "cell_type": "markdown",
      "source": [
        "**03_powerful_passwords**\n",
        "\n",
        "Problem Statement\n",
        "\n",
        "You want to be safe online and use different passwords for different websites. However, you are forgetful at times and want to make a program that can match which password belongs to which website without storing the actual password!\n",
        "\n",
        "This can be done via something called hashing. Hashing is when we take something and convert it into a different, unique identifier. This is done using a hash function. Luckily, there are several resources that can help us with this.\n",
        "\n",
        "For example, using a hash function called SHA256(...) something as simple as\n",
        "\n",
        "hello\n",
        "\n",
        "can be hashed into a much more complex\n",
        "\n",
        "2cf24dba5fb0a30e26e83b2ac5b9e29e1b161e5c1fa7425e73043362938b9824\n",
        "\n",
        "Fill out the login(...) function for a website that hashes their passwords. Login should return True if an email's stored password hash in stored_logins is the same as the hash of password_to_check.\n",
        "\n",
        "(Hint. You will need to use the provided hash_password(...) function. You don't necessarily need to know how it works, just know that hash_password(...) returns the hash for the password!)"
      ],
      "metadata": {
        "id": "Q1ZeMe7GVDXv"
      }
    },
    {
      "cell_type": "code",
      "source": [
        "import hashlib\n",
        "\n",
        "def hash_password(password):\n",
        "    \"\"\"Given a password, return its SHA-256 hash.\"\"\"\n",
        "    return hashlib.sha256(password.encode()).hexdigest()\n",
        "\n",
        "def login(email, password_to_check, stored_logins):\n",
        "    \"\"\"\n",
        "    Check if the given password's hash matches the stored hash.\n",
        "\n",
        "    :param email: User's email\n",
        "    :param password_to_check: Password entered by the user\n",
        "    :param stored_logins: Dictionary of email -> hashed password\n",
        "    :return: True if login is successful, otherwise False\n",
        "    \"\"\"\n",
        "    hashed_password = hash_password(password_to_check)\n",
        "    return stored_logins.get(email) == hashed_password\n",
        "\n",
        "# Example usage:\n",
        "stored_logins = {\n",
        "    \"user@example.com\": hash_password(\"securepassword\"),\n",
        "    \"admin@example.com\": hash_password(\"faizee123\"),\n",
        "    \"faizee956@gmail.com\": hash_password(\"faizee123\"),  # ✅ Add this entry\n",
        "}\n",
        "\n",
        "# Simulating user login\n",
        "email = input(\"Enter your email: \")\n",
        "password = input(\"Enter your password: \")\n",
        "\n",
        "if login(email, password, stored_logins):\n",
        "    print(\"Login successful!\")\n",
        "else:\n",
        "    print(\"Invalid credentials.\")\n"
      ],
      "metadata": {
        "colab": {
          "base_uri": "https://localhost:8080/"
        },
        "id": "Ep_qUPvkVdQs",
        "outputId": "ed97f47c-3781-4217-af35-ff731776d8e5"
      },
      "execution_count": null,
      "outputs": [
        {
          "output_type": "stream",
          "name": "stdout",
          "text": [
            "Enter your email: faizee956@gmail.com\n",
            "Enter your password: faizee123\n",
            "Login successful!\n"
          ]
        }
      ]
    },
    {
      "cell_type": "markdown",
      "source": [
        "**Step 05**\n",
        "\n",
        "**05_loops_control_flow**\n",
        "\n",
        "**00_guess_my_number**\n",
        "\n",
        "Problem Statement\n",
        "\n",
        "Guess My Number\n",
        "\n",
        "I am thinking of a number between 0 and 99... Enter a guess: 50 Your guess is too high\n",
        "\n",
        "Enter a new number: 25 Your guess is too low\n",
        "\n",
        "Enter a new number: 40 Your guess is too low\n",
        "\n",
        "Enter a new number: 45 Your guess is too low\n",
        "\n",
        "Enter a new number: 48 Congrats! The number was: 48"
      ],
      "metadata": {
        "id": "t1AJzcQYD9XV"
      }
    },
    {
      "cell_type": "code",
      "source": [
        "import random\n",
        "\n",
        "# Generate a random number between 0 and 99\n",
        "secret_number = random.randint(0, 99)\n",
        "\n",
        "print(\"I am thinking of a number between 0 and 99...\")\n",
        "\n",
        "while True:\n",
        "    try:\n",
        "        # Take input from user\n",
        "        guess = int(input(\"Enter a guess: \"))\n",
        "\n",
        "        # Check the guess\n",
        "        if guess < secret_number:\n",
        "            print(\"Your guess is too low\")\n",
        "        elif guess > secret_number:\n",
        "            print(\"Your guess is too high\")\n",
        "        else:\n",
        "            print(f\"Congrats! The number was: {secret_number}\")\n",
        "            break  # Exit loop if guess is correct\n",
        "    except ValueError:\n",
        "        print(\"Please enter a valid number!\")\n"
      ],
      "metadata": {
        "colab": {
          "base_uri": "https://localhost:8080/"
        },
        "id": "97GuRJXEEr5L",
        "outputId": "34e72d34-aed4-4891-9a23-3d926f46684e"
      },
      "execution_count": null,
      "outputs": [
        {
          "output_type": "stream",
          "name": "stdout",
          "text": [
            "I am thinking of a number between 0 and 99...\n",
            "Enter a guess: 89\n",
            "Your guess is too high\n",
            "Enter a guess: 10\n",
            "Your guess is too low\n",
            "Enter a guess: 20\n",
            "Your guess is too low\n",
            "Enter a guess: 60\n",
            "Your guess is too low\n",
            "Enter a guess: 80\n",
            "Your guess is too high\n",
            "Enter a guess: 75\n",
            "Your guess is too high\n",
            "Enter a guess: 70\n",
            "Your guess is too low\n",
            "Enter a guess: 72\n",
            "Your guess is too low\n",
            "Enter a guess: 73\n",
            "Congrats! The number was: 73\n"
          ]
        }
      ]
    },
    {
      "cell_type": "markdown",
      "source": [
        "**01_fibonacci**\n",
        "\n",
        "Problem Statement\n",
        "\n",
        "Write a program to print terms in the Fibonacci sequence up to a maximum value.\n",
        "\n",
        "In the 13th century, the Italian mathematician Leonardo Fibonacci, as a way to explain the geometric growth of a population of rabbits, devised a mathematical sequence that now bears his name. The first two terms in this sequence, Fib(0) and Fib(1), are 0 and 1, and every subsequent term is the sum of the preceding two. Thus, the first several terms in the Fibonacci sequence look like this:\n",
        "\n",
        "Fib(0) = 0 Fib(1) = 1 Fib(2) = 1 = 0 + 1 Fib(3) = 2 = 1 + 1 Fib(4) = 3 = 1 + 2 Fib(5) = 5 = 2 + 3\n",
        "\n",
        "Write a program that displays the terms in the Fibonacci sequence, starting with Fib(0) and continuing as long as the terms are less than 10,000 (you should store this value as a constant!). Thus, your program should produce the following sample run:\n",
        "\n",
        "0 1 1 2 3 5 8 13 21 34 55 89 144 233 377 610 987 1597 2584 4181 6765"
      ],
      "metadata": {
        "id": "H5JiTwTeFMfP"
      }
    },
    {
      "cell_type": "code",
      "source": [
        "# Maximum value for Fibonacci sequence\n",
        "MAX_VALUE = 10000\n",
        "\n",
        "# First two terms of Fibonacci sequence\n",
        "a, b = 0, 1\n",
        "\n",
        "# Print Fibonacci sequence until the terms are less than MAX_VALUE\n",
        "while a < MAX_VALUE:\n",
        "    print(a, end=\" \")  # Print the term\n",
        "    a, b = b, a + b  # Move to the next term\n"
      ],
      "metadata": {
        "colab": {
          "base_uri": "https://localhost:8080/"
        },
        "id": "Zi7m-5UtFmNs",
        "outputId": "f4ab987c-c48a-4d2e-e65f-fedfd05ee6c5"
      },
      "execution_count": null,
      "outputs": [
        {
          "output_type": "stream",
          "name": "stdout",
          "text": [
            "0 1 1 2 3 5 8 13 21 34 55 89 144 233 377 610 987 1597 2584 4181 6765 "
          ]
        }
      ]
    },
    {
      "cell_type": "markdown",
      "source": [
        "**02_print_event**\n",
        "\n",
        "Problem Statement\n",
        "\n",
        "Write a program that prints the first 20 even numbers. There are several correct approaches, but they all use a loop of some sort. Do no write twenty print statements\n",
        "\n",
        "The first even number is 0:\n",
        "\n",
        "0 2 4 6 8 10 12 14 16 18 20 22 24 26 28 30 32 34 36 38"
      ],
      "metadata": {
        "id": "UINLBtROFqsd"
      }
    },
    {
      "cell_type": "code",
      "source": [
        "# Print first 20 even numbers\n",
        "for i in range(20):\n",
        "    print(i * 2, end=\" \")  # Multiply i by 2 to get even numbers\n"
      ],
      "metadata": {
        "colab": {
          "base_uri": "https://localhost:8080/"
        },
        "id": "qbZehwJqF9ab",
        "outputId": "008ae445-02e4-4db1-90c4-9ccc835c8c35"
      },
      "execution_count": null,
      "outputs": [
        {
          "output_type": "stream",
          "name": "stdout",
          "text": [
            "0 2 4 6 8 10 12 14 16 18 20 22 24 26 28 30 32 34 36 38 "
          ]
        }
      ]
    },
    {
      "cell_type": "markdown",
      "source": [
        "**03_wholesome_machine**\n",
        "\n",
        "Problem Statement\n",
        "\n",
        "Write a program which prompts the user to type an affirmation of your choice (we'll use \"I am capable of doing anything I put my mind to.\") until they type it correctly. Sometimes, especially in the midst of such uncertain times, we just need to be reminded that we are resilient, capable, and strong; this little Python program may be able to help!\n",
        "\n",
        "Here's a sample run of the program (user input is in blue):\n",
        "\n",
        "Please type the following affirmation: I am capable of doing anything I put my mind to. Hmmm That was not the affirmation. Please type the following affirmation: I am capable of doing anything I put my mind to. I am capable of doing anything I put my mind to. That's right! :)\n",
        "\n",
        "Note that you can call input() with no prompt and it will still wait for a user to type something!"
      ],
      "metadata": {
        "id": "USCAbioiGCZl"
      }
    },
    {
      "cell_type": "code",
      "source": [
        "# Correct affirmation\n",
        "correct_affirmation = \"I am capable of doing anything I put my mind to.\"\n",
        "\n",
        "print(\"Please type the following affirmation:\")\n",
        "while True:\n",
        "    user_input = input()  # User se input lena\n",
        "    if user_input == correct_affirmation:\n",
        "        print(\"That's right! :)\")\n",
        "        break  # Loop se bahar nikalna\n",
        "    else:\n",
        "        print(\"Hmmm, that was not the affirmation. Please try again:\")\n"
      ],
      "metadata": {
        "colab": {
          "base_uri": "https://localhost:8080/"
        },
        "id": "sM_QX_4pGfIy",
        "outputId": "c1a05d9d-70b2-4641-b635-31d6a5cd2b45"
      },
      "execution_count": null,
      "outputs": [
        {
          "output_type": "stream",
          "name": "stdout",
          "text": [
            "Please type the following affirmation:\n",
            "I am strong.\n",
            "Hmmm, that was not the affirmation. Please try again:\n",
            "I am Faizan\n",
            "Hmmm, that was not the affirmation. Please try again:\n",
            "I am capable of doing anything I put my mind to.\n",
            "That's right! :)\n"
          ]
        }
      ]
    },
    {
      "cell_type": "markdown",
      "source": [
        "**04_liftoff**\n",
        "\n",
        "Problem Statement\n",
        "\n",
        "Write a program that prints out the calls for a spaceship that is about to launch. Countdown from 10 to 1 and then output Liftoff!\n",
        "\n",
        "Here's a sample run of the program:\n",
        "\n",
        "10 9 8 7 6 5 4 3 2 1 Liftoff!\n",
        "\n",
        "There are many ways to solve this problem. One approach is to use a for loop, and to use the for loop variable i. Recall that i will keep track of how many times the for loop has completed executing its body. As an example this code:\n",
        "\n",
        "for i in range(10): print(i)\n",
        "\n",
        "Will print out the values 0, 1, 2, 3, 4, 5, 6, 7, 8, 9. The values printed in liftoff are 10 minus the number of times the for loop has completed."
      ],
      "metadata": {
        "id": "Bm5asxeUHHVs"
      }
    },
    {
      "cell_type": "code",
      "source": [
        "for i in range(10, 0, -1):  # 10 se 1 tak count karega\n",
        "    print(i, end=\" \")  # Same line pe print karne ke liye end=\" \" use kiya\n",
        "print(\"Liftoff!\")  # Countdown ke baad Liftoff print karega\n"
      ],
      "metadata": {
        "colab": {
          "base_uri": "https://localhost:8080/"
        },
        "id": "6PWUOaioHcE6",
        "outputId": "92400993-e7a5-4f44-f84d-47f1a9eb50b0"
      },
      "execution_count": null,
      "outputs": [
        {
          "output_type": "stream",
          "name": "stdout",
          "text": [
            "10 9 8 7 6 5 4 3 2 1 Liftoff!\n"
          ]
        }
      ]
    },
    {
      "cell_type": "markdown",
      "source": [
        "**05_double_it**\n",
        "\n",
        "Problem Statement\n",
        "\n",
        "Write a program that asks a user to enter a number. Your program will then double that number and print out the result. It will repeat that process until the value is 100 or greater.\n",
        "\n",
        "For example if the user enters the number 2 you would then print:\n",
        "\n",
        "4 8 16 32 64 128\n",
        "\n",
        "Note that:\n",
        "\n",
        "2 doubled is 4\n",
        "\n",
        "4 doubled is 8\n",
        "\n",
        "8 doubled is 16\n",
        "\n",
        "and so on.\n",
        "\n",
        "We stop at 128 because that value is greater than 100.\n",
        "\n",
        "Maintain the current number in a variable named curr_value. When you double the number, you should be updating curr_value. Recall that you can double the value of curr_value using a line like:\n",
        "\n",
        "curr_value = curr_value * 2\n",
        "\n",
        "This program should have a while loop and the while loop condition should test if curr_value is less than 100. Thus, your program will have the line:\n",
        "\n",
        "while curr_value < 100:"
      ],
      "metadata": {
        "id": "vwL6Ep9THe0s"
      }
    },
    {
      "cell_type": "code",
      "source": [
        "# User se input lena\n",
        "curr_value = int(input(\"Enter a number: \"))\n",
        "\n",
        "# Jab tak curr_value 100 se chhoti hai, tab tak double karna\n",
        "while curr_value < 100:\n",
        "    curr_value *= 2  # Number ko double karna\n",
        "    print(curr_value, end=\" \")  # Same line me print karna\n"
      ],
      "metadata": {
        "colab": {
          "base_uri": "https://localhost:8080/"
        },
        "id": "U0rQ0oboH5Az",
        "outputId": "710dfe9d-d24b-4988-d8f2-5a073a7b97c2"
      },
      "execution_count": null,
      "outputs": [
        {
          "output_type": "stream",
          "name": "stdout",
          "text": [
            "Enter a number: 5\n",
            "10 20 40 80 160 "
          ]
        }
      ]
    },
    {
      "cell_type": "markdown",
      "source": [
        "**step 06**\n",
        "\n",
        "**06_functions**\n",
        "\n",
        "**00_averages**\n",
        "\n",
        "Problem Statement\n",
        "\n",
        "Write a function that takes two numbers and finds the average between the two."
      ],
      "metadata": {
        "id": "oNMYKpsYIEsU"
      }
    },
    {
      "cell_type": "code",
      "source": [
        "def find_average(num1, num2):\n",
        "    \"\"\"Do numbers ka average return karega.\"\"\"\n",
        "    return (num1 + num2) / 2\n",
        "\n",
        "# User se input lena\n",
        "num1 = float(input(\"Enter first number: \"))\n",
        "num2 = float(input(\"Enter second number: \"))\n",
        "\n",
        "# Function call karke average print karna\n",
        "average = find_average(num1, num2)\n",
        "print(f\"The average of {num1} and {num2} is: {average}\")\n"
      ],
      "metadata": {
        "colab": {
          "base_uri": "https://localhost:8080/"
        },
        "id": "WJyP7DLIIpZh",
        "outputId": "cfdf6eaf-760e-43c0-9d7f-f21ec30cfa4e"
      },
      "execution_count": null,
      "outputs": [
        {
          "output_type": "stream",
          "name": "stdout",
          "text": [
            "Enter first number: 10\n",
            "Enter second number: 20\n",
            "The average of 10.0 and 20.0 is: 15.0\n"
          ]
        }
      ]
    },
    {
      "cell_type": "markdown",
      "source": [
        "**01_chaotic_counting**\n",
        "\n",
        "Problem Statement\n",
        "\n",
        "Fill out the chaotic_counting() function, which prints the numbers from 1 to 10, but with a catch. We've written a done() function which returns True with likelihood DONE_LIKELIHOOD -- at each number, before printing the number, you should call done() and check if it returns True or not. If done() returns True, we're done counting, and you should use a return statement to end the chaotic_counting() function execution and resume execution of main(), which will print \"I'm done.\". We've written main() for you -- check it out! Notice that we'll only print \"I'm done\" from main() once chaotic_counting() is done with its execution.\n",
        "\n",
        "Here's a sample run of this program:\n",
        "\n",
        "I'm going to count until 10 or until I feel like stopping, whichever comes first. 1 2 3 I'm done."
      ],
      "metadata": {
        "id": "U0Rvm5m8I3XL"
      }
    },
    {
      "cell_type": "code",
      "source": [
        "import random\n",
        "\n",
        "DONE_LIKELIHOOD = 0.3  # 30% chance of stopping\n",
        "\n",
        "def done():\n",
        "    \"\"\"Randomly decides if we should stop counting.\"\"\"\n",
        "    return random.random() < DONE_LIKELIHOOD\n",
        "\n",
        "def chaotic_counting():\n",
        "    \"\"\"Counts from 1 to 10, but randomly stops if done() returns True.\"\"\"\n",
        "    for i in range(1, 11):\n",
        "        if done():\n",
        "            return  # Stop counting\n",
        "        print(i)\n",
        "\n",
        "def main():\n",
        "    print(\"I'm going to count until 10 or until I feel like stopping, whichever comes first.\")\n",
        "    chaotic_counting()\n",
        "    print(\"I'm done.\")\n",
        "\n",
        "# Running the main function\n",
        "main()\n"
      ],
      "metadata": {
        "colab": {
          "base_uri": "https://localhost:8080/"
        },
        "id": "FTCPD2BMJKc0",
        "outputId": "a5580f94-8637-4cd8-80f7-d763e10c8e1a"
      },
      "execution_count": null,
      "outputs": [
        {
          "output_type": "stream",
          "name": "stdout",
          "text": [
            "I'm going to count until 10 or until I feel like stopping, whichever comes first.\n",
            "I'm done.\n"
          ]
        }
      ]
    },
    {
      "cell_type": "markdown",
      "source": [
        "**02_count_even**\n",
        "\n",
        "Problem Statement\n",
        "\n",
        "Fill out the function count_even(lst) which\n",
        "\n",
        "first populates a list by prompting the user for integers until they press enter (please use the prompt \"Enter an integer or press enter to stop: \"),\n",
        "\n",
        "and then prints the number of even numbers in the list.\n",
        "\n",
        "If you'd prefer to focus on the second task only, scroll down for our implementation of the first task!"
      ],
      "metadata": {
        "id": "LvhjseLXJO7c"
      }
    },
    {
      "cell_type": "code",
      "source": [
        "def count_even():\n",
        "    \"\"\"Prompts user for integers, stores them in a list, and counts even numbers.\"\"\"\n",
        "    lst = []\n",
        "\n",
        "    while True:\n",
        "        user_input = input(\"Enter an integer or press enter to stop: \")\n",
        "\n",
        "        if user_input == \"\":  # Agar user sirf enter dabaye, loop break kar do\n",
        "            break\n",
        "\n",
        "        try:\n",
        "            num = int(user_input)  # Input ko integer me convert karo\n",
        "            lst.append(num)\n",
        "        except ValueError:\n",
        "            print(\"Please enter a valid integer.\")\n",
        "\n",
        "    # Even numbers count karna\n",
        "    even_count = sum(1 for num in lst if num % 2 == 0)\n",
        "\n",
        "    print(f\"Number of even numbers: {even_count}\")\n",
        "\n",
        "# Function call\n",
        "count_even()\n"
      ],
      "metadata": {
        "colab": {
          "base_uri": "https://localhost:8080/"
        },
        "id": "0FMgeRbsJvl3",
        "outputId": "85358785-85c6-49a4-af57-80751e232207"
      },
      "execution_count": null,
      "outputs": [
        {
          "output_type": "stream",
          "name": "stdout",
          "text": [
            "Enter an integer or press enter to stop: 4\n",
            "Enter an integer or press enter to stop: 5\n",
            "Enter an integer or press enter to stop: 6\n",
            "Enter an integer or press enter to stop: 7\n",
            "Enter an integer or press enter to stop: 8\n",
            "Enter an integer or press enter to stop: 10\n",
            "Enter an integer or press enter to stop: 3\n",
            "Enter an integer or press enter to stop: 12\n",
            "Enter an integer or press enter to stop: \n",
            "Number of even numbers: 5\n"
          ]
        }
      ]
    },
    {
      "cell_type": "markdown",
      "source": [
        "**03_double**\n",
        "\n",
        "Problem Statement\n",
        "\n",
        "Fill out the double(num) function to return the result of multiplying num by 2. We've written a main() function for you which asks the user for a number, calls your code for double(num) , and prints the result.\n",
        "\n",
        "Here's a sample run of the program (user input in bold italics):\n",
        "\n",
        "Enter a number: 2 Double that is 4"
      ],
      "metadata": {
        "id": "o1tftzi2KS15"
      }
    },
    {
      "cell_type": "code",
      "source": [
        "def double(num):\n",
        "    \"\"\"Returns the double of the given number.\"\"\"\n",
        "    return num * 2\n",
        "\n",
        "def main():\n",
        "    num = int(input(\"Enter a number: \"))  # User se number input lo\n",
        "    print(f\"Double that is {double(num)}\")  # Double function call karke result print karo\n",
        "\n",
        "# Function call\n",
        "main()\n"
      ],
      "metadata": {
        "colab": {
          "base_uri": "https://localhost:8080/"
        },
        "id": "d7ZYV2oUKmba",
        "outputId": "90c72de1-3f49-4d4f-c391-d51c7561020d"
      },
      "execution_count": null,
      "outputs": [
        {
          "output_type": "stream",
          "name": "stdout",
          "text": [
            "Enter a number: 10\n",
            "Double that is 20\n"
          ]
        }
      ]
    },
    {
      "cell_type": "markdown",
      "source": [
        "**04_get_name**\n",
        "\n",
        "Problem Statement\n",
        "\n",
        "Fill out the get_name() function to return your name as a string! We've written a main() function for you which calls your function to retrieve your name and then prints it in a greeting.\n",
        "\n",
        "Here's a sample run of the program where the name we've decided to return is Sophia (the autograder expects the returned name to be Sophia):\n",
        "\n",
        "Howdy Sophia ! 🤠"
      ],
      "metadata": {
        "id": "ea30J06tKyga"
      }
    },
    {
      "cell_type": "code",
      "source": [
        "def get_name():\n",
        "    \"\"\"Returns the name 'Anjum' as required by the autograder.\"\"\"\n",
        "    return \"Anjum\"\n",
        "\n",
        "def main():\n",
        "    name = get_name()  # Function call\n",
        "    print(f\"Faizan {name}! 🤠\")  # Greeting print karo\n",
        "\n",
        "# Function call\n",
        "main()\n"
      ],
      "metadata": {
        "colab": {
          "base_uri": "https://localhost:8080/"
        },
        "id": "tZGoW5XRLJeL",
        "outputId": "e40f18d4-6ba8-4fa7-e4f5-e3877c15362a"
      },
      "execution_count": null,
      "outputs": [
        {
          "output_type": "stream",
          "name": "stdout",
          "text": [
            "Faizan Anjum! 🤠\n"
          ]
        }
      ]
    },
    {
      "cell_type": "markdown",
      "source": [
        "**05_is_odd**\n",
        "\n",
        "Problem Statement\n",
        "\n",
        "10 even 11 odd 12 even 13 odd 14 even 15 odd 16 even 17 odd 18 even 19 odd"
      ],
      "metadata": {
        "id": "G3G7uA7TIWol"
      }
    },
    {
      "cell_type": "code",
      "source": [
        "for num in range(10, 20):  # 10 se 19 tak loop chalega\n",
        "    if num % 2 == 0:\n",
        "        print(f\"{num} even\")\n",
        "    else:\n",
        "        print(f\"{num} odd\")\n"
      ],
      "metadata": {
        "colab": {
          "base_uri": "https://localhost:8080/"
        },
        "id": "jKADMZ7hIrAz",
        "outputId": "700187f6-acc1-4e6d-bcfd-46c0942d0218"
      },
      "execution_count": 1,
      "outputs": [
        {
          "output_type": "stream",
          "name": "stdout",
          "text": [
            "10 even\n",
            "11 odd\n",
            "12 even\n",
            "13 odd\n",
            "14 even\n",
            "15 odd\n",
            "16 even\n",
            "17 odd\n",
            "18 even\n",
            "19 odd\n"
          ]
        }
      ]
    },
    {
      "cell_type": "markdown",
      "source": [
        "**06_print_divisor**\n",
        "\n",
        "Problem Statement\n",
        "\n",
        "Write the helper function print_divisors(num), which takes in a number and prints all of its divisors (all the numbers from 1 to num inclusive that num can be cleanly divided by (there is no remainder to the division). Don't forget to call your function in main()!\n",
        "\n",
        "Here's a sample run (user input is in blue):\n",
        "\n",
        "Enter a number: 12 Here are the divisors of 12 1 2 3 4 6 12"
      ],
      "metadata": {
        "id": "jH6gQshII3br"
      }
    },
    {
      "cell_type": "code",
      "source": [
        "def print_divisors(num):\n",
        "    print(f\"Here are the divisors of {num}\")\n",
        "    for i in range(1, num + 1):\n",
        "        if num % i == 0:  # Agar num i se divide ho jaye bina remainder ke\n",
        "            print(i, end=\" \")\n",
        "\n",
        "def main():\n",
        "    num = int(input(\"Enter a number: \"))\n",
        "    print_divisors(num)\n",
        "\n",
        "main()\n"
      ],
      "metadata": {
        "colab": {
          "base_uri": "https://localhost:8080/"
        },
        "id": "UxSvavU6JNfA",
        "outputId": "77d0e215-916c-4157-d6cc-acdee09d3f7c"
      },
      "execution_count": 3,
      "outputs": [
        {
          "output_type": "stream",
          "name": "stdout",
          "text": [
            "Enter a number: 33\n",
            "Here are the divisors of 33\n",
            "1 3 11 33 "
          ]
        }
      ]
    },
    {
      "cell_type": "markdown",
      "source": [
        "**07_print_multiple**\n",
        "\n",
        "Problem Statement\n",
        "\n",
        "Fill out print_multiple(message, repeats), which takes as parameters a string message to print, and an integer repeats number of times to print message. We've written the main() function for you, which prompts the user for a message and a number of repeats.\n",
        "\n",
        "Here's a sample run of the program (user input is in blue):\n",
        "\n",
        "Please type a message: Hello! Enter a number of times to repeat your message: 6 Hello! Hello! Hello! Hello! Hello! Hello!\n",
        "\n"
      ],
      "metadata": {
        "id": "d8T9F0gbJZGk"
      }
    },
    {
      "cell_type": "code",
      "source": [
        "def print_multiple(message, repeats):\n",
        "    for _ in range(repeats):\n",
        "        print(message)\n",
        "\n",
        "def main():\n",
        "    message = input(\"Please type a message: \")\n",
        "    repeats = int(input(\"Enter a number of times to repeat your message: \"))\n",
        "    print_multiple(message, repeats)\n",
        "\n",
        "main()\n"
      ],
      "metadata": {
        "colab": {
          "base_uri": "https://localhost:8080/"
        },
        "id": "uHw7AonjJx2_",
        "outputId": "b535a521-64a9-4020-eb41-a7b7a2299306"
      },
      "execution_count": 5,
      "outputs": [
        {
          "output_type": "stream",
          "name": "stdout",
          "text": [
            "Please type a message: Hey, Faizan Anjum\n",
            "Enter a number of times to repeat your message: 6\n",
            "Hey, Faizan Anjum\n",
            "Hey, Faizan Anjum\n",
            "Hey, Faizan Anjum\n",
            "Hey, Faizan Anjum\n",
            "Hey, Faizan Anjum\n",
            "Hey, Faizan Anjum\n"
          ]
        }
      ]
    },
    {
      "cell_type": "markdown",
      "source": [
        "**08_sentence_generator**\n",
        "\n",
        "Problem Statement\n",
        "\n",
        "Implement the helper function make_sentence(word, part_of_speech) which will take a string word and an integer part_of_speech as parameters and, depending on the part of speech, place the word into one of three sentence templates (or one from your imagination!):\n",
        "\n",
        "If part_of_speech is 0, we will assume the word is a noun and use the template: \"I am excited to add this ____ to my vast collection of them!\"\n",
        "\n",
        "If part_of_speech is 1, we will assume the word is a verb use the template: \"It's so nice outside today it makes me want to ____!\"\n",
        "\n",
        "If part_of_speech is 2, we will assume the word is an adjective and use the template: \"Looking out my window, the sky is big and ____!\" make_sentence(word, part_of_speech) should not return anything, just print the correct sentence with the word filled in the blank.\n",
        "\n",
        "Here's a sample run of the program (user input is in blue):\n",
        "\n",
        "Please type a noun, verb, or adjective: groovy Is this a noun, verb, or adjective? Type 0 for noun, 1 for verb, 2 for adjective: 2 Looking out my window, the sky is big and groovy!"
      ],
      "metadata": {
        "id": "7nO3_bfIKD2j"
      }
    },
    {
      "cell_type": "code",
      "source": [
        "def make_sentence(word, part_of_speech):\n",
        "    if part_of_speech == 0:\n",
        "        print(f\"I am excited to add this {word} to my vast collection of them!\")\n",
        "    elif part_of_speech == 1:\n",
        "        print(f\"It's so nice outside today it makes me want to {word}!\")\n",
        "    elif part_of_speech == 2:\n",
        "        print(f\"Looking out my window, the sky is big and {word}!\")\n",
        "    else:\n",
        "        print(\"Invalid choice! Please enter 0 for noun, 1 for verb, or 2 for adjective.\")\n",
        "\n",
        "def main():\n",
        "    word = input(\"Please type a noun, verb, or adjective: \")\n",
        "    part_of_speech = int(input(\"Is this a noun, verb, or adjective? Type 0 for noun, 1 for verb, 2 for adjective: \"))\n",
        "    make_sentence(word, part_of_speech)\n",
        "\n",
        "main()\n"
      ],
      "metadata": {
        "colab": {
          "base_uri": "https://localhost:8080/"
        },
        "id": "gRJiHOJEKeS1",
        "outputId": "80d3db72-1c42-41c1-b9e5-87d575724872"
      },
      "execution_count": 10,
      "outputs": [
        {
          "output_type": "stream",
          "name": "stdout",
          "text": [
            "Please type a noun, verb, or adjective: book\n",
            "Is this a noun, verb, or adjective? Type 0 for noun, 1 for verb, 2 for adjective: 0\n",
            "I am excited to add this book to my vast collection of them!\n"
          ]
        }
      ]
    },
    {
      "cell_type": "markdown",
      "source": [
        "**09_print_ones_digit**\n",
        "\n",
        "Problem Statement\n",
        "\n",
        "Write a function called print_ones_digit , which takes as a parameter an integer num and prints its ones digit. The modulo (remainder) operator, %, should be helpful to you here. Call your function from main()!\n",
        "\n",
        "Here's a sample run (user input is in blue):\n",
        "\n",
        "Enter a number: 42 The ones digit is 2"
      ],
      "metadata": {
        "id": "YAisIa_aMZUF"
      }
    },
    {
      "cell_type": "code",
      "source": [
        "def print_ones_digit(num):\n",
        "    \"\"\"Prints the ones digit of the given number.\"\"\"\n",
        "    ones_digit = num % 10\n",
        "    print(f\"The ones digit is {ones_digit}\")\n",
        "\n",
        "def main():\n",
        "    num = int(input(\"Enter a number: \"))\n",
        "    print_ones_digit(num)\n",
        "\n",
        "main()\n"
      ],
      "metadata": {
        "colab": {
          "base_uri": "https://localhost:8080/"
        },
        "id": "4srfqRObM18E",
        "outputId": "fb409606-f92a-4849-e352-d388cef95511"
      },
      "execution_count": 16,
      "outputs": [
        {
          "output_type": "stream",
          "name": "stdout",
          "text": [
            "Enter a number: 21\n",
            "The ones digit is 1\n"
          ]
        }
      ]
    },
    {
      "cell_type": "markdown",
      "source": [
        "**Step 07**\n",
        "\n",
        "**07_information_flow**\n",
        "\n",
        "**00_choosing_return**\n",
        "\n",
        "Problem Statement\n",
        "\n",
        "There are times where we want to return different things from a function based on some condition. To practice this idea, imagine that we want to check if someone is an adult. We might check their age and return different things depending on how old they are!\n",
        "\n",
        "We've provided you with the ADULT_AGE variable which has the age a person is legally classified as an adult (in the United States). Fill out the is_adult(age) function, which returns True if the function takes an age that is greater than or equal to ADULT_AGE. If the function takes an age less than ADULT_AGE, return False instead.\n",
        "\n",
        "Here are two sample runs of the program, one for each return option (user input in bold italics):\n",
        "\n",
        "(Entered age is an adult age)\n",
        "\n",
        "How old is this person?: 35\n",
        "\n",
        "True\n",
        "\n",
        "(Entered age is not an adult age)\n",
        "\n",
        "How old is this person?: 7\n",
        "\n",
        "False"
      ],
      "metadata": {
        "id": "2ZX_MCRCNPK8"
      }
    },
    {
      "cell_type": "code",
      "source": [
        "ADULT_AGE = 18  # Adult age in the US\n",
        "\n",
        "def is_adult(age):\n",
        "    \"\"\"Returns True if age is 18 or above, otherwise returns False.\"\"\"\n",
        "    return age >= ADULT_AGE\n",
        "\n",
        "def main():\n",
        "    age = int(input(\"How old is this person?: \"))\n",
        "    print(is_adult(age))\n",
        "\n",
        "main()\n"
      ],
      "metadata": {
        "colab": {
          "base_uri": "https://localhost:8080/"
        },
        "id": "a3G67uJDNvIs",
        "outputId": "a688b76b-2eba-412e-d198-ddc8b631eba5"
      },
      "execution_count": 19,
      "outputs": [
        {
          "output_type": "stream",
          "name": "stdout",
          "text": [
            "How old is this person?: 23\n",
            "True\n"
          ]
        }
      ]
    },
    {
      "cell_type": "markdown",
      "source": [
        "**01_greetings**\n",
        "\n",
        "Problem Statement\n",
        "\n",
        "We've written a helper function for you called greet(name) which takes as input a string name and prints a greeting. Write some code in main() to get the user's name and then greet them, being sure to call the greet(name) helper function.\n",
        "\n",
        "Here's a sample run of the program (user input in bold italics):\n",
        "\n",
        "What's your name? Sophia\n",
        "\n",
        "Greetings Sophia!"
      ],
      "metadata": {
        "id": "30KstY5IOE0W"
      }
    },
    {
      "cell_type": "code",
      "source": [
        "def greet(name):\n",
        "    \"\"\"Prints a greeting message with the given name.\"\"\"\n",
        "    print(f\"Greetings {name}!\")\n",
        "\n",
        "def main():\n",
        "    \"\"\"Gets user input and calls the greet function.\"\"\"\n",
        "    name = input(\"What's your name? \")\n",
        "    greet(name)\n",
        "\n",
        "main()\n"
      ],
      "metadata": {
        "colab": {
          "base_uri": "https://localhost:8080/"
        },
        "id": "GYRfTch_OUOB",
        "outputId": "34b9a81e-3e07-4a5c-f36f-95bf2e3397af"
      },
      "execution_count": 20,
      "outputs": [
        {
          "output_type": "stream",
          "name": "stdout",
          "text": [
            "What's your name? Faizan Anjum\n",
            "Greetings Faizan Anjum!\n"
          ]
        }
      ]
    },
    {
      "cell_type": "markdown",
      "source": [
        "**02_in_range**\n",
        "\n",
        "Problem Statement\n",
        "\n",
        "Implement the following function which takes in 3 integers as parameters:\n",
        "\n",
        "def in_range(n, low, high) \"\"\" Returns True if n is between low and high, inclusive. high is guaranteed to be greater than low. \"\"\""
      ],
      "metadata": {
        "id": "UUG42dIgOZx1"
      }
    },
    {
      "cell_type": "code",
      "source": [
        "def in_range(n, low, high):\n",
        "    \"\"\"Returns True if n is between low and high (inclusive).\"\"\"\n",
        "    return low <= n <= high\n",
        "\n",
        "# Example usage\n",
        "print(in_range(5, 1, 10))  # True\n",
        "print(in_range(15, 1, 10)) # False\n",
        "print(in_range(10, 1, 10)) # True\n"
      ],
      "metadata": {
        "colab": {
          "base_uri": "https://localhost:8080/"
        },
        "id": "cs7f6WC9OxG5",
        "outputId": "dd975851-7d62-4cc9-f536-10324f6baf4f"
      },
      "execution_count": 21,
      "outputs": [
        {
          "output_type": "stream",
          "name": "stdout",
          "text": [
            "True\n",
            "False\n",
            "True\n"
          ]
        }
      ]
    },
    {
      "cell_type": "markdown",
      "source": [
        "**03_in_stock**\n",
        "\n",
        "Problem Statement\n",
        "\n",
        "Sophia has a fruit store. She has written a function num_in_stock which takes a string fruit as a parameter and returns how many of that fruit are in her inventory. Write code in main() which will:\n",
        "\n",
        "Prompt the user to enter a fruit (\"Enter a fruit: \")\n",
        "\n",
        "Call num_in_stock(fruit) to get the number of that fruit that Sophia has in stock\n",
        "\n",
        "Print the number which are in stock if Sophia has that fruit in her inventory (there are more than 0 in stock)\n",
        "\n",
        "Print \"This fruit is not in stock.\" if Sophia has none of that fruit in her inventory.\n",
        "\n",
        "Here's two sample runs of the program (user input in bold italics):\n",
        "\n",
        "Enter a fruit: pear\n",
        "\n",
        "This fruit is in stock! Here is how many:\n",
        "\n",
        "1000\n",
        "\n",
        "Enter a fruit: lychee\n",
        "\n",
        "This fruit is not in stock."
      ],
      "metadata": {
        "id": "LipPZVz6O5dG"
      }
    },
    {
      "cell_type": "code",
      "source": [
        "# Inventory dictionary\n",
        "inventory = {\n",
        "    \"apple\": 50,\n",
        "    \"banana\": 30,\n",
        "    \"orange\": 20,\n",
        "    \"pear\": 1000,\n",
        "    \"grape\": 15\n",
        "}\n",
        "\n",
        "def num_in_stock(fruit):\n",
        "    \"\"\"Returns the number of a specific fruit in stock.\"\"\"\n",
        "    return inventory.get(fruit, 0)\n",
        "\n",
        "def main():\n",
        "    fruit = input(\"Enter a fruit: \").lower()\n",
        "    stock = num_in_stock(fruit)\n",
        "\n",
        "    if stock > 0:\n",
        "        print(\"This fruit is in stock! Here is how many:\")\n",
        "        print(stock)\n",
        "    else:\n",
        "        print(\"This fruit is not in stock.\")\n",
        "\n",
        "# Run the program\n",
        "main()\n"
      ],
      "metadata": {
        "colab": {
          "base_uri": "https://localhost:8080/"
        },
        "id": "9cc5j4sEPM18",
        "outputId": "06a45a9c-8153-40fd-cecc-b9c76c311061"
      },
      "execution_count": 23,
      "outputs": [
        {
          "output_type": "stream",
          "name": "stdout",
          "text": [
            "Enter a fruit: peach\n",
            "This fruit is not in stock.\n"
          ]
        }
      ]
    },
    {
      "cell_type": "markdown",
      "source": [
        "**04_multiple_returns**\n",
        "\n",
        "Problem Statement\n",
        "\n",
        "There are times where you are working with lots of different data within a function that you want to return. While generally, we want to keep functions to have a precise purpose, sometimes that purpose just deals with multiple bits of data.\n",
        "\n",
        "To practice this, imagine we are working on a program where the user needs to enters data to sign up for a website. Fill out the get_user_data() function which:\n",
        "\n",
        "Asks the user for their first name and stores it in a variable\n",
        "\n",
        "Asks the user for their last name and stores it in a variable\n",
        "\n",
        "Asks the user for their email address and stores it in a variable\n",
        "\n",
        "Returns all three of these pieces of data in the order it was asked\n",
        "\n",
        "You can return multiple pieces of data by separating each piece with a comma in the return line.\n",
        "\n",
        "Here is an example run of the program:\n",
        "\n",
        "What is your first name?: Jane\n",
        "\n",
        "What is your last name?: Stanford\n",
        "\n",
        "What is your email address?: janestanford@stanford.edu\n",
        "\n",
        "Received the following user data: ('Jane', 'Stanford', 'janestanford@stanford.edu')\n",
        "\n",
        "(Note. This idea is called tuple packing/unpacking. We \"pack\" our return values into a single data structure called a tuple. We can then \"unpack\" these values back into our original values or leave them as a tuple.)"
      ],
      "metadata": {
        "id": "r7wjK3ZsPmdt"
      }
    },
    {
      "cell_type": "code",
      "source": [
        "def get_user_data():\n",
        "    \"\"\"Asks user for first name, last name, and email, then returns them as a tuple.\"\"\"\n",
        "    first_name = input(\"What is your first name?: \")\n",
        "    last_name = input(\"What is your last name?: \")\n",
        "    email = input(\"What is your email address?: \")\n",
        "    return first_name, last_name, email  # Returns a tuple\n",
        "\n",
        "def main():\n",
        "    user_data = get_user_data()\n",
        "    print(\"Received the following user data:\", user_data)\n",
        "\n",
        "# Run the program\n",
        "main()\n"
      ],
      "metadata": {
        "colab": {
          "base_uri": "https://localhost:8080/"
        },
        "id": "5ftYTVf5P7DF",
        "outputId": "cb4058f2-d998-4fbd-d28d-37e8569f9fdb"
      },
      "execution_count": 24,
      "outputs": [
        {
          "output_type": "stream",
          "name": "stdout",
          "text": [
            "What is your first name?: Faizan\n",
            "What is your last name?: Anjum\n",
            "What is your email address?: faizee956@gmail.com\n",
            "Received the following user data: ('Faizan', 'Anjum', 'faizee956@gmail.com')\n"
          ]
        }
      ]
    },
    {
      "cell_type": "markdown",
      "source": [
        "**05_subtract_7**\n",
        "\n",
        "Problem Statement\n",
        "\n",
        "Fill out the subtract_seven helper function to subtract 7 from num, and fill out the main() method to call the subtract_seven helper function! If you're stuck, revisit the add_five example from lecture."
      ],
      "metadata": {
        "id": "pmg3wdLfQHTt"
      }
    },
    {
      "cell_type": "code",
      "source": [
        "def subtract_seven(num):\n",
        "    \"\"\"Subtracts 7 from num and returns the result.\"\"\"\n",
        "    return num - 7\n",
        "\n",
        "def main():\n",
        "    number = int(input(\"Enter a number: \"))  # User input le raha hai\n",
        "    result = subtract_seven(number)  # Function call ho raha hai\n",
        "    print(\"Result after subtracting 7:\", result)  # Output print kar raha hai\n",
        "\n",
        "# Run the program\n",
        "main()\n"
      ],
      "metadata": {
        "colab": {
          "base_uri": "https://localhost:8080/"
        },
        "id": "d80XtxnbQZAh",
        "outputId": "f8d7baf6-12c8-451e-faf6-87c565e662a4"
      },
      "execution_count": 29,
      "outputs": [
        {
          "output_type": "stream",
          "name": "stdout",
          "text": [
            "Enter a number: 20\n",
            "Result after subtracting 7: 13\n"
          ]
        }
      ]
    }
  ]
}