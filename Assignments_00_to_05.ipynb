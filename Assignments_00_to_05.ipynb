{
  "nbformat": 4,
  "nbformat_minor": 0,
  "metadata": {
    "colab": {
      "provenance": [],
      "authorship_tag": "ABX9TyPXcFGxsqzzkzLj1bdnMSXn",
      "include_colab_link": true
    },
    "kernelspec": {
      "name": "python3",
      "display_name": "Python 3"
    },
    "language_info": {
      "name": "python"
    }
  },
  "cells": [
    {
      "cell_type": "markdown",
      "metadata": {
        "id": "view-in-github",
        "colab_type": "text"
      },
      "source": [
        "<a href=\"https://colab.research.google.com/github/mrfaizee12/Building-Python-Projects-with-Google-Colab/blob/main/Assignments_00_to_05.ipynb\" target=\"_parent\"><img src=\"https://colab.research.google.com/assets/colab-badge.svg\" alt=\"Open In Colab\"/></a>"
      ]
    },
    {
      "cell_type": "markdown",
      "source": [
        "**Assignments 00 to 07**\n",
        "\n",
        "**Step 00**\n",
        "\n",
        "**01_add_two_numbers**\n",
        "\n",
        "Problem Statement Write a Python program that takes two integer inputs from the user and calculates their sum. The program should perform the following tasks:\n",
        "\n",
        "Prompt the user to enter the first number.\n",
        "\n",
        "Read the input and convert it to an integer.\n",
        "\n",
        "Prompt the user to enter the second number.\n",
        "\n",
        "Read the input and convert it to an integer.\n",
        "\n",
        "Calculate the sum of the two numbers.\n",
        "\n",
        "Print the total sum with an appropriate message."
      ],
      "metadata": {
        "id": "1IF2SzK_cf_j"
      }
    },
    {
      "cell_type": "code",
      "source": [
        "def main():\n",
        "    # Prompt the user to enter the first number\n",
        "    num1 = int(input(\"Enter the first number: \"))\n",
        "\n",
        "    # Prompt the user to enter the second number\n",
        "    num2 = int(input(\"Enter the second number: \"))\n",
        "\n",
        "    # Calculate the sum\n",
        "    total = num1 + num2\n",
        "\n",
        "    # Print the total sum\n",
        "    print(f\"The sum of {num1} and {num2} is {total}.\")\n",
        "\n",
        "# Run the main function\n",
        "if __name__ == \"__main__\":\n",
        "    main()\n"
      ],
      "metadata": {
        "colab": {
          "base_uri": "https://localhost:8080/"
        },
        "id": "2d1gPDO7cm-c",
        "outputId": "a73dcfac-c3f0-4093-c129-2b7220c41597"
      },
      "execution_count": null,
      "outputs": [
        {
          "output_type": "stream",
          "name": "stdout",
          "text": [
            "Enter the first number: 2\n",
            "Enter the second number: 4\n",
            "The sum of 2 and 4 is 6.\n"
          ]
        }
      ]
    },
    {
      "cell_type": "markdown",
      "source": [
        "**By Streamlit**"
      ],
      "metadata": {
        "id": "76wOoUmMeN08"
      }
    },
    {
      "cell_type": "code",
      "source": [
        "import streamlit as st\n",
        "\n",
        "def main():\n",
        "    st.title(\"Sum Calculator\")\n",
        "\n",
        "    # Input fields for user input\n",
        "    num1 = st.number_input(\"Enter the first number:\", step=1, format=\"%d\")\n",
        "    num2 = st.number_input(\"Enter the second number:\", step=1, format=\"%d\")\n",
        "\n",
        "    # Calculate the sum when the button is clicked\n",
        "    if st.button(\"Calculate Sum\"):\n",
        "        total = num1 + num2\n",
        "        st.success(f\"The sum of {num1} and {num2} is {total}.\")\n",
        "\n",
        "# Run the main function\n",
        "if __name__ == \"__main__\":\n",
        "    main()\n"
      ],
      "metadata": {
        "id": "cOEU8h17ejl0"
      },
      "execution_count": null,
      "outputs": []
    },
    {
      "cell_type": "markdown",
      "source": [
        "**02_agreement_bot**\n",
        "\n",
        "Problem Statement\n",
        "Write a program which asks the user what their favorite animal is, and then always responds with \"My favorite animal is also ___!\" (the blank should be filled in with the user-inputted animal, of course)."
      ],
      "metadata": {
        "id": "jPMIM4Syfus8"
      }
    },
    {
      "cell_type": "code",
      "source": [
        "animal = input(\"What's your favorite animal? \")\n",
        "print(f\"My favorite animal is also {animal}!\")\n"
      ],
      "metadata": {
        "colab": {
          "base_uri": "https://localhost:8080/"
        },
        "id": "nQyQVxVpg-eK",
        "outputId": "8115cd93-02bb-499e-b3f7-e026099f063b"
      },
      "execution_count": null,
      "outputs": [
        {
          "output_type": "stream",
          "name": "stdout",
          "text": [
            "What's your favorite animal? Tiger\n",
            "My favorite animal is also Tiger!\n"
          ]
        }
      ]
    },
    {
      "cell_type": "markdown",
      "source": [
        "**By Streamlit**"
      ],
      "metadata": {
        "id": "ITEcIN_ShRFJ"
      }
    },
    {
      "cell_type": "code",
      "source": [
        "import streamlit as st\n",
        "\n",
        "st.title(\"Favorite Animal\")\n",
        "animal = st.text_input(\"What's your favorite animal?\")\n",
        "\n",
        "if animal:\n",
        "    st.write(f\"My favorite animal is also {animal}!\")\n"
      ],
      "metadata": {
        "id": "2ifriQ9zhW7q"
      },
      "execution_count": null,
      "outputs": []
    },
    {
      "cell_type": "markdown",
      "source": [
        "**03_fahrenheit_to_celsius**\n",
        "\n",
        "Problem Statement\n",
        "Write a program which prompts the user for a temperature in Fahrenheit (this can be a number with decimal places!) and outputs the temperature converted to Celsius."
      ],
      "metadata": {
        "id": "K_7MOvjQjDpa"
      }
    },
    {
      "cell_type": "code",
      "source": [
        "fahrenheit = float(input(\"Enter temperature in Fahrenheit: \"))\n",
        "celsius = (fahrenheit - 32) * 5.0 / 9.0\n",
        "print(f\"Temperature in Celsius: {celsius:.2f}c\")\n"
      ],
      "metadata": {
        "colab": {
          "base_uri": "https://localhost:8080/"
        },
        "id": "P4JW_wBSj--_",
        "outputId": "ea692e0f-575b-430a-fdaf-bc3a58292c31"
      },
      "execution_count": null,
      "outputs": [
        {
          "output_type": "stream",
          "name": "stdout",
          "text": [
            "Enter temperature in Fahrenheit: 70\n",
            "Temperature in Celsius: 21.11c\n"
          ]
        }
      ]
    },
    {
      "cell_type": "markdown",
      "source": [
        "**By Streamlt**"
      ],
      "metadata": {
        "id": "_zL_6GvVm7rL"
      }
    },
    {
      "cell_type": "code",
      "source": [
        "import streamlit as st\n",
        "\n",
        "st.title(\"Fahrenheit to Celsius Converter\")\n",
        "fahrenheit = st.number_input(\"Enter temperature in Fahrenheit:\", format=\"%.2f\")\n",
        "\n",
        "if st.button(\"Convert\"):\n",
        "    celsius = (fahrenheit - 32) * 5.0 / 9.0\n",
        "    st.write(f\"Temperature in Celsius: {celsius:.2f}\")\n"
      ],
      "metadata": {
        "id": "oV0SbOJKnCBL"
      },
      "execution_count": null,
      "outputs": []
    },
    {
      "cell_type": "markdown",
      "source": [
        "**04_how_old_are_they**\n",
        "\n",
        "Problem Statement\n",
        "Write a program to solve this age-related riddle!\n",
        "\n",
        "Anton, Beth, Chen, Drew, and Ethan are all friends. Their ages are as follows:\n",
        "\n",
        "Anton is 21 years old.\n",
        "\n",
        "Beth is 6 years older than Anton.\n",
        "\n",
        "Chen is 20 years older than Beth.\n",
        "\n",
        "Drew is as old as Chen's age plus Anton's age.\n",
        "\n",
        "Ethan is the same age as Chen."
      ],
      "metadata": {
        "id": "kY7OfJ5knHV_"
      }
    },
    {
      "cell_type": "code",
      "source": [
        "anton = 21\n",
        "beth = anton + 6\n",
        "chen = beth + 20\n",
        "drew = chen + anton\n",
        "ethan = chen\n",
        "\n",
        "print(f\"Anton is {anton}\")\n",
        "print(f\"Beth is {beth}\")\n",
        "print(f\"Chen is {chen}\")\n",
        "print(f\"Drew is {drew}\")\n",
        "print(f\"Ethan is {ethan}\")\n"
      ],
      "metadata": {
        "colab": {
          "base_uri": "https://localhost:8080/"
        },
        "id": "Y3ennl3lnzec",
        "outputId": "b73c9bb4-4b7c-49d3-ff39-5927ed788447"
      },
      "execution_count": null,
      "outputs": [
        {
          "output_type": "stream",
          "name": "stdout",
          "text": [
            "Anton is 21\n",
            "Beth is 27\n",
            "Chen is 47\n",
            "Drew is 68\n",
            "Ethan is 47\n"
          ]
        }
      ]
    },
    {
      "cell_type": "markdown",
      "source": [
        "**by streamlit**"
      ],
      "metadata": {
        "id": "gqq2KKCdqbzE"
      }
    },
    {
      "cell_type": "code",
      "source": [
        "import streamlit as st\n",
        "\n",
        "st.title(\"Age Riddle Solver\")\n",
        "\n",
        "anton = 21\n",
        "beth = anton + 6\n",
        "chen = beth + 20\n",
        "drew = chen + anton\n",
        "ethan = chen\n",
        "\n",
        "st.write(f\"Anton is {anton}\")\n",
        "st.write(f\"Beth is {beth}\")\n",
        "st.write(f\"Chen is {chen}\")\n",
        "st.write(f\"Drew is {drew}\")\n",
        "st.write(f\"Ethan is {ethan}\")\n"
      ],
      "metadata": {
        "id": "jlS-pK3NqgPj"
      },
      "execution_count": null,
      "outputs": []
    },
    {
      "cell_type": "markdown",
      "source": [
        "**05_triangle_perimete**\n",
        "\n",
        "Problem Statement\n",
        "\n",
        "Prompt the user to enter the lengths of each side of a triangle and then calculate and print the perimeter of the triangle (the sum of all of the side lengths).\n",
        "\n",
        "Here's a sample run of the program (user input is in bold italics):\n",
        "\n",
        "What is the length of side 1? 3\n",
        "\n",
        "What is the length of side 2? 4\n",
        "\n",
        "What is the length of side 3? 5.5\n",
        "\n",
        "The perimeter of the triangle is 12.5"
      ],
      "metadata": {
        "id": "PGtMm3edkmC5"
      }
    },
    {
      "cell_type": "code",
      "source": [
        "side1 = float(input(\"What is the length of side 1? \"))\n",
        "side2 = float(input(\"What is the length of side 2? \"))\n",
        "side3 = float(input(\"What is the length of side 3? \"))\n",
        "\n",
        "perimeter = side1 + side2 + side3\n",
        "\n",
        "print(f\"The perimeter of the triangle is {perimeter}\")\n"
      ],
      "metadata": {
        "colab": {
          "base_uri": "https://localhost:8080/"
        },
        "id": "kjGvXu2hlh3w",
        "outputId": "d168d1f0-69be-41cf-a608-10ac3452b6e1"
      },
      "execution_count": null,
      "outputs": [
        {
          "output_type": "stream",
          "name": "stdout",
          "text": [
            "What is the length of side 1? 4\n",
            "What is the length of side 2? 6\n",
            "What is the length of side 3? 2.1\n",
            "The perimeter of the triangle is 12.1\n"
          ]
        }
      ]
    },
    {
      "cell_type": "markdown",
      "source": [
        "**06_square_number**\n",
        "\n",
        "Problem Statement\n",
        "\n",
        "Ask the user for a number and print its square (the product of the number times itself).\n",
        "\n",
        "Here's a sample run of the program (user input is in bold italics):\n",
        "\n",
        "Type a number to see its square: 4\n",
        "\n",
        "4.0 squared is 16.0"
      ],
      "metadata": {
        "id": "9o_GHnffl5D_"
      }
    },
    {
      "cell_type": "code",
      "source": [
        "number = float(input(\"Type a number to see its square: \"))\n",
        "square = number * number\n",
        "\n",
        "print(f\"{number} squared is {square}\")\n"
      ],
      "metadata": {
        "colab": {
          "base_uri": "https://localhost:8080/"
        },
        "id": "qqdKTJytmRh4",
        "outputId": "2a2e53fd-42a1-4a24-8060-6241b687234a"
      },
      "execution_count": null,
      "outputs": [
        {
          "output_type": "stream",
          "name": "stdout",
          "text": [
            "Type a number to see its square: 6\n",
            "6.0 squared is 36.0\n"
          ]
        }
      ]
    },
    {
      "cell_type": "markdown",
      "source": [
        "**step 01**\n",
        "\n",
        "**01_expression**\n",
        "\n",
        "**01_dicesimulator**\n",
        "\n",
        "Problem Statement\n",
        "\n",
        "Simulate rolling two dice, three times. Prints the results of each die roll. This program is used to show how variable scope works."
      ],
      "metadata": {
        "id": "36Ss-LC3m3zo"
      }
    },
    {
      "cell_type": "code",
      "source": [
        "import random\n",
        "\n",
        "def roll_dice():\n",
        "    return random.randint(1, 6), random.randint(1, 6)\n",
        "\n",
        "def main():\n",
        "    for i in range(3):\n",
        "        die1, die2 = roll_dice()\n",
        "        print(f\"Roll {i+1}: Die 1 = {die1}, Die 2 = {die2}\")\n",
        "\n",
        "if __name__ == \"__main__\":\n",
        "    main()\n"
      ],
      "metadata": {
        "colab": {
          "base_uri": "https://localhost:8080/"
        },
        "id": "clM_cWUSnxgA",
        "outputId": "0db5643c-a387-41b2-ed2f-5ed9212eb01f"
      },
      "execution_count": null,
      "outputs": [
        {
          "output_type": "stream",
          "name": "stdout",
          "text": [
            "Roll 1: Die 1 = 2, Die 2 = 6\n",
            "Roll 2: Die 1 = 3, Die 2 = 5\n",
            "Roll 3: Die 1 = 2, Die 2 = 3\n"
          ]
        }
      ]
    },
    {
      "cell_type": "markdown",
      "source": [
        "**02_e=mc2**\n",
        "\n",
        "Problem Statement\n",
        "\n",
        "Write a program that continually reads in mass from the user and then outputs the equivalent energy using Einstein's mass-energy equivalence formula (E stands for energy, m stands for mass, and C is the speed of light:\n",
        "\n",
        "E = m * c**2\n",
        "\n",
        "Almost 100 years ago, Albert Einstein famously discovered that mass and energy are interchangeable and are related by the above equation. You should ask the user for mass (m) in kilograms and use a constant value for the speed of light -- C = 299792458 m/s.\n",
        "\n",
        "Here's a sample run of the program (user input is in bold italics):\n",
        "\n",
        "Enter kilos of mass: 100\n",
        "\n",
        "e = m * C^2...\n",
        "\n",
        "m = 100.0 kg\n",
        "\n",
        "C = 299792458 m/s\n",
        "\n",
        "8.987551787368176e+18 joules of energy!"
      ],
      "metadata": {
        "id": "1ctpSJRWn8wn"
      }
    },
    {
      "cell_type": "code",
      "source": [
        "C = 299792458  # Speed of light in m/s\n",
        "\n",
        "def calculate_energy(mass):\n",
        "    return mass * C**2\n",
        "\n",
        "while True:\n",
        "    mass_input = input(\"Enter kilos of mass (or type 'exit' to quit): \")\n",
        "\n",
        "    if mass_input.lower() == \"exit\":\n",
        "        print(\"Exiting the program. Goodbye!\")\n",
        "        break  # Loop se bahar nikalne ke liye\n",
        "\n",
        "    try:\n",
        "        mass = float(mass_input)\n",
        "        energy = calculate_energy(mass)\n",
        "        print(\"e = m * C^2...\")\n",
        "        print(f\"m = {mass} kg\")\n",
        "        print(f\"C = {C} m/s\")\n",
        "        print(f\"{energy} joules of energy!\\n\")\n",
        "    except ValueError:\n",
        "        print(\"Invalid input! Please enter a valid number.\")\n"
      ],
      "metadata": {
        "colab": {
          "base_uri": "https://localhost:8080/"
        },
        "id": "SEclWxPPpUCk",
        "outputId": "e692c417-675f-43ac-8b47-ea26534a9069"
      },
      "execution_count": null,
      "outputs": [
        {
          "output_type": "stream",
          "name": "stdout",
          "text": [
            "Enter kilos of mass (or type 'exit' to quit): 200\n",
            "e = m * C^2...\n",
            "m = 200.0 kg\n",
            "C = 299792458 m/s\n",
            "1.7975103574736351e+19 joules of energy!\n",
            "\n",
            "Enter kilos of mass (or type 'exit' to quit): 50\n",
            "e = m * C^2...\n",
            "m = 50.0 kg\n",
            "C = 299792458 m/s\n",
            "4.493775893684088e+18 joules of energy!\n",
            "\n",
            "Enter kilos of mass (or type 'exit' to quit): 100\n",
            "e = m * C^2...\n",
            "m = 100.0 kg\n",
            "C = 299792458 m/s\n",
            "8.987551787368176e+18 joules of energy!\n",
            "\n",
            "Enter kilos of mass (or type 'exit' to quit): exit\n",
            "Exiting the program. Goodbye!\n"
          ]
        }
      ]
    },
    {
      "cell_type": "markdown",
      "source": [
        "**03_feet_to_inches**\n",
        "\n",
        "Problem Statement\n",
        "\n",
        "Converts feet to inches. Feet is an American unit of measurement. There are 12 inches per foot. Foot is the singular, and feet is the plural."
      ],
      "metadata": {
        "id": "it_6exvfpmUk"
      }
    },
    {
      "cell_type": "code",
      "source": [
        "def feet_to_inches(feet):\n",
        "    return feet * 12\n",
        "\n",
        "def main():\n",
        "    feet = float(input(\"Enter length in feet: \"))\n",
        "    inches = feet_to_inches(feet)\n",
        "    print(f\"{feet} feet is equal to {inches} inches.\")\n",
        "\n",
        "if __name__ == \"__main__\":\n",
        "    main()\n"
      ],
      "metadata": {
        "colab": {
          "base_uri": "https://localhost:8080/"
        },
        "id": "pbghVViGp4WN",
        "outputId": "bd7127ec-dfbf-42d1-d16e-fe07ff259649"
      },
      "execution_count": null,
      "outputs": [
        {
          "output_type": "stream",
          "name": "stdout",
          "text": [
            "Enter length in feet: 10\n",
            "10.0 feet is equal to 120.0 inches.\n"
          ]
        }
      ]
    },
    {
      "cell_type": "markdown",
      "source": [
        "**04_pythagorean_theorem**\n",
        "\n",
        "Problem Statement\n",
        "\n",
        "Write a program that asks the user for the lengths of the two perpendicular sides of a right triangle and outputs the length of the third side (the hypotenuse) using the Pythagorean theorem!\n",
        "\n",
        "The Pythagorean theorem, named after the ancient Greek thinker, Pythagoras, is a fundamental relation in geometry. It states that in a right triangle, the square of the hypotenuse is equal to the sum of the square of the other two sides.\n",
        "\n",
        "For instance, let's consider a right triangle ABC, with the right angle located at C. According to the Pythagorean theorem:\n",
        "\n",
        "BC ** 2 = AB ** 2 + AC ** 2\n",
        "\n",
        "Your code should read in the lengths of the sides AB and AC, and that outputs the length of the hypotenuse (BC). You will probably find math.sqrt() to be useful.\n",
        "\n",
        "Here's a sample run of the program (user input is in bold italics):\n",
        "\n",
        "Enter the length of AB: 3\n",
        "\n",
        "Enter the length of AC: 4\n",
        "\n",
        "The length of BC (the hypotenuse) is: 5.0"
      ],
      "metadata": {
        "id": "xAQk91waqCWV"
      }
    },
    {
      "cell_type": "code",
      "source": [
        "import math\n",
        "\n",
        "def calculate_hypotenuse(ab, ac):\n",
        "    return math.sqrt(ab**2 + ac**2)\n",
        "\n",
        "def main():\n",
        "    ab = float(input(\"Enter the length of AB: \"))\n",
        "    ac = float(input(\"Enter the length of AC: \"))\n",
        "    bc = calculate_hypotenuse(ab, ac)\n",
        "    print(f\"The length of BC (the hypotenuse) is: {bc}\")\n",
        "\n",
        "if __name__ == \"__main__\":\n",
        "    main()\n"
      ],
      "metadata": {
        "colab": {
          "base_uri": "https://localhost:8080/"
        },
        "id": "AbSDbcD9qPf9",
        "outputId": "385c44d1-b119-4b10-d39d-50ee07efb5c1"
      },
      "execution_count": null,
      "outputs": [
        {
          "output_type": "stream",
          "name": "stdout",
          "text": [
            "Enter the length of AB: 5\n",
            "Enter the length of AC: 4\n",
            "The length of BC (the hypotenuse) is: 6.4031242374328485\n"
          ]
        }
      ]
    },
    {
      "cell_type": "markdown",
      "source": [
        "**05_remainder_division**\n",
        "\n",
        "Problem Statement\n",
        "\n",
        "Ask the user for two numbers, one at a time, and then print the result of dividing the first number by the second and also the remainder of the division.\n",
        "\n",
        "Here's a sample run of the program (user input is in bold italics):\n",
        "\n",
        "Please enter an integer to be divided: 5\n",
        "\n",
        "Please enter an integer to divide by: 3\n",
        "\n",
        "The result of this division is 1 with a remainder of 2"
      ],
      "metadata": {
        "id": "-lpWLLsSqzHE"
      }
    },
    {
      "cell_type": "code",
      "source": [
        "def main():\n",
        "    num1 = int(input(\"Please enter an integer to be divided: \"))\n",
        "    num2 = int(input(\"Please enter an integer to divide by: \"))\n",
        "    quotient = num1 // num2\n",
        "    remainder = num1 % num2\n",
        "    print(f\"The result of this division is {quotient} with a remainder of {remainder}\")\n",
        "\n",
        "if __name__ == \"__main__\":\n",
        "    main()\n"
      ],
      "metadata": {
        "colab": {
          "base_uri": "https://localhost:8080/"
        },
        "id": "sOoEvWiarTLA",
        "outputId": "38aa098d-d128-4e92-d126-59bcee42e7ad"
      },
      "execution_count": null,
      "outputs": [
        {
          "output_type": "stream",
          "name": "stdout",
          "text": [
            "Please enter an integer to be divided: 10\n",
            "Please enter an integer to divide by: 2\n",
            "The result of this division is 5 with a remainder of 0\n"
          ]
        }
      ]
    },
    {
      "cell_type": "markdown",
      "source": [
        "**06_rolldic**\n",
        "\n",
        "Problem Statement\n",
        "\n",
        "Simulate rolling two dice, and prints results of each roll as well as the total."
      ],
      "metadata": {
        "id": "VFspDyU7rfi6"
      }
    },
    {
      "cell_type": "code",
      "source": [
        "import random\n",
        "\n",
        "def roll_dice():\n",
        "    die1 = random.randint(1, 6)\n",
        "    die2 = random.randint(1, 6)\n",
        "    total = die1 + die2\n",
        "    print(f\"Die 1: {die1}, Die 2: {die2}, Total: {total}\")\n",
        "\n",
        "def main():\n",
        "    roll_dice()\n",
        "\n",
        "if __name__ == \"__main__\":\n",
        "    main()\n"
      ],
      "metadata": {
        "colab": {
          "base_uri": "https://localhost:8080/"
        },
        "id": "ebFiPv0lrtzy",
        "outputId": "a70c7eed-e5d3-4a21-83af-abdd82b799e7"
      },
      "execution_count": null,
      "outputs": [
        {
          "output_type": "stream",
          "name": "stdout",
          "text": [
            "Die 1: 2, Die 2: 5, Total: 7\n"
          ]
        }
      ]
    },
    {
      "cell_type": "markdown",
      "source": [
        "**06_seconds_in_year**\n",
        "\n",
        "Problem Statement\n",
        "\n",
        "Use Python to calculate the number of seconds in a year, and tell the user what the result is in a nice print statement that looks like this (of course the value 5 should be the calculated number instead):\n",
        "\n",
        "There are 5 seconds in a year!\n",
        "\n",
        "You should use constants for this exercise -- there are 365 days in a year, 24 hours in a day, 60 minutes in an hour, and 60 seconds per minute."
      ],
      "metadata": {
        "id": "MhCS01qUr-By"
      }
    },
    {
      "cell_type": "code",
      "source": [
        "def calculate_seconds_in_year():\n",
        "    days_per_year = 365\n",
        "    hours_per_day = 24\n",
        "    minutes_per_hour = 60\n",
        "    seconds_per_minute = 60\n",
        "\n",
        "    total_seconds = days_per_year * hours_per_day * minutes_per_hour * seconds_per_minute\n",
        "    print(f\"There are {total_seconds} seconds in a year!\")\n",
        "\n",
        "def main():\n",
        "    calculate_seconds_in_year()\n",
        "\n",
        "if __name__ == \"__main__\":\n",
        "    main()\n"
      ],
      "metadata": {
        "colab": {
          "base_uri": "https://localhost:8080/"
        },
        "id": "ldEe3WL0sWuK",
        "outputId": "6d438151-8fce-422d-8aaa-16e12fa00edc"
      },
      "execution_count": null,
      "outputs": [
        {
          "output_type": "stream",
          "name": "stdout",
          "text": [
            "There are 31536000 seconds in a year!\n"
          ]
        }
      ]
    },
    {
      "cell_type": "markdown",
      "source": [
        "**07_tiny_mad_lib**\n",
        "\n",
        "Problem Statement\n",
        "\n",
        "Write a program which prompts the user for an adjective, then a noun, then a verb, and then prints a fun sentence with those words!\n",
        "\n",
        "Mad Libs is a word game where players are prompted for one word at a time, and the words are eventually filled into the blanks of a word template to make an entertaining story! We've provided you with the beginning of a sentence (the SENTENCE_START constant) which will end in a user-inputted adjective, noun, and then verb.\n",
        "\n",
        "Here's a sample run (user input is in bold italics):\n",
        "\n",
        "Please type an adjective and press enter. tiny\n",
        "\n",
        "Please type a noun and press enter. plant\n",
        "\n",
        "Please type a verb and press enter. fly\n",
        "\n",
        "Code in Place is fun. I learned to program and used Python to make my tiny plant fly!"
      ],
      "metadata": {
        "id": "kKU3vvdWsrvC"
      }
    },
    {
      "cell_type": "code",
      "source": [
        "def mad_libs():\n",
        "    adjective = input(\"Please type an adjective and press enter: \")\n",
        "    noun = input(\"Please type a noun and press enter: \")\n",
        "    verb = input(\"Please type a verb and press enter: \")\n",
        "\n",
        "    print(f\"Code in Place is fun. I learned to program and used Python to make my {adjective} {noun} {verb}!\")\n",
        "\n",
        "def main():\n",
        "    mad_libs()\n",
        "\n",
        "if __name__ == \"__main__\":\n",
        "    main()\n"
      ],
      "metadata": {
        "colab": {
          "base_uri": "https://localhost:8080/"
        },
        "id": "_gYhnrdKtIFC",
        "outputId": "970036c0-97e1-46ae-9a8d-fbc9feeacd25"
      },
      "execution_count": null,
      "outputs": [
        {
          "output_type": "stream",
          "name": "stdout",
          "text": [
            "Please type an adjective and press enter: intelligent\n",
            "Please type a noun and press enter: algorithm\n",
            "Please type a verb and press enter: execute\n",
            "Code in Place is fun. I learned to program and used Python to make my intelligent algorithm execute!\n"
          ]
        }
      ]
    },
    {
      "cell_type": "markdown",
      "source": [
        "**Step 02**\n",
        "\n",
        "**02_lists**\n",
        "\n",
        "**01_add_many_number**\n",
        "\n",
        "Problem Statement\n",
        "\n",
        "Write a function that takes a list of numbers and returns the sum of those numbers."
      ],
      "metadata": {
        "id": "gp2vYnuC26xm"
      }
    },
    {
      "cell_type": "code",
      "source": [
        "def sum_numbers(numbers):\n",
        "    return sum(numbers)\n",
        "\n",
        "def main():\n",
        "    numbers = [int(x) for x in input(\"Enter numbers separated by spaces: \").split()]\n",
        "    print(f\"The sum of the numbers is: {sum_numbers(numbers)}\")\n",
        "\n",
        "if __name__ == \"__main__\":\n",
        "    main()\n"
      ],
      "metadata": {
        "colab": {
          "base_uri": "https://localhost:8080/"
        },
        "id": "tOYIqpnw3kwh",
        "outputId": "f6aba725-6548-4185-d772-6a7f1eb9d0f5"
      },
      "execution_count": null,
      "outputs": [
        {
          "output_type": "stream",
          "name": "stdout",
          "text": [
            "Enter numbers separated by spaces: 2 5 2\n",
            "The sum of the numbers is: 9\n"
          ]
        }
      ]
    },
    {
      "cell_type": "markdown",
      "source": [
        "**02_double_lis**\n",
        "\n",
        "Problem Statement\n",
        "\n",
        "Write a program that doubles each element in a list of numbers. For example, if you start with this list:\n",
        "\n",
        "numbers = [1, 2, 3, 4]\n",
        "\n",
        "You should end with this list:\n",
        "\n",
        "numbers = [2, 4, 6, 8]"
      ],
      "metadata": {
        "id": "C9mGr26X4daY"
      }
    },
    {
      "cell_type": "code",
      "source": [
        "def double_numbers(numbers):\n",
        "    return [num * 2 for num in numbers]\n",
        "\n",
        "def main():\n",
        "    numbers = [int(x) for x in input(\"Enter numbers separated by spaces: \").split()]\n",
        "    print(f\"The doubled numbers are: {double_numbers(numbers)}\")\n",
        "\n",
        "if __name__ == \"__main__\":\n",
        "    main()\n"
      ],
      "metadata": {
        "colab": {
          "base_uri": "https://localhost:8080/"
        },
        "id": "wbOBkqQp4wFn",
        "outputId": "9ad3702a-f91b-4bd6-fcc4-166211acf735"
      },
      "execution_count": null,
      "outputs": [
        {
          "output_type": "stream",
          "name": "stdout",
          "text": [
            "Enter numbers separated by spaces: 2 4 6\n",
            "The doubled numbers are: [4, 8, 12]\n"
          ]
        }
      ]
    },
    {
      "cell_type": "markdown",
      "source": [
        "**03_erase_canvas**\n",
        "\n",
        "Problem Statement\n",
        "\n",
        "Implement an 'eraser' on a canvas.\n",
        "\n",
        "The canvas consists of a grid of blue 'cells' which are drawn as rectangles on the screen. We then create an eraser rectangle which, when dragged around the canvas, sets all of the rectangles it is in contact with to white.\n",
        "\n",
        "![ila.PNG](data:image/png;base64,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)"
      ],
      "metadata": {
        "id": "iRx8KQuH48Bm"
      }
    },
    {
      "cell_type": "code",
      "source": [
        "import pygame\n",
        "\n",
        "# Initialize Pygame\n",
        "pygame.init()\n",
        "\n",
        "# Constants\n",
        "WIDTH, HEIGHT = 600, 400\n",
        "CELL_SIZE = 20\n",
        "ERASER_SIZE = 40\n",
        "BLUE = (0, 0, 255)\n",
        "WHITE = (255, 255, 255)\n",
        "\n",
        "# Create screen\n",
        "screen = pygame.display.set_mode((WIDTH, HEIGHT))\n",
        "pygame.display.set_caption(\"Eraser Canvas\")\n",
        "\n",
        "# Create grid\n",
        "rows = HEIGHT // CELL_SIZE\n",
        "cols = WIDTH // CELL_SIZE\n",
        "grid = [[BLUE for _ in range(cols)] for _ in range(rows)]\n",
        "\n",
        "# Game loop\n",
        "running = True\n",
        "while running:\n",
        "    screen.fill(WHITE)\n",
        "\n",
        "    # Draw the grid\n",
        "    for row in range(rows):\n",
        "        for col in range(cols):\n",
        "            pygame.draw.rect(screen, grid[row][col],\n",
        "                             (col * CELL_SIZE, row * CELL_SIZE, CELL_SIZE, CELL_SIZE))\n",
        "\n",
        "    # Get mouse position\n",
        "    mouse_x, mouse_y = pygame.mouse.get_pos()\n",
        "\n",
        "    # Check for mouse drag\n",
        "    for event in pygame.event.get():\n",
        "        if event.type == pygame.QUIT:\n",
        "            running = False\n",
        "        elif pygame.mouse.get_pressed()[0]:  # Left mouse button is pressed\n",
        "            eraser_x = mouse_x // CELL_SIZE\n",
        "            eraser_y = mouse_y // CELL_SIZE\n",
        "\n",
        "            # Erase cells within eraser size\n",
        "            for i in range(-ERASER_SIZE // CELL_SIZE, ERASER_SIZE // CELL_SIZE):\n",
        "                for j in range(-ERASER_SIZE // CELL_SIZE, ERASER_SIZE // CELL_SIZE):\n",
        "                    new_x, new_y = eraser_x + i, eraser_y + j\n",
        "                    if 0 <= new_x < cols and 0 <= new_y < rows:\n",
        "                        grid[new_y][new_x] = WHITE  # Erasing effect\n",
        "\n",
        "    pygame.display.flip()  # Update display\n",
        "\n",
        "pygame.quit()\n"
      ],
      "metadata": {
        "id": "M_GKnOCwkHDc"
      },
      "execution_count": null,
      "outputs": []
    },
    {
      "cell_type": "markdown",
      "source": [
        "**04_flowing_with_data_structures**\n",
        "\n",
        "Problem Statement\n",
        "\n",
        "In the information flow lesson, we discussed using a variable storing a number as an example of scope. We saw that changes we made to the number inside a function did not stay unless we returned it. This is true for what we call immutable data types which include things like numbers and strings.\n",
        "\n",
        "However, there are also mutable data types where changes stay even if we don't return anything. Some examples of mutable data types are lists and dictionaries. This means that you should be mindful when modifying lists and dictionaries within helper functions since their changes stay whether or not you return them.\n",
        "\n",
        "To see this in action, fill out the add_three_copies(...) function which takes a list and some data and then adds three copies of the data to the list. Don't return anything and see what happens! Compare this process to the x = change(x) example and note the differences.\n",
        "\n",
        "Here is an example run of this program (user input in bold italics):\n",
        "\n",
        "Enter a message to copy: Hello world!\n",
        "\n",
        "List before: []\n",
        "\n",
        "List after: ['Hello world!', 'Hello world!', 'Hello world!']\n",
        "\n",
        "(Note. The concept of immutable/mutable data types is called mutability. Be careful because different programming languages have different rules regarding mutability!)"
      ],
      "metadata": {
        "id": "E7ewaVF-9Nk3"
      }
    },
    {
      "cell_type": "code",
      "source": [
        "def add_three_copies(lst, data):\n",
        "    lst.append(data)\n",
        "    lst.append(data)\n",
        "    lst.append(data)\n",
        "\n",
        "# Empty list\n",
        "my_list = []\n",
        "\n",
        "# User input\n",
        "message = input(\"Enter a message to copy: \")\n",
        "\n",
        "print(\"List before:\", my_list)\n",
        "\n",
        "# Calling function\n",
        "add_three_copies(my_list, message)\n",
        "\n",
        "print(\"List after:\", my_list)\n"
      ],
      "metadata": {
        "colab": {
          "base_uri": "https://localhost:8080/"
        },
        "id": "8i9KEdzd9ri_",
        "outputId": "57376598-3d46-4a73-dd61-625b3e2fd67a"
      },
      "execution_count": null,
      "outputs": [
        {
          "output_type": "stream",
          "name": "stdout",
          "text": [
            "Enter a message to copy: Hello Faizan\n",
            "List before: []\n",
            "List after: ['Hello Faizan', 'Hello Faizan', 'Hello Faizan']\n"
          ]
        }
      ]
    },
    {
      "cell_type": "markdown",
      "source": [
        "**05_get_first_element**\n",
        "\n",
        "Problem Statement\n",
        "\n",
        "Fill out the function get_first_element(lst) which takes in a list lst as a parameter and prints the first element in the list. The list is guaranteed to be non-empty. We've written some code for you which prompts the user to input the list one element at a time."
      ],
      "metadata": {
        "id": "SumAj8c9-Nnz"
      }
    },
    {
      "cell_type": "code",
      "source": [
        "def get_first_element(lst):\n",
        "    print(\"First element:\", lst[0])\n",
        "\n",
        "# Empty list to store user input\n",
        "user_list = []\n",
        "\n",
        "# Asking user for list elements\n",
        "n = int(input(\"Enter number of elements in the list: \"))\n",
        "\n",
        "for i in range(n):\n",
        "    element = input(f\"Enter element {i+1}: \")\n",
        "    user_list.append(element)\n",
        "\n",
        "# Calling function\n",
        "get_first_element(user_list)\n"
      ],
      "metadata": {
        "colab": {
          "base_uri": "https://localhost:8080/"
        },
        "id": "KYjlFEb2-lsT",
        "outputId": "5f2542e2-c54c-4b9d-a70d-6c6458f67628"
      },
      "execution_count": null,
      "outputs": [
        {
          "output_type": "stream",
          "name": "stdout",
          "text": [
            "Enter number of elements in the list: 4\n",
            "Enter element 1: Peach\n",
            "Enter element 2: Apple\n",
            "Enter element 3: Orange\n",
            "Enter element 4: Mango\n",
            "First element: Peach\n"
          ]
        }
      ]
    },
    {
      "cell_type": "markdown",
      "source": [
        "**06_get_last_element**\n",
        "\n",
        "Problem Statement\n",
        "\n",
        "Fill out the function get_last_element(lst) which takes in a list lst as a parameter and prints the last element in the list. The list is guaranteed to be non-empty, but there are no guarantees on its length."
      ],
      "metadata": {
        "id": "9ptk4-JS_T3U"
      }
    },
    {
      "cell_type": "code",
      "source": [
        "def get_last_element(lst):\n",
        "    print(\"Last element:\", lst[-1])  # Accessing last element using negative indexing\n",
        "\n",
        "# Empty list to store user input\n",
        "user_list = []\n",
        "\n",
        "# Asking user for list elements\n",
        "n = int(input(\"Enter number of elements in the list: \"))\n",
        "\n",
        "for i in range(n):\n",
        "    element = input(f\"Enter element {i+1}: \")\n",
        "    user_list.append(element)\n",
        "\n",
        "# Calling function\n",
        "get_last_element(user_list)\n"
      ],
      "metadata": {
        "colab": {
          "base_uri": "https://localhost:8080/"
        },
        "id": "vWlmuOqJACPe",
        "outputId": "2f142b41-17bc-4d52-aea2-89f8f5d736d7"
      },
      "execution_count": null,
      "outputs": [
        {
          "output_type": "stream",
          "name": "stdout",
          "text": [
            "Enter number of elements in the list: 5\n",
            "Enter element 1: Potato\n",
            "Enter element 2: Tomato\n",
            "Enter element 3: Carrot\n",
            "Enter element 4: Gabbage\n",
            "Enter element 5: Beans\n",
            "Last element: Beans\n"
          ]
        }
      ]
    },
    {
      "cell_type": "markdown",
      "source": [
        "**07_get_list**\n",
        "\n",
        "Problem Statement\n",
        "Write a program which continuously asks the user to enter values which are added one by one into a list. When the user presses enter without typing anything, print the list.\n",
        "\n",
        "Here's a sample run (user input is in blue):\n",
        "\n",
        "Enter a value: 1 Enter a value: 2 Enter a value: 3 Enter a value: Here's the list: ['1', '2', '3']"
      ],
      "metadata": {
        "id": "_D7DmIapAfej"
      }
    },
    {
      "cell_type": "code",
      "source": [
        "# Empty list to store user input\n",
        "user_list = []\n",
        "\n",
        "while True:\n",
        "    value = input(\"Enter a value: \")\n",
        "\n",
        "    if value == \"\":  # Check if the input is empty\n",
        "        break  # Exit loop\n",
        "\n",
        "    user_list.append(value)  # Add value to list\n",
        "\n",
        "print(\"Here's the list:\", user_list)\n"
      ],
      "metadata": {
        "colab": {
          "base_uri": "https://localhost:8080/"
        },
        "id": "-YcaBOVQA4yc",
        "outputId": "7ae75c54-c40b-4741-f3b1-44288e80f5a6"
      },
      "execution_count": null,
      "outputs": [
        {
          "output_type": "stream",
          "name": "stdout",
          "text": [
            "Enter a value: 1\n",
            "Enter a value: 2\n",
            "Enter a value: 3\n",
            "Enter a value: 4\n",
            "Enter a value: 5\n",
            "Enter a value: \n",
            "Here's the list: ['1', '2', '3', '4', '5']\n"
          ]
        }
      ]
    },
    {
      "cell_type": "markdown",
      "source": [
        "**08_shorten**\n",
        "\n",
        "Problem Statement\n",
        "\n",
        "Fill out the function shorten(lst) which removes elements from the end of lst, which is a list, and prints each item it removes until lst is MAX_LENGTH items long. If lst is already shorter than MAX_LENGTH you should leave it unchanged. We've written a main() function for you which gets a list and passes it into your function once you run the program. For the autograder to pass you will need MAX_LENGTH to be 3, but feel free to change it around to test your program."
      ],
      "metadata": {
        "id": "MgFsUpcGBEdD"
      }
    },
    {
      "cell_type": "code",
      "source": [
        "MAX_LENGTH = 3  # Define the max length for the list\n",
        "\n",
        "def shorten(lst):\n",
        "    while len(lst) > MAX_LENGTH:\n",
        "        removed_item = lst.pop()  # Remove the last element\n",
        "        print(\"Removed:\", removed_item)  # Print removed element\n",
        "\n",
        "# Example usage\n",
        "def main():\n",
        "    lst = input(\"Enter list elements separated by space: \").split()\n",
        "    print(\"Original list:\", lst)\n",
        "    shorten(lst)\n",
        "    print(\"Final list:\", lst)\n",
        "\n",
        "main()\n"
      ],
      "metadata": {
        "colab": {
          "base_uri": "https://localhost:8080/"
        },
        "id": "87kAyKf3BdaH",
        "outputId": "d2d7fdcb-a853-4571-9690-1e23fe8e6237"
      },
      "execution_count": null,
      "outputs": [
        {
          "output_type": "stream",
          "name": "stdout",
          "text": [
            "Enter list elements separated by space: 10 20 30 40 50 60\n",
            "Original list: ['10', '20', '30', '40', '50', '60']\n",
            "Removed: 60\n",
            "Removed: 50\n",
            "Removed: 40\n",
            "Final list: ['10', '20', '30']\n"
          ]
        }
      ]
    },
    {
      "cell_type": "markdown",
      "source": [
        "**step 03**\n",
        "\n",
        "**03_if_statements**\n",
        "\n",
        "**01_print_events**\n",
        "\n",
        "Problem Statement\n",
        "\n",
        "Write a program that prints the first 20 even numbers. There are several correct approaches, but they all use a loop of some sort. Do no write twenty print statements\n",
        "\n",
        "The first even number is 0:\n",
        "\n",
        "0 2 4 6 8 10 12 14 16 18 20 22 24 26 28 30 32 34 36 38\n"
      ],
      "metadata": {
        "id": "w5TA8BCOEAq7"
      }
    },
    {
      "cell_type": "code",
      "source": [
        "for i in range(20):\n",
        "    print(i * 2, end=\" \")\n"
      ],
      "metadata": {
        "colab": {
          "base_uri": "https://localhost:8080/"
        },
        "id": "fwoTWAw7E0yL",
        "outputId": "c8f7403b-7791-49a1-a506-23a993b5c3db"
      },
      "execution_count": null,
      "outputs": [
        {
          "output_type": "stream",
          "name": "stdout",
          "text": [
            "0 2 4 6 8 10 12 14 16 18 20 22 24 26 28 30 32 34 36 38 "
          ]
        }
      ]
    },
    {
      "cell_type": "markdown",
      "source": [
        "**02_international_voting_age**\n",
        "\n",
        "Problem Statement\n",
        "Write a program which asks a user for their age and lets them know if they can or can't vote in the following three fictional countries.\n",
        "\n",
        "Around the world, different countries have different voting ages. In the fictional countries of Peturksbouipo, Stanlau, and Mayengua, the voting ages are very different:\n",
        "\n",
        "the voting age in Peturksbouipo is 16 (in real life, this is the voting age in, for example, Scotland, Ethiopia, and Austria)\n",
        "\n",
        "the voting age in Stanlau is 25 (in real life this is the voting age in the United Arab Emirates)\n",
        "\n",
        "the voting age in Mayengua is 48 (in real life, as far as we can tell, this isn't the voting age anywhere)\n",
        "\n",
        "Your code should prompt the for their age and print whether or not they can vote in Peturksbouipo, Stanlau, or Mayengua.\n",
        "\n",
        "Here's a sample run of the program (user input is in blue):\n",
        "\n",
        "How old are you? 20 You can vote in Peturksbouipo where the voting age is 16. You cannot vote in Stanlau where the voting age is 25. You cannot vote in Mayengua where the voting age is 48."
      ],
      "metadata": {
        "id": "wLcxndF-E6Yz"
      }
    },
    {
      "cell_type": "code",
      "source": [
        "# User se age input lena\n",
        "age = int(input(\"How old are you? \"))\n",
        "\n",
        "# Voting age conditions\n",
        "if age >= 16:\n",
        "    print(\"You can vote in Peturksbouipo where the voting age is 16.\")\n",
        "else:\n",
        "    print(\"You cannot vote in Peturksbouipo where the voting age is 16.\")\n",
        "\n",
        "if age >= 25:\n",
        "    print(\"You can vote in Stanlau where the voting age is 25.\")\n",
        "else:\n",
        "    print(\"You cannot vote in Stanlau where the voting age is 25.\")\n",
        "\n",
        "if age >= 48:\n",
        "    print(\"You can vote in Mayengua where the voting age is 48.\")\n",
        "else:\n",
        "    print(\"You cannot vote in Mayengua where the voting age is 48.\")\n"
      ],
      "metadata": {
        "colab": {
          "base_uri": "https://localhost:8080/"
        },
        "id": "s96CeeK3FQQb",
        "outputId": "01eb9b1d-ca9b-4133-8c39-01d3afdf55e4"
      },
      "execution_count": null,
      "outputs": [
        {
          "output_type": "stream",
          "name": "stdout",
          "text": [
            "How old are you? 23\n",
            "You can vote in Peturksbouipo where the voting age is 16.\n",
            "You cannot vote in Stanlau where the voting age is 25.\n",
            "You cannot vote in Mayengua where the voting age is 48.\n"
          ]
        }
      ]
    },
    {
      "cell_type": "markdown",
      "source": [
        "**03_leap_year**\n",
        "\n",
        "Problem Statement\n",
        "\n",
        "Write a program that reads a year from the user and tells whether a given year is a leap year or not.\n",
        "\n",
        "A leap year (also known as an intercalary year or bissextile year) is a calendar year that contains an additional day (or, in the case of a lunisolar calendar, a month) added to keep the calendar year synchronized with the astronomical year or seasonal year. In the Gregorian calendar, each leap year has 366 days instead of 365, by extending February to 29 days rather than the common 28.\n",
        "\n",
        "In the Gregorian calendar, three criteria must be checked to identify leap years:\n",
        "\n",
        "The given year must be evenly divisible by 4;\n",
        "If the year can also be evenly divided by 100, it is NOT a leap year; unless:\n",
        "The year is also evenly divisible by 400. Then it is a leap year.\n",
        "Your code should use the above criteria to check for a leap year and then print either \"That's a leap year!\" or \"That's not a leap year"
      ],
      "metadata": {
        "id": "6WIu0d3bFgNk"
      }
    },
    {
      "cell_type": "code",
      "source": [
        "# User se year input lena\n",
        "year = int(input(\"Enter a year: \"))\n",
        "\n",
        "# Leap year check conditions\n",
        "if (year % 4 == 0 and year % 100 != 0) or (year % 400 == 0):\n",
        "    print(\"That's a leap year!\")\n",
        "else:\n",
        "    print(\"That's not a leap year.\")\n"
      ],
      "metadata": {
        "colab": {
          "base_uri": "https://localhost:8080/"
        },
        "id": "PcnLq7vSGILk",
        "outputId": "84089437-210c-4957-ba19-e641f8405a8f"
      },
      "execution_count": null,
      "outputs": [
        {
          "output_type": "stream",
          "name": "stdout",
          "text": [
            "Enter a year: 2025\n",
            "That's not a leap year.\n"
          ]
        }
      ]
    },
    {
      "cell_type": "markdown",
      "source": [
        "**04_tall_enough_to_ride**\n",
        "\n",
        "Problem Statement\n",
        "\n",
        "Write a program which asks the user how tall they are and prints whether or not they're taller than a pre-specified minimum height.\n",
        "\n",
        "In amusement parks (ah, the good old pre-pandemic days...), rollercoasters frequently have minimum height requirements for safety reasons. Assume for now that the minimum height is 50 of whatever height unit you'd like\n",
        "\n",
        "Here's two sample runs (user input is in bold italics):\n",
        "\n",
        "How tall are you? 100\n",
        "\n",
        "You're tall enough to ride!\n",
        "\n",
        "How tall are you? 10\n",
        "\n",
        "You're not tall enough to ride, but maybe next year!\n",
        "\n",
        "(For an extra challenge, write code which will repeatedly ask a user how tall they are and tell them whether or not they're tall enough to ride, until the user doesn't enter a height at all, in which case the program stops. Curious about how to do this? See the function tall_enough_extension() in the solution code!)"
      ],
      "metadata": {
        "id": "YV6wrvgpGu5D"
      }
    },
    {
      "cell_type": "code",
      "source": [
        "while True:\n",
        "    height = input(\"How tall are you? (Press enter to stop): \")\n",
        "\n",
        "    if height == \"\":\n",
        "        print(\"Goodbye!\")\n",
        "        break  # Agar user enter daba de to loop ruk jaye\n",
        "\n",
        "    height = int(height)  # String input ko integer mein convert karein\n",
        "\n",
        "    if height >= 50:\n",
        "        print(\"You're tall enough to ride!\")\n",
        "    else:\n",
        "        print(\"You're not tall enough to ride, but maybe next year!\")\n"
      ],
      "metadata": {
        "colab": {
          "base_uri": "https://localhost:8080/"
        },
        "id": "JQihfVSeHs4b",
        "outputId": "a53b129b-e56a-4b68-ccb1-14be08d30eac"
      },
      "execution_count": null,
      "outputs": [
        {
          "output_type": "stream",
          "name": "stdout",
          "text": [
            "How tall are you? (Press enter to stop): 60\n",
            "You're tall enough to ride!\n",
            "How tall are you? (Press enter to stop): 30\n",
            "You're not tall enough to ride, but maybe next year!\n",
            "How tall are you? (Press enter to stop): \n",
            "Goodbye!\n"
          ]
        }
      ]
    },
    {
      "cell_type": "markdown",
      "source": [
        "**05_random_numbers**\n",
        "\n",
        "Problem Statement\n",
        "\n",
        "Print 10 random numbers in the range 1 to 100.\n",
        "\n",
        "Here is an example run:\n",
        "\n",
        "45 79 61 47 52 10 16 83 19 12\n",
        "\n",
        "Each time you run your program you should get different numbers\n",
        "\n",
        "81 76 70 1 27 63 96 100 32 92\n",
        "\n",
        "Recall that the python random library has a function randint which returns an integer in the range set by the parameters (inclusive). For example this call would produce a random integer between 1 and 6, which could include 1 and could include 6:\n",
        "\n",
        "value = random.randint(1, 6)"
      ],
      "metadata": {
        "id": "y6dG9PLSH30b"
      }
    },
    {
      "cell_type": "code",
      "source": [
        "import random\n",
        "\n",
        "for _ in range(10):\n",
        "    print(random.randint(1, 100), end=\" \")\n"
      ],
      "metadata": {
        "colab": {
          "base_uri": "https://localhost:8080/"
        },
        "id": "7mAlweRgII58",
        "outputId": "6d109c85-afdb-4090-c88b-a1ec60e207a2"
      },
      "execution_count": null,
      "outputs": [
        {
          "output_type": "stream",
          "name": "stdout",
          "text": [
            "38 55 99 47 2 91 84 60 56 47 "
          ]
        }
      ]
    },
    {
      "cell_type": "markdown",
      "source": [
        "**Step 04**\n",
        "\n",
        "**04_dictionaries**\n",
        "\n",
        "**00_count_nums**\n",
        "\n",
        "Problem Statement\n",
        "\n",
        "This program counts the number of times each number appears in a list. It uses a dictionary to keep track of the information.\n",
        "\n",
        "An example run of the program looks like this (user input is in blue):\n",
        "\n",
        "Enter a number: 3 Enter a number: 4 Enter a number: 3 Enter a number: 6 Enter a number: 4 Enter a number: 3 Enter a number: 12 Enter a number: 3 appears 3 times. 4 appears 2 times. 6 appears 1 times. 12 appears 1 times."
      ],
      "metadata": {
        "id": "g5YYZqz9INB7"
      }
    },
    {
      "cell_type": "code",
      "source": [
        "numbers_count = {}\n",
        "\n",
        "while True:\n",
        "    num = input(\"Enter a number (or press enter to stop): \")\n",
        "    if num == \"\":\n",
        "        break\n",
        "    num = int(num)\n",
        "    numbers_count[num] = numbers_count.get(num, 0) + 1\n",
        "\n",
        "for num, count in numbers_count.items():\n",
        "    print(f\"{num} appears {count} times.\")\n"
      ],
      "metadata": {
        "colab": {
          "base_uri": "https://localhost:8080/"
        },
        "id": "JQ0ARMrPSdDG",
        "outputId": "58d0078b-0e89-43ad-f72e-7a7cacc8a603"
      },
      "execution_count": null,
      "outputs": [
        {
          "output_type": "stream",
          "name": "stdout",
          "text": [
            "Enter a number (or press enter to stop): 2\n",
            "Enter a number (or press enter to stop): 4\n",
            "Enter a number (or press enter to stop): 2\n",
            "Enter a number (or press enter to stop): 7\n",
            "Enter a number (or press enter to stop): 4\n",
            "Enter a number (or press enter to stop): 5\n",
            "Enter a number (or press enter to stop): 6\n",
            "Enter a number (or press enter to stop): \n",
            "2 appears 2 times.\n",
            "4 appears 2 times.\n",
            "7 appears 1 times.\n",
            "5 appears 1 times.\n",
            "6 appears 1 times.\n"
          ]
        }
      ]
    },
    {
      "cell_type": "markdown",
      "source": [
        "**01_phonebook**\n",
        "\n",
        "Problem Statement\n",
        "\n",
        "In this program we show an example of using dictionaries to keep track of information in a phonebook."
      ],
      "metadata": {
        "id": "1qsQZe0qTEi1"
      }
    },
    {
      "cell_type": "code",
      "source": [
        "phonebook = {}\n",
        "\n",
        "def add_contact(name, number):\n",
        "    phonebook[name] = number\n",
        "    print(f\"{name} added successfully.\")\n",
        "\n",
        "def delete_contact(name):\n",
        "    if name in phonebook:\n",
        "        del phonebook[name]\n",
        "        print(f\"{name} deleted successfully.\")\n",
        "    else:\n",
        "        print(f\"{name} not found.\")\n",
        "\n",
        "def search_contact(name):\n",
        "    if name in phonebook:\n",
        "        print(f\"{name}: {phonebook[name]}\")\n",
        "    else:\n",
        "        print(f\"{name} not found.\")\n",
        "\n",
        "def display_contacts():\n",
        "    if phonebook:\n",
        "        print(\"Phonebook Contacts:\")\n",
        "        for name, number in phonebook.items():\n",
        "            print(f\"{name}: {number}\")\n",
        "    else:\n",
        "        print(\"Phonebook is empty.\")\n",
        "\n",
        "while True:\n",
        "    print(\"\\nOptions: add, delete, search, display, exit\")\n",
        "    choice = input(\"Enter your choice: \").strip().lower()\n",
        "\n",
        "    if choice == \"add\":\n",
        "        name = input(\"Enter contact name: \")\n",
        "        number = input(\"Enter phone number: \")\n",
        "        add_contact(name, number)\n",
        "\n",
        "    elif choice == \"delete\":\n",
        "        name = input(\"Enter contact name to delete: \")\n",
        "        delete_contact(name)\n",
        "\n",
        "    elif choice == \"search\":\n",
        "        name = input(\"Enter contact name to search: \")\n",
        "        search_contact(name)\n",
        "\n",
        "    elif choice == \"display\":\n",
        "        display_contacts()\n",
        "\n",
        "    elif choice == \"exit\":\n",
        "        print(\"Exiting phonebook...\")\n",
        "        break\n",
        "\n",
        "    else:\n",
        "        print(\"Invalid choice! Please try again.\")\n"
      ],
      "metadata": {
        "colab": {
          "base_uri": "https://localhost:8080/"
        },
        "id": "8Rg1PN7-TrDj",
        "outputId": "d89af16c-43d1-447f-c131-eb17ab54887a"
      },
      "execution_count": null,
      "outputs": [
        {
          "output_type": "stream",
          "name": "stdout",
          "text": [
            "\n",
            "Options: add, delete, search, display, exit\n",
            "Enter your choice: add\n",
            "Enter contact name: Faizan\n",
            "Enter phone number: 03112281305\n",
            "Faizan added successfully.\n",
            "\n",
            "Options: add, delete, search, display, exit\n",
            "Enter your choice: display\n",
            "Phonebook Contacts:\n",
            "Faizan: 03112281305\n",
            "\n",
            "Options: add, delete, search, display, exit\n",
            "Enter your choice: search\n",
            "Enter contact name to search: Faizan\n",
            "Faizan: 03112281305\n",
            "\n",
            "Options: add, delete, search, display, exit\n",
            "Enter your choice: delete\n",
            "Enter contact name to delete: Faizan\n",
            "Faizan deleted successfully.\n",
            "\n",
            "Options: add, delete, search, display, exit\n",
            "Enter your choice: exit\n",
            "Exiting phonebook...\n"
          ]
        }
      ]
    },
    {
      "cell_type": "markdown",
      "source": [
        "**02_pop_up_shop**\n",
        "\n",
        "Problem Statement\n",
        "\n",
        "There's a small fruit shop nearby your house that you like to buy from. Since you buy several fruit at a time, you want to keep track of how much the fruit will cost before you go. Luckily you wrote down what fruits were available and how much one of each fruit costs.\n",
        "\n",
        "Write a program that loops through a dictionary of fruits, prompting the user to see how many of each fruit they want to buy, and then prints out the total combined cost of all of the fruits.\n",
        "\n",
        "Here is an example run of the program (user input is in bold italics):\n",
        "\n",
        "How many (apple) do you want?: 2\n",
        "\n",
        "How many (durian) do you want?: 0\n",
        "\n",
        "How many (jackfruit) do you want?: 1\n",
        "\n",
        "How many (kiwi) do you want?: 0\n",
        "\n",
        "How many (rambutan) do you want?: 1\n",
        "\n",
        "How many (mango) do you want?: 3\n",
        "\n",
        "Your total is $99.5"
      ],
      "metadata": {
        "id": "eQERgi4JUWhL"
      }
    },
    {
      "cell_type": "code",
      "source": [
        "# Fruit price dictionary\n",
        "fruit_prices = {\n",
        "    \"apple\": 5.0,\n",
        "    \"durian\": 15.0,\n",
        "    \"jackfruit\": 10.0,\n",
        "    \"kiwi\": 7.5,\n",
        "    \"rambutan\": 12.0,\n",
        "    \"mango\": 8.5\n",
        "}\n",
        "\n",
        "total_cost = 0  # Initialize total cost\n",
        "\n",
        "# Loop through each fruit\n",
        "for fruit, price in fruit_prices.items():\n",
        "    quantity = int(input(f\"How many ({fruit}) do you want?: \"))\n",
        "    total_cost += quantity * price  # Add cost of this fruit\n",
        "\n",
        "# Print total cost\n",
        "print(f\"Your total is ${total_cost:.2f}\")\n"
      ],
      "metadata": {
        "colab": {
          "base_uri": "https://localhost:8080/"
        },
        "id": "SWTIIkxOUu5X",
        "outputId": "024b3418-8f6d-4381-ac2e-bd6c63f42729"
      },
      "execution_count": null,
      "outputs": [
        {
          "output_type": "stream",
          "name": "stdout",
          "text": [
            "How many (apple) do you want?: 3\n",
            "How many (durian) do you want?: 2\n",
            "How many (jackfruit) do you want?: 1\n",
            "How many (kiwi) do you want?: 4\n",
            "How many (rambutan) do you want?: 1\n",
            "How many (mango) do you want?: 2\n",
            "Your total is $114.00\n"
          ]
        }
      ]
    },
    {
      "cell_type": "markdown",
      "source": [
        "**03_powerful_passwords**\n",
        "\n",
        "Problem Statement\n",
        "\n",
        "You want to be safe online and use different passwords for different websites. However, you are forgetful at times and want to make a program that can match which password belongs to which website without storing the actual password!\n",
        "\n",
        "This can be done via something called hashing. Hashing is when we take something and convert it into a different, unique identifier. This is done using a hash function. Luckily, there are several resources that can help us with this.\n",
        "\n",
        "For example, using a hash function called SHA256(...) something as simple as\n",
        "\n",
        "hello\n",
        "\n",
        "can be hashed into a much more complex\n",
        "\n",
        "2cf24dba5fb0a30e26e83b2ac5b9e29e1b161e5c1fa7425e73043362938b9824\n",
        "\n",
        "Fill out the login(...) function for a website that hashes their passwords. Login should return True if an email's stored password hash in stored_logins is the same as the hash of password_to_check.\n",
        "\n",
        "(Hint. You will need to use the provided hash_password(...) function. You don't necessarily need to know how it works, just know that hash_password(...) returns the hash for the password!)"
      ],
      "metadata": {
        "id": "Q1ZeMe7GVDXv"
      }
    },
    {
      "cell_type": "code",
      "source": [
        "import hashlib\n",
        "\n",
        "def hash_password(password):\n",
        "    \"\"\"Given a password, return its SHA-256 hash.\"\"\"\n",
        "    return hashlib.sha256(password.encode()).hexdigest()\n",
        "\n",
        "def login(email, password_to_check, stored_logins):\n",
        "    \"\"\"\n",
        "    Check if the given password's hash matches the stored hash.\n",
        "\n",
        "    :param email: User's email\n",
        "    :param password_to_check: Password entered by the user\n",
        "    :param stored_logins: Dictionary of email -> hashed password\n",
        "    :return: True if login is successful, otherwise False\n",
        "    \"\"\"\n",
        "    hashed_password = hash_password(password_to_check)\n",
        "    return stored_logins.get(email) == hashed_password\n",
        "\n",
        "# Example usage:\n",
        "stored_logins = {\n",
        "    \"user@example.com\": hash_password(\"securepassword\"),\n",
        "    \"admin@example.com\": hash_password(\"faizee123\"),\n",
        "    \"faizee956@gmail.com\": hash_password(\"faizee123\"),  # ✅ Add this entry\n",
        "}\n",
        "\n",
        "# Simulating user login\n",
        "email = input(\"Enter your email: \")\n",
        "password = input(\"Enter your password: \")\n",
        "\n",
        "if login(email, password, stored_logins):\n",
        "    print(\"Login successful!\")\n",
        "else:\n",
        "    print(\"Invalid credentials.\")\n"
      ],
      "metadata": {
        "colab": {
          "base_uri": "https://localhost:8080/"
        },
        "id": "Ep_qUPvkVdQs",
        "outputId": "ed97f47c-3781-4217-af35-ff731776d8e5"
      },
      "execution_count": null,
      "outputs": [
        {
          "output_type": "stream",
          "name": "stdout",
          "text": [
            "Enter your email: faizee956@gmail.com\n",
            "Enter your password: faizee123\n",
            "Login successful!\n"
          ]
        }
      ]
    },
    {
      "cell_type": "markdown",
      "source": [
        "**Step 05**\n",
        "\n",
        "**05_loops_control_flow**\n",
        "\n",
        "**00_guess_my_number**\n",
        "\n",
        "Problem Statement\n",
        "\n",
        "Guess My Number\n",
        "\n",
        "I am thinking of a number between 0 and 99... Enter a guess: 50 Your guess is too high\n",
        "\n",
        "Enter a new number: 25 Your guess is too low\n",
        "\n",
        "Enter a new number: 40 Your guess is too low\n",
        "\n",
        "Enter a new number: 45 Your guess is too low\n",
        "\n",
        "Enter a new number: 48 Congrats! The number was: 48"
      ],
      "metadata": {
        "id": "t1AJzcQYD9XV"
      }
    },
    {
      "cell_type": "code",
      "source": [
        "import random\n",
        "\n",
        "# Generate a random number between 0 and 99\n",
        "secret_number = random.randint(0, 99)\n",
        "\n",
        "print(\"I am thinking of a number between 0 and 99...\")\n",
        "\n",
        "while True:\n",
        "    try:\n",
        "        # Take input from user\n",
        "        guess = int(input(\"Enter a guess: \"))\n",
        "\n",
        "        # Check the guess\n",
        "        if guess < secret_number:\n",
        "            print(\"Your guess is too low\")\n",
        "        elif guess > secret_number:\n",
        "            print(\"Your guess is too high\")\n",
        "        else:\n",
        "            print(f\"Congrats! The number was: {secret_number}\")\n",
        "            break  # Exit loop if guess is correct\n",
        "    except ValueError:\n",
        "        print(\"Please enter a valid number!\")\n"
      ],
      "metadata": {
        "colab": {
          "base_uri": "https://localhost:8080/"
        },
        "id": "97GuRJXEEr5L",
        "outputId": "34e72d34-aed4-4891-9a23-3d926f46684e"
      },
      "execution_count": null,
      "outputs": [
        {
          "output_type": "stream",
          "name": "stdout",
          "text": [
            "I am thinking of a number between 0 and 99...\n",
            "Enter a guess: 89\n",
            "Your guess is too high\n",
            "Enter a guess: 10\n",
            "Your guess is too low\n",
            "Enter a guess: 20\n",
            "Your guess is too low\n",
            "Enter a guess: 60\n",
            "Your guess is too low\n",
            "Enter a guess: 80\n",
            "Your guess is too high\n",
            "Enter a guess: 75\n",
            "Your guess is too high\n",
            "Enter a guess: 70\n",
            "Your guess is too low\n",
            "Enter a guess: 72\n",
            "Your guess is too low\n",
            "Enter a guess: 73\n",
            "Congrats! The number was: 73\n"
          ]
        }
      ]
    },
    {
      "cell_type": "markdown",
      "source": [
        "**01_fibonacci**\n",
        "\n",
        "Problem Statement\n",
        "\n",
        "Write a program to print terms in the Fibonacci sequence up to a maximum value.\n",
        "\n",
        "In the 13th century, the Italian mathematician Leonardo Fibonacci, as a way to explain the geometric growth of a population of rabbits, devised a mathematical sequence that now bears his name. The first two terms in this sequence, Fib(0) and Fib(1), are 0 and 1, and every subsequent term is the sum of the preceding two. Thus, the first several terms in the Fibonacci sequence look like this:\n",
        "\n",
        "Fib(0) = 0 Fib(1) = 1 Fib(2) = 1 = 0 + 1 Fib(3) = 2 = 1 + 1 Fib(4) = 3 = 1 + 2 Fib(5) = 5 = 2 + 3\n",
        "\n",
        "Write a program that displays the terms in the Fibonacci sequence, starting with Fib(0) and continuing as long as the terms are less than 10,000 (you should store this value as a constant!). Thus, your program should produce the following sample run:\n",
        "\n",
        "0 1 1 2 3 5 8 13 21 34 55 89 144 233 377 610 987 1597 2584 4181 6765"
      ],
      "metadata": {
        "id": "H5JiTwTeFMfP"
      }
    },
    {
      "cell_type": "code",
      "source": [
        "# Maximum value for Fibonacci sequence\n",
        "MAX_VALUE = 10000\n",
        "\n",
        "# First two terms of Fibonacci sequence\n",
        "a, b = 0, 1\n",
        "\n",
        "# Print Fibonacci sequence until the terms are less than MAX_VALUE\n",
        "while a < MAX_VALUE:\n",
        "    print(a, end=\" \")  # Print the term\n",
        "    a, b = b, a + b  # Move to the next term\n"
      ],
      "metadata": {
        "colab": {
          "base_uri": "https://localhost:8080/"
        },
        "id": "Zi7m-5UtFmNs",
        "outputId": "f4ab987c-c48a-4d2e-e65f-fedfd05ee6c5"
      },
      "execution_count": null,
      "outputs": [
        {
          "output_type": "stream",
          "name": "stdout",
          "text": [
            "0 1 1 2 3 5 8 13 21 34 55 89 144 233 377 610 987 1597 2584 4181 6765 "
          ]
        }
      ]
    },
    {
      "cell_type": "markdown",
      "source": [
        "**02_print_event**\n",
        "\n",
        "Problem Statement\n",
        "\n",
        "Write a program that prints the first 20 even numbers. There are several correct approaches, but they all use a loop of some sort. Do no write twenty print statements\n",
        "\n",
        "The first even number is 0:\n",
        "\n",
        "0 2 4 6 8 10 12 14 16 18 20 22 24 26 28 30 32 34 36 38"
      ],
      "metadata": {
        "id": "UINLBtROFqsd"
      }
    },
    {
      "cell_type": "code",
      "source": [
        "# Print first 20 even numbers\n",
        "for i in range(20):\n",
        "    print(i * 2, end=\" \")  # Multiply i by 2 to get even numbers\n"
      ],
      "metadata": {
        "colab": {
          "base_uri": "https://localhost:8080/"
        },
        "id": "qbZehwJqF9ab",
        "outputId": "008ae445-02e4-4db1-90c4-9ccc835c8c35"
      },
      "execution_count": null,
      "outputs": [
        {
          "output_type": "stream",
          "name": "stdout",
          "text": [
            "0 2 4 6 8 10 12 14 16 18 20 22 24 26 28 30 32 34 36 38 "
          ]
        }
      ]
    },
    {
      "cell_type": "markdown",
      "source": [
        "**03_wholesome_machine**\n",
        "\n",
        "Problem Statement\n",
        "\n",
        "Write a program which prompts the user to type an affirmation of your choice (we'll use \"I am capable of doing anything I put my mind to.\") until they type it correctly. Sometimes, especially in the midst of such uncertain times, we just need to be reminded that we are resilient, capable, and strong; this little Python program may be able to help!\n",
        "\n",
        "Here's a sample run of the program (user input is in blue):\n",
        "\n",
        "Please type the following affirmation: I am capable of doing anything I put my mind to. Hmmm That was not the affirmation. Please type the following affirmation: I am capable of doing anything I put my mind to. I am capable of doing anything I put my mind to. That's right! :)\n",
        "\n",
        "Note that you can call input() with no prompt and it will still wait for a user to type something!"
      ],
      "metadata": {
        "id": "USCAbioiGCZl"
      }
    },
    {
      "cell_type": "code",
      "source": [
        "# Correct affirmation\n",
        "correct_affirmation = \"I am capable of doing anything I put my mind to.\"\n",
        "\n",
        "print(\"Please type the following affirmation:\")\n",
        "while True:\n",
        "    user_input = input()  # User se input lena\n",
        "    if user_input == correct_affirmation:\n",
        "        print(\"That's right! :)\")\n",
        "        break  # Loop se bahar nikalna\n",
        "    else:\n",
        "        print(\"Hmmm, that was not the affirmation. Please try again:\")\n"
      ],
      "metadata": {
        "colab": {
          "base_uri": "https://localhost:8080/"
        },
        "id": "sM_QX_4pGfIy",
        "outputId": "c1a05d9d-70b2-4641-b635-31d6a5cd2b45"
      },
      "execution_count": null,
      "outputs": [
        {
          "output_type": "stream",
          "name": "stdout",
          "text": [
            "Please type the following affirmation:\n",
            "I am strong.\n",
            "Hmmm, that was not the affirmation. Please try again:\n",
            "I am Faizan\n",
            "Hmmm, that was not the affirmation. Please try again:\n",
            "I am capable of doing anything I put my mind to.\n",
            "That's right! :)\n"
          ]
        }
      ]
    },
    {
      "cell_type": "markdown",
      "source": [
        "**04_liftoff**\n",
        "\n",
        "Problem Statement\n",
        "\n",
        "Write a program that prints out the calls for a spaceship that is about to launch. Countdown from 10 to 1 and then output Liftoff!\n",
        "\n",
        "Here's a sample run of the program:\n",
        "\n",
        "10 9 8 7 6 5 4 3 2 1 Liftoff!\n",
        "\n",
        "There are many ways to solve this problem. One approach is to use a for loop, and to use the for loop variable i. Recall that i will keep track of how many times the for loop has completed executing its body. As an example this code:\n",
        "\n",
        "for i in range(10): print(i)\n",
        "\n",
        "Will print out the values 0, 1, 2, 3, 4, 5, 6, 7, 8, 9. The values printed in liftoff are 10 minus the number of times the for loop has completed."
      ],
      "metadata": {
        "id": "Bm5asxeUHHVs"
      }
    },
    {
      "cell_type": "code",
      "source": [
        "for i in range(10, 0, -1):  # 10 se 1 tak count karega\n",
        "    print(i, end=\" \")  # Same line pe print karne ke liye end=\" \" use kiya\n",
        "print(\"Liftoff!\")  # Countdown ke baad Liftoff print karega\n"
      ],
      "metadata": {
        "colab": {
          "base_uri": "https://localhost:8080/"
        },
        "id": "6PWUOaioHcE6",
        "outputId": "92400993-e7a5-4f44-f84d-47f1a9eb50b0"
      },
      "execution_count": null,
      "outputs": [
        {
          "output_type": "stream",
          "name": "stdout",
          "text": [
            "10 9 8 7 6 5 4 3 2 1 Liftoff!\n"
          ]
        }
      ]
    },
    {
      "cell_type": "markdown",
      "source": [
        "**05_double_it**\n",
        "\n",
        "Problem Statement\n",
        "\n",
        "Write a program that asks a user to enter a number. Your program will then double that number and print out the result. It will repeat that process until the value is 100 or greater.\n",
        "\n",
        "For example if the user enters the number 2 you would then print:\n",
        "\n",
        "4 8 16 32 64 128\n",
        "\n",
        "Note that:\n",
        "\n",
        "2 doubled is 4\n",
        "\n",
        "4 doubled is 8\n",
        "\n",
        "8 doubled is 16\n",
        "\n",
        "and so on.\n",
        "\n",
        "We stop at 128 because that value is greater than 100.\n",
        "\n",
        "Maintain the current number in a variable named curr_value. When you double the number, you should be updating curr_value. Recall that you can double the value of curr_value using a line like:\n",
        "\n",
        "curr_value = curr_value * 2\n",
        "\n",
        "This program should have a while loop and the while loop condition should test if curr_value is less than 100. Thus, your program will have the line:\n",
        "\n",
        "while curr_value < 100:"
      ],
      "metadata": {
        "id": "vwL6Ep9THe0s"
      }
    },
    {
      "cell_type": "code",
      "source": [
        "# User se input lena\n",
        "curr_value = int(input(\"Enter a number: \"))\n",
        "\n",
        "# Jab tak curr_value 100 se chhoti hai, tab tak double karna\n",
        "while curr_value < 100:\n",
        "    curr_value *= 2  # Number ko double karna\n",
        "    print(curr_value, end=\" \")  # Same line me print karna\n"
      ],
      "metadata": {
        "colab": {
          "base_uri": "https://localhost:8080/"
        },
        "id": "U0rQ0oboH5Az",
        "outputId": "710dfe9d-d24b-4988-d8f2-5a073a7b97c2"
      },
      "execution_count": null,
      "outputs": [
        {
          "output_type": "stream",
          "name": "stdout",
          "text": [
            "Enter a number: 5\n",
            "10 20 40 80 160 "
          ]
        }
      ]
    },
    {
      "cell_type": "markdown",
      "source": [
        "**step 06**\n",
        "\n",
        "**06_functions**\n",
        "\n",
        "**00_averages**\n",
        "\n",
        "Problem Statement\n",
        "\n",
        "Write a function that takes two numbers and finds the average between the two."
      ],
      "metadata": {
        "id": "oNMYKpsYIEsU"
      }
    },
    {
      "cell_type": "code",
      "source": [
        "def find_average(num1, num2):\n",
        "    \"\"\"Do numbers ka average return karega.\"\"\"\n",
        "    return (num1 + num2) / 2\n",
        "\n",
        "# User se input lena\n",
        "num1 = float(input(\"Enter first number: \"))\n",
        "num2 = float(input(\"Enter second number: \"))\n",
        "\n",
        "# Function call karke average print karna\n",
        "average = find_average(num1, num2)\n",
        "print(f\"The average of {num1} and {num2} is: {average}\")\n"
      ],
      "metadata": {
        "colab": {
          "base_uri": "https://localhost:8080/"
        },
        "id": "WJyP7DLIIpZh",
        "outputId": "cfdf6eaf-760e-43c0-9d7f-f21ec30cfa4e"
      },
      "execution_count": null,
      "outputs": [
        {
          "output_type": "stream",
          "name": "stdout",
          "text": [
            "Enter first number: 10\n",
            "Enter second number: 20\n",
            "The average of 10.0 and 20.0 is: 15.0\n"
          ]
        }
      ]
    },
    {
      "cell_type": "markdown",
      "source": [
        "**01_chaotic_counting**\n",
        "\n",
        "Problem Statement\n",
        "\n",
        "Fill out the chaotic_counting() function, which prints the numbers from 1 to 10, but with a catch. We've written a done() function which returns True with likelihood DONE_LIKELIHOOD -- at each number, before printing the number, you should call done() and check if it returns True or not. If done() returns True, we're done counting, and you should use a return statement to end the chaotic_counting() function execution and resume execution of main(), which will print \"I'm done.\". We've written main() for you -- check it out! Notice that we'll only print \"I'm done\" from main() once chaotic_counting() is done with its execution.\n",
        "\n",
        "Here's a sample run of this program:\n",
        "\n",
        "I'm going to count until 10 or until I feel like stopping, whichever comes first. 1 2 3 I'm done."
      ],
      "metadata": {
        "id": "U0Rvm5m8I3XL"
      }
    },
    {
      "cell_type": "code",
      "source": [
        "import random\n",
        "\n",
        "DONE_LIKELIHOOD = 0.3  # 30% chance of stopping\n",
        "\n",
        "def done():\n",
        "    \"\"\"Randomly decides if we should stop counting.\"\"\"\n",
        "    return random.random() < DONE_LIKELIHOOD\n",
        "\n",
        "def chaotic_counting():\n",
        "    \"\"\"Counts from 1 to 10, but randomly stops if done() returns True.\"\"\"\n",
        "    for i in range(1, 11):\n",
        "        if done():\n",
        "            return  # Stop counting\n",
        "        print(i)\n",
        "\n",
        "def main():\n",
        "    print(\"I'm going to count until 10 or until I feel like stopping, whichever comes first.\")\n",
        "    chaotic_counting()\n",
        "    print(\"I'm done.\")\n",
        "\n",
        "# Running the main function\n",
        "main()\n"
      ],
      "metadata": {
        "colab": {
          "base_uri": "https://localhost:8080/"
        },
        "id": "FTCPD2BMJKc0",
        "outputId": "a5580f94-8637-4cd8-80f7-d763e10c8e1a"
      },
      "execution_count": null,
      "outputs": [
        {
          "output_type": "stream",
          "name": "stdout",
          "text": [
            "I'm going to count until 10 or until I feel like stopping, whichever comes first.\n",
            "I'm done.\n"
          ]
        }
      ]
    },
    {
      "cell_type": "markdown",
      "source": [
        "**02_count_even**\n",
        "\n",
        "Problem Statement\n",
        "\n",
        "Fill out the function count_even(lst) which\n",
        "\n",
        "first populates a list by prompting the user for integers until they press enter (please use the prompt \"Enter an integer or press enter to stop: \"),\n",
        "\n",
        "and then prints the number of even numbers in the list.\n",
        "\n",
        "If you'd prefer to focus on the second task only, scroll down for our implementation of the first task!"
      ],
      "metadata": {
        "id": "LvhjseLXJO7c"
      }
    },
    {
      "cell_type": "code",
      "source": [
        "def count_even():\n",
        "    \"\"\"Prompts user for integers, stores them in a list, and counts even numbers.\"\"\"\n",
        "    lst = []\n",
        "\n",
        "    while True:\n",
        "        user_input = input(\"Enter an integer or press enter to stop: \")\n",
        "\n",
        "        if user_input == \"\":  # Agar user sirf enter dabaye, loop break kar do\n",
        "            break\n",
        "\n",
        "        try:\n",
        "            num = int(user_input)  # Input ko integer me convert karo\n",
        "            lst.append(num)\n",
        "        except ValueError:\n",
        "            print(\"Please enter a valid integer.\")\n",
        "\n",
        "    # Even numbers count karna\n",
        "    even_count = sum(1 for num in lst if num % 2 == 0)\n",
        "\n",
        "    print(f\"Number of even numbers: {even_count}\")\n",
        "\n",
        "# Function call\n",
        "count_even()\n"
      ],
      "metadata": {
        "colab": {
          "base_uri": "https://localhost:8080/"
        },
        "id": "0FMgeRbsJvl3",
        "outputId": "85358785-85c6-49a4-af57-80751e232207"
      },
      "execution_count": null,
      "outputs": [
        {
          "output_type": "stream",
          "name": "stdout",
          "text": [
            "Enter an integer or press enter to stop: 4\n",
            "Enter an integer or press enter to stop: 5\n",
            "Enter an integer or press enter to stop: 6\n",
            "Enter an integer or press enter to stop: 7\n",
            "Enter an integer or press enter to stop: 8\n",
            "Enter an integer or press enter to stop: 10\n",
            "Enter an integer or press enter to stop: 3\n",
            "Enter an integer or press enter to stop: 12\n",
            "Enter an integer or press enter to stop: \n",
            "Number of even numbers: 5\n"
          ]
        }
      ]
    },
    {
      "cell_type": "markdown",
      "source": [
        "**03_double**\n",
        "\n",
        "Problem Statement\n",
        "\n",
        "Fill out the double(num) function to return the result of multiplying num by 2. We've written a main() function for you which asks the user for a number, calls your code for double(num) , and prints the result.\n",
        "\n",
        "Here's a sample run of the program (user input in bold italics):\n",
        "\n",
        "Enter a number: 2 Double that is 4"
      ],
      "metadata": {
        "id": "o1tftzi2KS15"
      }
    },
    {
      "cell_type": "code",
      "source": [
        "def double(num):\n",
        "    \"\"\"Returns the double of the given number.\"\"\"\n",
        "    return num * 2\n",
        "\n",
        "def main():\n",
        "    num = int(input(\"Enter a number: \"))  # User se number input lo\n",
        "    print(f\"Double that is {double(num)}\")  # Double function call karke result print karo\n",
        "\n",
        "# Function call\n",
        "main()\n"
      ],
      "metadata": {
        "colab": {
          "base_uri": "https://localhost:8080/"
        },
        "id": "d7ZYV2oUKmba",
        "outputId": "90c72de1-3f49-4d4f-c391-d51c7561020d"
      },
      "execution_count": null,
      "outputs": [
        {
          "output_type": "stream",
          "name": "stdout",
          "text": [
            "Enter a number: 10\n",
            "Double that is 20\n"
          ]
        }
      ]
    },
    {
      "cell_type": "markdown",
      "source": [
        "**04_get_name**\n",
        "\n",
        "Problem Statement\n",
        "\n",
        "Fill out the get_name() function to return your name as a string! We've written a main() function for you which calls your function to retrieve your name and then prints it in a greeting.\n",
        "\n",
        "Here's a sample run of the program where the name we've decided to return is Sophia (the autograder expects the returned name to be Sophia):\n",
        "\n",
        "Howdy Sophia ! 🤠"
      ],
      "metadata": {
        "id": "ea30J06tKyga"
      }
    },
    {
      "cell_type": "code",
      "source": [
        "def get_name():\n",
        "    \"\"\"Returns the name 'Anjum' as required by the autograder.\"\"\"\n",
        "    return \"Anjum\"\n",
        "\n",
        "def main():\n",
        "    name = get_name()  # Function call\n",
        "    print(f\"Faizan {name}! 🤠\")  # Greeting print karo\n",
        "\n",
        "# Function call\n",
        "main()\n"
      ],
      "metadata": {
        "colab": {
          "base_uri": "https://localhost:8080/"
        },
        "id": "tZGoW5XRLJeL",
        "outputId": "e40f18d4-6ba8-4fa7-e4f5-e3877c15362a"
      },
      "execution_count": null,
      "outputs": [
        {
          "output_type": "stream",
          "name": "stdout",
          "text": [
            "Faizan Anjum! 🤠\n"
          ]
        }
      ]
    },
    {
      "cell_type": "markdown",
      "source": [
        "**05_is_odd**\n",
        "\n",
        "Problem Statement\n",
        "\n",
        "10 even 11 odd 12 even 13 odd 14 even 15 odd 16 even 17 odd 18 even 19 odd"
      ],
      "metadata": {
        "id": "G3G7uA7TIWol"
      }
    },
    {
      "cell_type": "code",
      "source": [
        "for num in range(10, 20):  # 10 se 19 tak loop chalega\n",
        "    if num % 2 == 0:\n",
        "        print(f\"{num} even\")\n",
        "    else:\n",
        "        print(f\"{num} odd\")\n"
      ],
      "metadata": {
        "colab": {
          "base_uri": "https://localhost:8080/"
        },
        "id": "jKADMZ7hIrAz",
        "outputId": "700187f6-acc1-4e6d-bcfd-46c0942d0218"
      },
      "execution_count": null,
      "outputs": [
        {
          "output_type": "stream",
          "name": "stdout",
          "text": [
            "10 even\n",
            "11 odd\n",
            "12 even\n",
            "13 odd\n",
            "14 even\n",
            "15 odd\n",
            "16 even\n",
            "17 odd\n",
            "18 even\n",
            "19 odd\n"
          ]
        }
      ]
    },
    {
      "cell_type": "markdown",
      "source": [
        "**06_print_divisor**\n",
        "\n",
        "Problem Statement\n",
        "\n",
        "Write the helper function print_divisors(num), which takes in a number and prints all of its divisors (all the numbers from 1 to num inclusive that num can be cleanly divided by (there is no remainder to the division). Don't forget to call your function in main()!\n",
        "\n",
        "Here's a sample run (user input is in blue):\n",
        "\n",
        "Enter a number: 12 Here are the divisors of 12 1 2 3 4 6 12"
      ],
      "metadata": {
        "id": "jH6gQshII3br"
      }
    },
    {
      "cell_type": "code",
      "source": [
        "def print_divisors(num):\n",
        "    print(f\"Here are the divisors of {num}\")\n",
        "    for i in range(1, num + 1):\n",
        "        if num % i == 0:  # Agar num i se divide ho jaye bina remainder ke\n",
        "            print(i, end=\" \")\n",
        "\n",
        "def main():\n",
        "    num = int(input(\"Enter a number: \"))\n",
        "    print_divisors(num)\n",
        "\n",
        "main()\n"
      ],
      "metadata": {
        "colab": {
          "base_uri": "https://localhost:8080/"
        },
        "id": "UxSvavU6JNfA",
        "outputId": "77d0e215-916c-4157-d6cc-acdee09d3f7c"
      },
      "execution_count": null,
      "outputs": [
        {
          "output_type": "stream",
          "name": "stdout",
          "text": [
            "Enter a number: 33\n",
            "Here are the divisors of 33\n",
            "1 3 11 33 "
          ]
        }
      ]
    },
    {
      "cell_type": "markdown",
      "source": [
        "**07_print_multiple**\n",
        "\n",
        "Problem Statement\n",
        "\n",
        "Fill out print_multiple(message, repeats), which takes as parameters a string message to print, and an integer repeats number of times to print message. We've written the main() function for you, which prompts the user for a message and a number of repeats.\n",
        "\n",
        "Here's a sample run of the program (user input is in blue):\n",
        "\n",
        "Please type a message: Hello! Enter a number of times to repeat your message: 6 Hello! Hello! Hello! Hello! Hello! Hello!\n",
        "\n"
      ],
      "metadata": {
        "id": "d8T9F0gbJZGk"
      }
    },
    {
      "cell_type": "code",
      "source": [
        "def print_multiple(message, repeats):\n",
        "    for _ in range(repeats):\n",
        "        print(message)\n",
        "\n",
        "def main():\n",
        "    message = input(\"Please type a message: \")\n",
        "    repeats = int(input(\"Enter a number of times to repeat your message: \"))\n",
        "    print_multiple(message, repeats)\n",
        "\n",
        "main()\n"
      ],
      "metadata": {
        "colab": {
          "base_uri": "https://localhost:8080/"
        },
        "id": "uHw7AonjJx2_",
        "outputId": "b535a521-64a9-4020-eb41-a7b7a2299306"
      },
      "execution_count": null,
      "outputs": [
        {
          "output_type": "stream",
          "name": "stdout",
          "text": [
            "Please type a message: Hey, Faizan Anjum\n",
            "Enter a number of times to repeat your message: 6\n",
            "Hey, Faizan Anjum\n",
            "Hey, Faizan Anjum\n",
            "Hey, Faizan Anjum\n",
            "Hey, Faizan Anjum\n",
            "Hey, Faizan Anjum\n",
            "Hey, Faizan Anjum\n"
          ]
        }
      ]
    },
    {
      "cell_type": "markdown",
      "source": [
        "**08_sentence_generator**\n",
        "\n",
        "Problem Statement\n",
        "\n",
        "Implement the helper function make_sentence(word, part_of_speech) which will take a string word and an integer part_of_speech as parameters and, depending on the part of speech, place the word into one of three sentence templates (or one from your imagination!):\n",
        "\n",
        "If part_of_speech is 0, we will assume the word is a noun and use the template: \"I am excited to add this ____ to my vast collection of them!\"\n",
        "\n",
        "If part_of_speech is 1, we will assume the word is a verb use the template: \"It's so nice outside today it makes me want to ____!\"\n",
        "\n",
        "If part_of_speech is 2, we will assume the word is an adjective and use the template: \"Looking out my window, the sky is big and ____!\" make_sentence(word, part_of_speech) should not return anything, just print the correct sentence with the word filled in the blank.\n",
        "\n",
        "Here's a sample run of the program (user input is in blue):\n",
        "\n",
        "Please type a noun, verb, or adjective: groovy Is this a noun, verb, or adjective? Type 0 for noun, 1 for verb, 2 for adjective: 2 Looking out my window, the sky is big and groovy!"
      ],
      "metadata": {
        "id": "7nO3_bfIKD2j"
      }
    },
    {
      "cell_type": "code",
      "source": [
        "def make_sentence(word, part_of_speech):\n",
        "    if part_of_speech == 0:\n",
        "        print(f\"I am excited to add this {word} to my vast collection of them!\")\n",
        "    elif part_of_speech == 1:\n",
        "        print(f\"It's so nice outside today it makes me want to {word}!\")\n",
        "    elif part_of_speech == 2:\n",
        "        print(f\"Looking out my window, the sky is big and {word}!\")\n",
        "    else:\n",
        "        print(\"Invalid choice! Please enter 0 for noun, 1 for verb, or 2 for adjective.\")\n",
        "\n",
        "def main():\n",
        "    word = input(\"Please type a noun, verb, or adjective: \")\n",
        "    part_of_speech = int(input(\"Is this a noun, verb, or adjective? Type 0 for noun, 1 for verb, 2 for adjective: \"))\n",
        "    make_sentence(word, part_of_speech)\n",
        "\n",
        "main()\n"
      ],
      "metadata": {
        "colab": {
          "base_uri": "https://localhost:8080/"
        },
        "id": "gRJiHOJEKeS1",
        "outputId": "80d3db72-1c42-41c1-b9e5-87d575724872"
      },
      "execution_count": null,
      "outputs": [
        {
          "output_type": "stream",
          "name": "stdout",
          "text": [
            "Please type a noun, verb, or adjective: book\n",
            "Is this a noun, verb, or adjective? Type 0 for noun, 1 for verb, 2 for adjective: 0\n",
            "I am excited to add this book to my vast collection of them!\n"
          ]
        }
      ]
    },
    {
      "cell_type": "markdown",
      "source": [
        "**09_print_ones_digit**\n",
        "\n",
        "Problem Statement\n",
        "\n",
        "Write a function called print_ones_digit , which takes as a parameter an integer num and prints its ones digit. The modulo (remainder) operator, %, should be helpful to you here. Call your function from main()!\n",
        "\n",
        "Here's a sample run (user input is in blue):\n",
        "\n",
        "Enter a number: 42 The ones digit is 2"
      ],
      "metadata": {
        "id": "YAisIa_aMZUF"
      }
    },
    {
      "cell_type": "code",
      "source": [
        "def print_ones_digit(num):\n",
        "    \"\"\"Prints the ones digit of the given number.\"\"\"\n",
        "    ones_digit = num % 10\n",
        "    print(f\"The ones digit is {ones_digit}\")\n",
        "\n",
        "def main():\n",
        "    num = int(input(\"Enter a number: \"))\n",
        "    print_ones_digit(num)\n",
        "\n",
        "main()\n"
      ],
      "metadata": {
        "colab": {
          "base_uri": "https://localhost:8080/"
        },
        "id": "4srfqRObM18E",
        "outputId": "fb409606-f92a-4849-e352-d388cef95511"
      },
      "execution_count": null,
      "outputs": [
        {
          "output_type": "stream",
          "name": "stdout",
          "text": [
            "Enter a number: 21\n",
            "The ones digit is 1\n"
          ]
        }
      ]
    },
    {
      "cell_type": "markdown",
      "source": [
        "**Step 07**\n",
        "\n",
        "**07_information_flow**\n",
        "\n",
        "**00_choosing_return**\n",
        "\n",
        "Problem Statement\n",
        "\n",
        "There are times where we want to return different things from a function based on some condition. To practice this idea, imagine that we want to check if someone is an adult. We might check their age and return different things depending on how old they are!\n",
        "\n",
        "We've provided you with the ADULT_AGE variable which has the age a person is legally classified as an adult (in the United States). Fill out the is_adult(age) function, which returns True if the function takes an age that is greater than or equal to ADULT_AGE. If the function takes an age less than ADULT_AGE, return False instead.\n",
        "\n",
        "Here are two sample runs of the program, one for each return option (user input in bold italics):\n",
        "\n",
        "(Entered age is an adult age)\n",
        "\n",
        "How old is this person?: 35\n",
        "\n",
        "True\n",
        "\n",
        "(Entered age is not an adult age)\n",
        "\n",
        "How old is this person?: 7\n",
        "\n",
        "False"
      ],
      "metadata": {
        "id": "2ZX_MCRCNPK8"
      }
    },
    {
      "cell_type": "code",
      "source": [
        "ADULT_AGE = 18  # Adult age in the US\n",
        "\n",
        "def is_adult(age):\n",
        "    \"\"\"Returns True if age is 18 or above, otherwise returns False.\"\"\"\n",
        "    return age >= ADULT_AGE\n",
        "\n",
        "def main():\n",
        "    age = int(input(\"How old is this person?: \"))\n",
        "    print(is_adult(age))\n",
        "\n",
        "main()\n"
      ],
      "metadata": {
        "colab": {
          "base_uri": "https://localhost:8080/"
        },
        "id": "a3G67uJDNvIs",
        "outputId": "a688b76b-2eba-412e-d198-ddc8b631eba5"
      },
      "execution_count": null,
      "outputs": [
        {
          "output_type": "stream",
          "name": "stdout",
          "text": [
            "How old is this person?: 23\n",
            "True\n"
          ]
        }
      ]
    },
    {
      "cell_type": "markdown",
      "source": [
        "**01_greetings**\n",
        "\n",
        "Problem Statement\n",
        "\n",
        "We've written a helper function for you called greet(name) which takes as input a string name and prints a greeting. Write some code in main() to get the user's name and then greet them, being sure to call the greet(name) helper function.\n",
        "\n",
        "Here's a sample run of the program (user input in bold italics):\n",
        "\n",
        "What's your name? Sophia\n",
        "\n",
        "Greetings Sophia!"
      ],
      "metadata": {
        "id": "30KstY5IOE0W"
      }
    },
    {
      "cell_type": "code",
      "source": [
        "def greet(name):\n",
        "    \"\"\"Prints a greeting message with the given name.\"\"\"\n",
        "    print(f\"Greetings {name}!\")\n",
        "\n",
        "def main():\n",
        "    \"\"\"Gets user input and calls the greet function.\"\"\"\n",
        "    name = input(\"What's your name? \")\n",
        "    greet(name)\n",
        "\n",
        "main()\n"
      ],
      "metadata": {
        "colab": {
          "base_uri": "https://localhost:8080/"
        },
        "id": "GYRfTch_OUOB",
        "outputId": "34b9a81e-3e07-4a5c-f36f-95bf2e3397af"
      },
      "execution_count": null,
      "outputs": [
        {
          "output_type": "stream",
          "name": "stdout",
          "text": [
            "What's your name? Faizan Anjum\n",
            "Greetings Faizan Anjum!\n"
          ]
        }
      ]
    },
    {
      "cell_type": "markdown",
      "source": [
        "**02_in_range**\n",
        "\n",
        "Problem Statement\n",
        "\n",
        "Implement the following function which takes in 3 integers as parameters:\n",
        "\n",
        "def in_range(n, low, high) \"\"\" Returns True if n is between low and high, inclusive. high is guaranteed to be greater than low. \"\"\""
      ],
      "metadata": {
        "id": "UUG42dIgOZx1"
      }
    },
    {
      "cell_type": "code",
      "source": [
        "def in_range(n, low, high):\n",
        "    \"\"\"Returns True if n is between low and high (inclusive).\"\"\"\n",
        "    return low <= n <= high\n",
        "\n",
        "# Example usage\n",
        "print(in_range(5, 1, 10))  # True\n",
        "print(in_range(15, 1, 10)) # False\n",
        "print(in_range(10, 1, 10)) # True\n"
      ],
      "metadata": {
        "colab": {
          "base_uri": "https://localhost:8080/"
        },
        "id": "cs7f6WC9OxG5",
        "outputId": "dd975851-7d62-4cc9-f536-10324f6baf4f"
      },
      "execution_count": null,
      "outputs": [
        {
          "output_type": "stream",
          "name": "stdout",
          "text": [
            "True\n",
            "False\n",
            "True\n"
          ]
        }
      ]
    },
    {
      "cell_type": "markdown",
      "source": [
        "**03_in_stock**\n",
        "\n",
        "Problem Statement\n",
        "\n",
        "Sophia has a fruit store. She has written a function num_in_stock which takes a string fruit as a parameter and returns how many of that fruit are in her inventory. Write code in main() which will:\n",
        "\n",
        "Prompt the user to enter a fruit (\"Enter a fruit: \")\n",
        "\n",
        "Call num_in_stock(fruit) to get the number of that fruit that Sophia has in stock\n",
        "\n",
        "Print the number which are in stock if Sophia has that fruit in her inventory (there are more than 0 in stock)\n",
        "\n",
        "Print \"This fruit is not in stock.\" if Sophia has none of that fruit in her inventory.\n",
        "\n",
        "Here's two sample runs of the program (user input in bold italics):\n",
        "\n",
        "Enter a fruit: pear\n",
        "\n",
        "This fruit is in stock! Here is how many:\n",
        "\n",
        "1000\n",
        "\n",
        "Enter a fruit: lychee\n",
        "\n",
        "This fruit is not in stock."
      ],
      "metadata": {
        "id": "LipPZVz6O5dG"
      }
    },
    {
      "cell_type": "code",
      "source": [
        "# Inventory dictionary\n",
        "inventory = {\n",
        "    \"apple\": 50,\n",
        "    \"banana\": 30,\n",
        "    \"orange\": 20,\n",
        "    \"pear\": 1000,\n",
        "    \"grape\": 15\n",
        "}\n",
        "\n",
        "def num_in_stock(fruit):\n",
        "    \"\"\"Returns the number of a specific fruit in stock.\"\"\"\n",
        "    return inventory.get(fruit, 0)\n",
        "\n",
        "def main():\n",
        "    fruit = input(\"Enter a fruit: \").lower()\n",
        "    stock = num_in_stock(fruit)\n",
        "\n",
        "    if stock > 0:\n",
        "        print(\"This fruit is in stock! Here is how many:\")\n",
        "        print(stock)\n",
        "    else:\n",
        "        print(\"This fruit is not in stock.\")\n",
        "\n",
        "# Run the program\n",
        "main()\n"
      ],
      "metadata": {
        "colab": {
          "base_uri": "https://localhost:8080/"
        },
        "id": "9cc5j4sEPM18",
        "outputId": "06a45a9c-8153-40fd-cecc-b9c76c311061"
      },
      "execution_count": null,
      "outputs": [
        {
          "output_type": "stream",
          "name": "stdout",
          "text": [
            "Enter a fruit: peach\n",
            "This fruit is not in stock.\n"
          ]
        }
      ]
    },
    {
      "cell_type": "markdown",
      "source": [
        "**04_multiple_returns**\n",
        "\n",
        "Problem Statement\n",
        "\n",
        "There are times where you are working with lots of different data within a function that you want to return. While generally, we want to keep functions to have a precise purpose, sometimes that purpose just deals with multiple bits of data.\n",
        "\n",
        "To practice this, imagine we are working on a program where the user needs to enters data to sign up for a website. Fill out the get_user_data() function which:\n",
        "\n",
        "Asks the user for their first name and stores it in a variable\n",
        "\n",
        "Asks the user for their last name and stores it in a variable\n",
        "\n",
        "Asks the user for their email address and stores it in a variable\n",
        "\n",
        "Returns all three of these pieces of data in the order it was asked\n",
        "\n",
        "You can return multiple pieces of data by separating each piece with a comma in the return line.\n",
        "\n",
        "Here is an example run of the program:\n",
        "\n",
        "What is your first name?: Jane\n",
        "\n",
        "What is your last name?: Stanford\n",
        "\n",
        "What is your email address?: janestanford@stanford.edu\n",
        "\n",
        "Received the following user data: ('Jane', 'Stanford', 'janestanford@stanford.edu')\n",
        "\n",
        "(Note. This idea is called tuple packing/unpacking. We \"pack\" our return values into a single data structure called a tuple. We can then \"unpack\" these values back into our original values or leave them as a tuple.)"
      ],
      "metadata": {
        "id": "r7wjK3ZsPmdt"
      }
    },
    {
      "cell_type": "code",
      "source": [
        "def get_user_data():\n",
        "    \"\"\"Asks user for first name, last name, and email, then returns them as a tuple.\"\"\"\n",
        "    first_name = input(\"What is your first name?: \")\n",
        "    last_name = input(\"What is your last name?: \")\n",
        "    email = input(\"What is your email address?: \")\n",
        "    return first_name, last_name, email  # Returns a tuple\n",
        "\n",
        "def main():\n",
        "    user_data = get_user_data()\n",
        "    print(\"Received the following user data:\", user_data)\n",
        "\n",
        "# Run the program\n",
        "main()\n"
      ],
      "metadata": {
        "colab": {
          "base_uri": "https://localhost:8080/"
        },
        "id": "5ftYTVf5P7DF",
        "outputId": "cb4058f2-d998-4fbd-d28d-37e8569f9fdb"
      },
      "execution_count": null,
      "outputs": [
        {
          "output_type": "stream",
          "name": "stdout",
          "text": [
            "What is your first name?: Faizan\n",
            "What is your last name?: Anjum\n",
            "What is your email address?: faizee956@gmail.com\n",
            "Received the following user data: ('Faizan', 'Anjum', 'faizee956@gmail.com')\n"
          ]
        }
      ]
    },
    {
      "cell_type": "markdown",
      "source": [
        "**05_subtract_7**\n",
        "\n",
        "Problem Statement\n",
        "\n",
        "Fill out the subtract_seven helper function to subtract 7 from num, and fill out the main() method to call the subtract_seven helper function! If you're stuck, revisit the add_five example from lecture."
      ],
      "metadata": {
        "id": "pmg3wdLfQHTt"
      }
    },
    {
      "cell_type": "code",
      "source": [
        "def subtract_seven(num):\n",
        "    \"\"\"Subtracts 7 from num and returns the result.\"\"\"\n",
        "    return num - 7\n",
        "\n",
        "def main():\n",
        "    number = int(input(\"Enter a number: \"))  # User input le raha hai\n",
        "    result = subtract_seven(number)  # Function call ho raha hai\n",
        "    print(\"Result after subtracting 7:\", result)  # Output print kar raha hai\n",
        "\n",
        "# Run the program\n",
        "main()\n"
      ],
      "metadata": {
        "colab": {
          "base_uri": "https://localhost:8080/"
        },
        "id": "d80XtxnbQZAh",
        "outputId": "f8d7baf6-12c8-451e-faf6-87c565e662a4"
      },
      "execution_count": null,
      "outputs": [
        {
          "output_type": "stream",
          "name": "stdout",
          "text": [
            "Enter a number: 20\n",
            "Result after subtracting 7: 13\n"
          ]
        }
      ]
    }
  ]
}