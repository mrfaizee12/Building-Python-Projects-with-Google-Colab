{
  "nbformat": 4,
  "nbformat_minor": 0,
  "metadata": {
    "colab": {
      "provenance": [],
      "authorship_tag": "ABX9TyNDpSpAfDgqg7yKLXethyN7",
      "include_colab_link": true
    },
    "kernelspec": {
      "name": "python3",
      "display_name": "Python 3"
    },
    "language_info": {
      "name": "python"
    }
  },
  "cells": [
    {
      "cell_type": "markdown",
      "metadata": {
        "id": "view-in-github",
        "colab_type": "text"
      },
      "source": [
        "<a href=\"https://colab.research.google.com/github/mrfaizee12/Building-Python-Projects-with-Google-Colab/blob/main/BMI_Calculator.ipynb\" target=\"_parent\"><img src=\"https://colab.research.google.com/assets/colab-badge.svg\" alt=\"Open In Colab\"/></a>"
      ]
    },
    {
      "cell_type": "markdown",
      "source": [
        "Streamlit BMI Calculator Web App 🏋️‍♂️"
      ],
      "metadata": {
        "id": "lBkq2MT3Jrgg"
      }
    },
    {
      "cell_type": "code",
      "source": [
        "import streamlit as st\n",
        "\n",
        "# Custom CSS for Styling\n",
        "st.markdown(\"\"\"\n",
        "    <style>\n",
        "        body {\n",
        "            background-color: #f4f4f4;\n",
        "            font-family: 'Arial', sans-serif;\n",
        "        }\n",
        "        .main {\n",
        "            background-color: white;\n",
        "            padding: 30px;\n",
        "            border-radius: 10px;\n",
        "            box-shadow: 2px 2px 20px rgba(0, 0, 0, 0.1);\n",
        "            text-align: center;\n",
        "            max-width: 500px;\n",
        "            margin: auto;\n",
        "        }\n",
        "        .stButton>button {\n",
        "            background-color: #4CAF50;\n",
        "            color: white;\n",
        "            border-radius: 5px;\n",
        "            padding: 10px 20px;\n",
        "            font-size: 18px;\n",
        "            border: none;\n",
        "        }\n",
        "        .stButton>button:hover {\n",
        "            background-color: #45a049;\n",
        "        }\n",
        "        .bmi-result {\n",
        "            font-size: 22px;\n",
        "            font-weight: bold;\n",
        "            padding: 10px;\n",
        "            border-radius: 5px;\n",
        "            text-align: center;\n",
        "            background-color: #f9f9f9;\n",
        "            margin-top: 20px;\n",
        "        }\n",
        "    </style>\n",
        "\"\"\", unsafe_allow_html=True)\n",
        "\n",
        "# Web App Title\n",
        "st.markdown(\"<h1 style='text-align:center; color:#333;'>🏋️‍♂️ BMI Calculator</h1>\", unsafe_allow_html=True)\n",
        "\n",
        "# User Inputs (inside a styled div)\n",
        "st.markdown('<div class=\"main\">', unsafe_allow_html=True)\n",
        "\n",
        "height = st.number_input(\"Enter your height (in meters):\", min_value=0.5, max_value=2.5, step=0.01, format=\"%.2f\")\n",
        "weight = st.number_input(\"Enter your weight (in kg):\", min_value=10.0, max_value=300.0, step=0.5, format=\"%.1f\")\n",
        "\n",
        "# BMI Calculation\n",
        "if st.button(\"Calculate BMI\"):\n",
        "    if height > 0 and weight > 0:\n",
        "        bmi = round(weight / (height ** 2), 2)\n",
        "\n",
        "        # BMI Category & Styling\n",
        "        if bmi < 18.5:\n",
        "            category = \"Underweight\"\n",
        "            color = \"blue\"\n",
        "        elif 18.5 <= bmi < 24.9:\n",
        "            category = \"Normal Weight\"\n",
        "            color = \"green\"\n",
        "        elif 25 <= bmi < 29.9:\n",
        "            category = \"Overweight\"\n",
        "            color = \"orange\"\n",
        "        else:\n",
        "            category = \"Obese\"\n",
        "            color = \"red\"\n",
        "\n",
        "        # Display Result with Styling\n",
        "        st.markdown(f\"<div class='bmi-result' style='color:{color};'>Your BMI: {bmi} ({category})</div>\", unsafe_allow_html=True)\n",
        "    else:\n",
        "        st.error(\"Please enter valid height and weight!\")\n",
        "\n",
        "st.markdown('</div>', unsafe_allow_html=True)  # Close div\n"
      ],
      "metadata": {
        "id": "IXfRvPriJ69u"
      },
      "execution_count": null,
      "outputs": []
    }
  ]
}