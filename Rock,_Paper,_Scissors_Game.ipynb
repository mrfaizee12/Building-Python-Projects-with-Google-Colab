{
  "nbformat": 4,
  "nbformat_minor": 0,
  "metadata": {
    "colab": {
      "provenance": [],
      "authorship_tag": "ABX9TyPo9Q0xyLfXMkz4pTcB00rW",
      "include_colab_link": true
    },
    "kernelspec": {
      "name": "python3",
      "display_name": "Python 3"
    },
    "language_info": {
      "name": "python"
    }
  },
  "cells": [
    {
      "cell_type": "markdown",
      "metadata": {
        "id": "view-in-github",
        "colab_type": "text"
      },
      "source": [
        "<a href=\"https://colab.research.google.com/github/mrfaizee12/Building-Python-Projects-with-Google-Colab/blob/main/Rock%2C_Paper%2C_Scissors_Game.ipynb\" target=\"_parent\"><img src=\"https://colab.research.google.com/assets/colab-badge.svg\" alt=\"Open In Colab\"/></a>"
      ]
    },
    {
      "cell_type": "markdown",
      "source": [
        "**Project 4: Rock, Paper, Scissors project**"
      ],
      "metadata": {
        "id": "FlPlS4LLEG7T"
      }
    },
    {
      "cell_type": "code",
      "source": [
        "import random\n",
        "\n",
        "# Emojis for better UI\n",
        "moves = {\n",
        "    \"rock\": \"🪨 Rock\",\n",
        "    \"paper\": \"📄 Paper\",\n",
        "    \"scissors\": \"✂️ Scissors\"\n",
        "}\n",
        "\n",
        "responses = {\n",
        "    \"win\": [\"🔥 You crushed it!\", \"🎯 Perfect move!\", \"💥 Well played!\"],\n",
        "    \"lose\": [\"😢 Oops! Try again.\", \"🥺 Better luck next time!\", \"🙈 That was close!\"],\n",
        "    \"draw\": [\"😐 It's a tie!\", \"🤝 Same move!\", \"😲 Wow! Same choice!\"]\n",
        "}\n",
        "\n",
        "def get_computer_choice():\n",
        "    return random.choice(list(moves.keys()))  # Randomly select rock, paper, or scissors\n",
        "\n",
        "def determine_winner(user, computer):\n",
        "    if user == computer:\n",
        "        return \"draw\"\n",
        "    elif (user == \"rock\" and computer == \"scissors\") or \\\n",
        "         (user == \"scissors\" and computer == \"paper\") or \\\n",
        "         (user == \"paper\" and computer == \"rock\"):\n",
        "        return \"win\"\n",
        "    else:\n",
        "        return \"lose\"\n",
        "\n",
        "def rock_paper_scissors():\n",
        "    print(\"🎮 Welcome to Rock, Paper, Scissors!\")\n",
        "    print(\"Best of 3 rounds. Choose wisely! 🏆\")\n",
        "\n",
        "    user_score, computer_score = 0, 0  # Score tracking\n",
        "\n",
        "    for round_num in range(1, 4):  # Best of 3 rounds\n",
        "        print(f\"\\n🔹 Round {round_num}\")\n",
        "\n",
        "        # Taking user input\n",
        "        user_choice = input(\"Choose Rock, Paper, or Scissors: \").strip().lower()\n",
        "        if user_choice not in moves:\n",
        "            print(\"❌ Invalid choice! Try again.\")\n",
        "            continue\n",
        "\n",
        "        computer_choice = get_computer_choice()\n",
        "\n",
        "        print(f\"🤖 Computer chose {moves[computer_choice]}\")\n",
        "        print(f\"🧑 You chose {moves[user_choice]}\")\n",
        "\n",
        "        result = determine_winner(user_choice, computer_choice)\n",
        "        print(random.choice(responses[result]))  # Random fun response\n",
        "\n",
        "        if result == \"win\":\n",
        "            user_score += 1\n",
        "        elif result == \"lose\":\n",
        "            computer_score += 1\n",
        "\n",
        "    print(\"\\n🏁 Final Results:\")\n",
        "    print(f\"🎖 Your Score: {user_score} | 🤖 Computer Score: {computer_score}\")\n",
        "\n",
        "    if user_score > computer_score:\n",
        "        print(\"🎉 Congratulations! You won the game!\")\n",
        "    elif user_score < computer_score:\n",
        "        print(\"💔 Oh no! Computer won. Better luck next time!\")\n",
        "    else:\n",
        "        print(\"🤝 It's a tie! Well played!\")\n",
        "\n",
        "# Start the game\n",
        "rock_paper_scissors()\n"
      ],
      "metadata": {
        "colab": {
          "base_uri": "https://localhost:8080/"
        },
        "id": "lLKEShAoFQj8",
        "outputId": "625bb137-b3bf-4d7b-f835-204400f6476d"
      },
      "execution_count": null,
      "outputs": [
        {
          "output_type": "stream",
          "name": "stdout",
          "text": [
            "🎮 Welcome to Rock, Paper, Scissors!\n",
            "Best of 3 rounds. Choose wisely! 🏆\n",
            "\n",
            "🔹 Round 1\n",
            "Choose Rock, Paper, or Scissors: Paper\n",
            "🤖 Computer chose 📄 Paper\n",
            "🧑 You chose 📄 Paper\n",
            "🤝 Same move!\n",
            "\n",
            "🔹 Round 2\n",
            "Choose Rock, Paper, or Scissors: Rock\n",
            "🤖 Computer chose 🪨 Rock\n",
            "🧑 You chose 🪨 Rock\n",
            "😲 Wow! Same choice!\n",
            "\n",
            "🔹 Round 3\n",
            "Choose Rock, Paper, or Scissors: Paper\n",
            "🤖 Computer chose 🪨 Rock\n",
            "🧑 You chose 📄 Paper\n",
            "🔥 You crushed it!\n",
            "\n",
            "🏁 Final Results:\n",
            "🎖 Your Score: 1 | 🤖 Computer Score: 0\n",
            "🎉 Congratulations! You won the game!\n"
          ]
        }
      ]
    }
  ]
}