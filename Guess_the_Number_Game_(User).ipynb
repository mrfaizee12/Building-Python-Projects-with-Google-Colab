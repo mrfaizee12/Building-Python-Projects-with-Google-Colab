{
  "nbformat": 4,
  "nbformat_minor": 0,
  "metadata": {
    "colab": {
      "provenance": [],
      "authorship_tag": "ABX9TyPP5QSaTSHbhg0jRzhctCr1",
      "include_colab_link": true
    },
    "kernelspec": {
      "name": "python3",
      "display_name": "Python 3"
    },
    "language_info": {
      "name": "python"
    }
  },
  "cells": [
    {
      "cell_type": "markdown",
      "metadata": {
        "id": "view-in-github",
        "colab_type": "text"
      },
      "source": [
        "<a href=\"https://colab.research.google.com/github/mrfaizee12/Building-Python-Projects-with-Google-Colab/blob/main/Guess_the_Number_Game_(User).ipynb\" target=\"_parent\"><img src=\"https://colab.research.google.com/assets/colab-badge.svg\" alt=\"Open In Colab\"/></a>"
      ]
    },
    {
      "cell_type": "markdown",
      "source": [
        "**Project 3: Guess The Number Game (user)**"
      ],
      "metadata": {
        "id": "oBMU8ODFj1RN"
      }
    },
    {
      "cell_type": "code",
      "source": [
        "import random\n",
        "\n",
        "def computer_guesses():\n",
        "    print(\"🎮 Welcome to 'Guess the Number' Game!\")\n",
        "    print(\"Think of a number between 1 and 10, and I (computer) will try to guess it.\")\n",
        "    print(\"After each guess, type 'high' if my guess is too high, 'low' if it's too low, or 'correct' if I got it right!\")\n",
        "\n",
        "    low, high = 1, 10  # Range 1-10\n",
        "    attempts = 0  # Track number of guesses\n",
        "\n",
        "    while True:\n",
        "        if low > high:\n",
        "            print(\"😲 Something went wrong! Did you give incorrect hints? Restarting game...\")\n",
        "            return  # Exit game\n",
        "\n",
        "        guess = random.randint(low, high)  # Computer guesses a number\n",
        "        attempts += 1  # Increase attempt count\n",
        "\n",
        "        print(f\"\\n🤖 My guess is: {guess}\")\n",
        "        response = input(\"Is my guess 'high', 'low', or 'correct'? \").strip().lower()\n",
        "\n",
        "        if response == \"correct\":\n",
        "            print(f\"🎉 Yay! I guessed your number {guess} in {attempts} attempts!\")\n",
        "            break\n",
        "        elif response == \"low\":\n",
        "            low = guess + 1  # Adjust range\n",
        "        elif response == \"high\":\n",
        "            high = guess - 1  # Adjust range\n",
        "        else:\n",
        "            print(\"❌ Invalid input! Please type 'high', 'low', or 'correct'.\")\n",
        "\n",
        "# Start the game\n",
        "computer_guesses()\n"
      ],
      "metadata": {
        "colab": {
          "base_uri": "https://localhost:8080/"
        },
        "id": "4YBfRz2WloX_",
        "outputId": "10dfe974-7e15-4ff1-f0ee-2c27c6f644fe"
      },
      "execution_count": null,
      "outputs": [
        {
          "output_type": "stream",
          "name": "stdout",
          "text": [
            "🎮 Welcome to 'Guess the Number' Game!\n",
            "Think of a number between 1 and 10, and I (computer) will try to guess it.\n",
            "After each guess, type 'high' if my guess is too high, 'low' if it's too low, or 'correct' if I got it right!\n",
            "\n",
            "🤖 My guess is: 9\n",
            "Is my guess 'high', 'low', or 'correct'? high\n",
            "\n",
            "🤖 My guess is: 7\n",
            "Is my guess 'high', 'low', or 'correct'? correct\n",
            "🎉 Yay! I guessed your number 7 in 2 attempts!\n"
          ]
        }
      ]
    }
  ]
}