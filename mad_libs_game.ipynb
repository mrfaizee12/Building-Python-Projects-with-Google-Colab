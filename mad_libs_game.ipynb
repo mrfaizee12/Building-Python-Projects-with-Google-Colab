{
  "nbformat": 4,
  "nbformat_minor": 0,
  "metadata": {
    "colab": {
      "provenance": [],
      "authorship_tag": "ABX9TyPh9k4J43pHyeL9XzuRcQ+G",
      "include_colab_link": true
    },
    "kernelspec": {
      "name": "python3",
      "display_name": "Python 3"
    },
    "language_info": {
      "name": "python"
    }
  },
  "cells": [
    {
      "cell_type": "markdown",
      "metadata": {
        "id": "view-in-github",
        "colab_type": "text"
      },
      "source": [
        "<a href=\"https://colab.research.google.com/github/mrfaizee12/Building-Python-Projects-with-Google-Colab/blob/main/mad_libs_game.ipynb\" target=\"_parent\"><img src=\"https://colab.research.google.com/assets/colab-badge.svg\" alt=\"Open In Colab\"/></a>"
      ]
    },
    {
      "cell_type": "markdown",
      "source": [
        "**Project 1: Mad libs Game In Python**"
      ],
      "metadata": {
        "id": "ETJSrqrGWKyG"
      }
    },
    {
      "cell_type": "code",
      "source": [
        "# Input from user\n",
        "name  = input(\"Enter the boy name: \")\n",
        "programming_language = input(\"Enter a programming language: (e.g: Python, Next.js, TypeScript, HTML, CSS): \")\n",
        "mentor = input(\"Enter the mentor name: \")\n",
        "\n",
        "# Created story\n",
        "print(\"\\nHere is my little story based on the Mad Libs game!\")\n",
        "print(f\"Once upon a time, there was a boy named {name}.\")\n",
        "print(f\"{name} was very curious and always wanted to learn new things.\")\n",
        "print(f\"One day, {name} discovered {programming_language} and was instantly fascinated by it.\")\n",
        "print(f\"He spent hours coding, making small projects, and solving problems.\")\n",
        "print(f\"However, learning alone was not easy. {name} needed guidance and motivation.\")\n",
        "print(f\"That's when {mentor} came into {name}'s life as a mentor.\")\n",
        "print(f\"{mentor} helped {name} understand complex concepts and encouraged him to keep going.\")\n",
        "print(f\"With hard work and dedication, {name} became an expert in {programming_language}.\")\n",
        "print(f\"Now, {name} helps others learn and inspires many to start their own coding journey.\")\n",
        "print(\"And so, the journey of learning and teaching continues!\")\n"
      ],
      "metadata": {
        "colab": {
          "base_uri": "https://localhost:8080/"
        },
        "id": "hBKGGTr8Wq4O",
        "outputId": "d0b97d6c-8b73-49b1-9971-f16829b82a7c"
      },
      "execution_count": null,
      "outputs": [
        {
          "output_type": "stream",
          "name": "stdout",
          "text": [
            "Enter the boy name: Faizan Anjum\n",
            "Enter a programming language: (e.g: Python, Next.js, TypeScript, HTML, CSS): Python\n",
            "Enter the mentor name: Arif Kasim\n",
            "\n",
            "Here is my little story based on the Mad Libs game!\n",
            "Once upon a time, there was a boy named Faizan Anjum.\n",
            "Faizan Anjum was very curious and always wanted to learn new things.\n",
            "One day, Faizan Anjum discovered Python and was instantly fascinated by it.\n",
            "He spent hours coding, making small projects, and solving problems.\n",
            "However, learning alone was not easy. Faizan Anjum needed guidance and motivation.\n",
            "That's when Arif Kasim came into Faizan Anjum's life as a mentor.\n",
            "Arif Kasim helped Faizan Anjum understand complex concepts and encouraged him to keep going.\n",
            "With hard work and dedication, Faizan Anjum became an expert in Python.\n",
            "Now, Faizan Anjum helps others learn and inspires many to start their own coding journey.\n",
            "And so, the journey of learning and teaching continues!\n"
          ]
        }
      ]
    }
  ]
}