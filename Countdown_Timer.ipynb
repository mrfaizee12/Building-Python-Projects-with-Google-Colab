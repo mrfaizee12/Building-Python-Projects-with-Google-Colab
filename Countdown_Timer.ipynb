{
  "nbformat": 4,
  "nbformat_minor": 0,
  "metadata": {
    "colab": {
      "provenance": [],
      "authorship_tag": "ABX9TyNCbayjozeszE7KpG7bP013",
      "include_colab_link": true
    },
    "kernelspec": {
      "name": "python3",
      "display_name": "Python 3"
    },
    "language_info": {
      "name": "python"
    }
  },
  "cells": [
    {
      "cell_type": "markdown",
      "metadata": {
        "id": "view-in-github",
        "colab_type": "text"
      },
      "source": [
        "<a href=\"https://colab.research.google.com/github/mrfaizee12/Building-Python-Projects-with-Google-Colab/blob/main/Countdown_Timer.ipynb\" target=\"_parent\"><img src=\"https://colab.research.google.com/assets/colab-badge.svg\" alt=\"Open In Colab\"/></a>"
      ]
    },
    {
      "cell_type": "markdown",
      "source": [
        "Countdown Timer pro # 06"
      ],
      "metadata": {
        "id": "hJY2r9W_77b3"
      }
    },
    {
      "cell_type": "code",
      "source": [
        "import time\n",
        "import sys\n",
        "\n",
        "def countdown_timer(seconds):\n",
        "    print(\"\\n⏳ Countdown Timer Started!\")\n",
        "\n",
        "    while seconds:\n",
        "        minutes, secs = divmod(seconds, 60)\n",
        "        timer_display = f\"{minutes:02}:{secs:02}\"\n",
        "\n",
        "        # Progress Bar Animation\n",
        "        progress = \"█\" * (10 - seconds % 10) + \"-\" * (seconds % 10)\n",
        "        sys.stdout.write(f\"\\r🕒 Time Left: {timer_display}  [{progress}]\")\n",
        "        sys.stdout.flush()\n",
        "\n",
        "        time.sleep(1)  # Wait for 1 second\n",
        "        seconds -= 1\n",
        "\n",
        "    print(\"\\n🎉 Time's up! 🔔 Beep Beep 🔔\\n\")\n",
        "\n",
        "# Taking user input\n",
        "try:\n",
        "    user_time = int(input(\"⌛ Enter time in seconds: \"))\n",
        "    countdown_timer(user_time)\n",
        "except ValueError:\n",
        "    print(\"❌ Invalid input! Please enter a valid number of seconds.\")\n"
      ],
      "metadata": {
        "colab": {
          "base_uri": "https://localhost:8080/"
        },
        "id": "fjM_7hbi8TKe",
        "outputId": "8da4a048-51e5-4abb-a0a3-33ca9f24e7ab"
      },
      "execution_count": 1,
      "outputs": [
        {
          "output_type": "stream",
          "name": "stdout",
          "text": [
            "⌛ Enter time in seconds: 20\n",
            "\n",
            "⏳ Countdown Timer Started!\n",
            "🕒 Time Left: 00:01  [█████████-]\n",
            "🎉 Time's up! 🔔 Beep Beep 🔔\n",
            "\n"
          ]
        }
      ]
    }
  ]
}