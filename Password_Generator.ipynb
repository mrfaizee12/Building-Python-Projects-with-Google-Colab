{
  "nbformat": 4,
  "nbformat_minor": 0,
  "metadata": {
    "colab": {
      "provenance": [],
      "authorship_tag": "ABX9TyPPd/146iqQ5WCnDAmLUO/n",
      "include_colab_link": true
    },
    "kernelspec": {
      "name": "python3",
      "display_name": "Python 3"
    },
    "language_info": {
      "name": "python"
    }
  },
  "cells": [
    {
      "cell_type": "markdown",
      "metadata": {
        "id": "view-in-github",
        "colab_type": "text"
      },
      "source": [
        "<a href=\"https://colab.research.google.com/github/mrfaizee12/Building-Python-Projects-with-Google-Colab/blob/main/Password_Generator.ipynb\" target=\"_parent\"><img src=\"https://colab.research.google.com/assets/colab-badge.svg\" alt=\"Open In Colab\"/></a>"
      ]
    },
    {
      "cell_type": "markdown",
      "source": [
        "Password Generator pro # 07"
      ],
      "metadata": {
        "id": "FVIVOOB8-tC2"
      }
    },
    {
      "cell_type": "code",
      "source": [
        "import random\n",
        "import string\n",
        "import time\n",
        "import sys\n",
        "\n",
        "def animated_print(text, delay=0.03):\n",
        "    \"\"\"Print text with a typing animation effect.\"\"\"\n",
        "    for char in text:\n",
        "        sys.stdout.write(char)\n",
        "        sys.stdout.flush()\n",
        "        time.sleep(delay)\n",
        "    print()\n",
        "\n",
        "def generate_password(length=12, use_digits=True, use_symbols=True, use_uppercase=True):\n",
        "    \"\"\"Generate a random password based on user preferences.\"\"\"\n",
        "    lower = string.ascii_lowercase\n",
        "    upper = string.ascii_uppercase if use_uppercase else ''\n",
        "    digits = string.digits if use_digits else ''\n",
        "    symbols = string.punctuation if use_symbols else ''\n",
        "\n",
        "    all_chars = lower + upper + digits + symbols\n",
        "    if not all_chars:\n",
        "        animated_print(\"❌ Error: At least one character set must be selected!\")\n",
        "        return None\n",
        "\n",
        "    password = ''.join(random.sample(all_chars, length))\n",
        "    return password\n",
        "\n",
        "def main():\n",
        "    animated_print(\"\\n🔐 Welcome to the Advanced Password Generator!\")\n",
        "\n",
        "    # User chooses strength level\n",
        "    print(\"\\n🛠 Choose Password Strength: \\n1️⃣ Weak (6 characters) \\n2️⃣ Medium (12 characters) \\n3️⃣ Strong (18 characters)\")\n",
        "    strength = input(\"👉 Enter choice (1/2/3): \").strip()\n",
        "\n",
        "    if strength == '1':\n",
        "        length = 6\n",
        "    elif strength == '2':\n",
        "        length = 12\n",
        "    elif strength == '3':\n",
        "        length = 18\n",
        "    else:\n",
        "        animated_print(\"❌ Invalid choice! Defaulting to Medium strength.\")\n",
        "        length = 12\n",
        "\n",
        "    # User preferences\n",
        "    use_digits = input(\"🔢 Include numbers? (y/n): \").strip().lower() == 'y'\n",
        "    use_symbols = input(\"🔣 Include symbols? (y/n): \").strip().lower() == 'y'\n",
        "    use_uppercase = input(\"🔠 Include uppercase letters? (y/n): \").strip().lower() == 'y'\n",
        "\n",
        "    # Generate password\n",
        "    password = generate_password(length, use_digits, use_symbols, use_uppercase)\n",
        "    if password:\n",
        "        animated_print(\"\\n✨ Generating Secure Password...\\n\")\n",
        "        time.sleep(1)\n",
        "        animated_print(f\"✅ Your Password: {password}\")\n",
        "\n",
        "        print(\"📋 Copy this password manually:\", password)\n",
        "\n",
        "\n",
        "# Run the program\n",
        "if __name__ == \"__main__\":\n",
        "    main()\n"
      ],
      "metadata": {
        "colab": {
          "base_uri": "https://localhost:8080/"
        },
        "id": "2q3JEFcm-0en",
        "outputId": "29e2bcef-086a-422e-c35d-a11fa499ecb9"
      },
      "execution_count": 3,
      "outputs": [
        {
          "output_type": "stream",
          "name": "stdout",
          "text": [
            "\n",
            "🔐 Welcome to the Advanced Password Generator!\n",
            "\n",
            "🛠 Choose Password Strength: \n",
            "1️⃣ Weak (6 characters) \n",
            "2️⃣ Medium (12 characters) \n",
            "3️⃣ Strong (18 characters)\n",
            "👉 Enter choice (1/2/3): 2\n",
            "🔢 Include numbers? (y/n): y\n",
            "🔣 Include symbols? (y/n): n\n",
            "🔠 Include uppercase letters? (y/n): y\n",
            "\n",
            "✨ Generating Secure Password...\n",
            "\n",
            "✅ Your Password: 6OxB570IE4uJ\n",
            "📋 Copy this password manually: 6OxB570IE4uJ\n"
          ]
        }
      ]
    }
  ]
}