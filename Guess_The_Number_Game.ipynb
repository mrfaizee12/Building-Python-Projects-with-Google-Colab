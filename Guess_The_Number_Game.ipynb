{
  "nbformat": 4,
  "nbformat_minor": 0,
  "metadata": {
    "colab": {
      "provenance": [],
      "authorship_tag": "ABX9TyMWHQl1qTUg71fhU8DzCu5y",
      "include_colab_link": true
    },
    "kernelspec": {
      "name": "python3",
      "display_name": "Python 3"
    },
    "language_info": {
      "name": "python"
    }
  },
  "cells": [
    {
      "cell_type": "markdown",
      "metadata": {
        "id": "view-in-github",
        "colab_type": "text"
      },
      "source": [
        "<a href=\"https://colab.research.google.com/github/mrfaizee12/Building-Python-Projects-with-Google-Colab/blob/main/Guess_The_Number_Game.ipynb\" target=\"_parent\"><img src=\"https://colab.research.google.com/assets/colab-badge.svg\" alt=\"Open In Colab\"/></a>"
      ]
    },
    {
      "cell_type": "markdown",
      "source": [
        "Guess The Number Game (computer) pro # 02"
      ],
      "metadata": {
        "id": "xR9cdIyPqBZG"
      }
    },
    {
      "cell_type": "code",
      "source": [
        "import random\n",
        "\n",
        "def guess_the_number():\n",
        "    print(\"🎮 Welcome to the 'Guess the Number' Game!\")\n",
        "    print(\"I have chosen a number between 1 and 10. You have only 3 attempts to guess it!\")\n",
        "\n",
        "    secret_number = random.randint(1, 10)  # Random number between 1-10\n",
        "    attempts = 3  # Max attempts\n",
        "\n",
        "    for attempt in range(attempts):\n",
        "        print(f\"\\nAttempt {attempt + 1} of {attempts}: Enter your guess (1-10):\")\n",
        "\n",
        "        # Google Colab ke liye input ko handle karne ka tarika\n",
        "        try:\n",
        "            guess = int(input())\n",
        "        except:\n",
        "            print(\"❌ Invalid input! Please enter a number.\")\n",
        "            continue  # Dubara input lene ke liye loop continue karein\n",
        "\n",
        "        if guess < 1 or guess > 10:\n",
        "            print(\"❌ Please enter a number between 1 and 10 only!\")\n",
        "            continue\n",
        "\n",
        "        if guess < secret_number:\n",
        "            print(\"⬆️ Too low! Try a bigger number.\")\n",
        "        elif guess > secret_number:\n",
        "            print(\"⬇️ Too high! Try a smaller number.\")\n",
        "        else:\n",
        "            print(f\"🎉 Congrats! You guessed it right. The number was {secret_number}!\")\n",
        "            return  # Game exit kar dein\n",
        "\n",
        "    print(f\"\\n😢 Oh no! You ran out of attempts. The correct number was {secret_number}. Better luck next time!\")\n",
        "\n",
        "# Start the game\n",
        "guess_the_number()\n"
      ],
      "metadata": {
        "colab": {
          "base_uri": "https://localhost:8080/"
        },
        "id": "FThSe-vVrwdu",
        "outputId": "22f43d5d-7a6c-4553-c22a-e15f3f2abdd7"
      },
      "execution_count": null,
      "outputs": [
        {
          "output_type": "stream",
          "name": "stdout",
          "text": [
            "🎮 Welcome to the 'Guess the Number' Game!\n",
            "I have chosen a number between 1 and 10. You have only 3 attempts to guess it!\n",
            "\n",
            "Attempt 1 of 3: Enter your guess (1-10):\n",
            "6\n",
            "⬇️ Too high! Try a smaller number.\n",
            "\n",
            "Attempt 2 of 3: Enter your guess (1-10):\n",
            "9\n",
            "⬇️ Too high! Try a smaller number.\n",
            "\n",
            "Attempt 3 of 3: Enter your guess (1-10):\n",
            "4\n",
            "🎉 Congrats! You guessed it right. The number was 4!\n"
          ]
        }
      ]
    }
  ]
}